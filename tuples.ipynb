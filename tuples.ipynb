{
 "cells": [
  {
   "cell_type": "code",
   "execution_count": 2,
   "id": "3f1a0d48",
   "metadata": {},
   "outputs": [
    {
     "name": "stdout",
     "output_type": "stream",
     "text": [
      "(1, 2, 3, 4, 5)\n"
     ]
    },
    {
     "data": {
      "text/plain": [
       "tuple"
      ]
     },
     "execution_count": 2,
     "metadata": {},
     "output_type": "execute_result"
    }
   ],
   "source": [
    "# Tuples can be declared in two ways.\n",
    "my_Tuple = (1, 2, 3, 4, 5)  # way 1\n",
    "print(my_Tuple)\n",
    "type(my_Tuple)"
   ]
  },
  {
   "cell_type": "code",
   "execution_count": 3,
   "id": "ba19b126",
   "metadata": {},
   "outputs": [
    {
     "name": "stdout",
     "output_type": "stream",
     "text": [
      "(1, 2, 3, 4, 5)\n"
     ]
    },
    {
     "data": {
      "text/plain": [
       "tuple"
      ]
     },
     "execution_count": 3,
     "metadata": {},
     "output_type": "execute_result"
    }
   ],
   "source": [
    "my_Tuple2 = 1, 2, 3, 4, 5,   # way 2\n",
    "print(my_Tuple2)\n",
    "type(my_Tuple2)"
   ]
  },
  {
   "cell_type": "code",
   "execution_count": 6,
   "id": "c95b3bcf",
   "metadata": {},
   "outputs": [
    {
     "name": "stdout",
     "output_type": "stream",
     "text": [
      "size of list is 80, and size of tuple is 64.\n"
     ]
    }
   ],
   "source": [
    "# Comparing Lists with tuples\n",
    "my_List = ['Men','Index', 1, 2, 3]\n",
    "my_tuple = ('Men', 'Index', 1, 2, 3)\n",
    "\n",
    "a = my_tuple.__sizeof__() # get tuple size\n",
    "b = my_List.__sizeof__() #vget list size\n",
    "\n",
    "print('size of list is {}, and size of tuple is {}.'.format(b,a))"
   ]
  },
  {
   "cell_type": "code",
   "execution_count": 7,
   "id": "61565614",
   "metadata": {},
   "outputs": [
    {
     "name": "stdout",
     "output_type": "stream",
     "text": [
      "The Index of Men is 0.\n"
     ]
    }
   ],
   "source": [
    "# grabbing tuple elements\n",
    "\n",
    "A = my_tuple[0]\n",
    "B = my_tuple[1]\n",
    "print('The {} of {} is 0.'.format(B,A))"
   ]
  },
  {
   "cell_type": "code",
   "execution_count": 8,
   "id": "07b15e75",
   "metadata": {},
   "outputs": [
    {
     "name": "stdout",
     "output_type": "stream",
     "text": [
      "Daniel\n",
      "Dean\n",
      "James\n"
     ]
    }
   ],
   "source": [
    "# Tuple packing and unpacking\n",
    "\n",
    "Tuple = 'Daniel', 'Dean', 'James' # Tuple packing\n",
    "\n",
    "[Name1, Name2, Name3] = Tuple # Tuple unpacking\n",
    "\n",
    "print(Name1)\n",
    "print(Name2)\n",
    "print(Name3)\n",
    "\n"
   ]
  },
  {
   "cell_type": "code",
   "execution_count": 10,
   "id": "ecf714e2",
   "metadata": {},
   "outputs": [
    {
     "name": "stdout",
     "output_type": "stream",
     "text": [
      "Name :  James\n",
      "Age :  22\n"
     ]
    }
   ],
   "source": [
    "# Collecting data with tuples\n",
    "\n",
    "User_Info = (('Name', 'James'), ('Age', 22)) # Nested tuple\n",
    "\n",
    "A,B = User_Info[0] # Inner Tuple unpacking\n",
    "\n",
    "C,D = User_Info[1] # Inner Tuple unpacking\n",
    "print(A, ': ',B)\n",
    "print(C, ': ',D)\n"
   ]
  }
 ],
 "metadata": {
  "kernelspec": {
   "display_name": "Python 3 (ipykernel)",
   "language": "python",
   "name": "python3"
  },
  "language_info": {
   "codemirror_mode": {
    "name": "ipython",
    "version": 3
   },
   "file_extension": ".py",
   "mimetype": "text/x-python",
   "name": "python",
   "nbconvert_exporter": "python",
   "pygments_lexer": "ipython3",
   "version": "3.8.10"
  }
 },
 "nbformat": 4,
 "nbformat_minor": 5
}
