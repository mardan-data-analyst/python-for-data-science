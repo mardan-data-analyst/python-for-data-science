{
 "cells": [
  {
   "cell_type": "code",
   "execution_count": 1,
   "id": "80a0b06c",
   "metadata": {},
   "outputs": [],
   "source": [
    "import numpy as np\n",
    "from IPython.core.interactiveshell import InteractiveShell\n",
    "InteractiveShell.ast_node_interactivity = 'all'"
   ]
  },
  {
   "cell_type": "code",
   "execution_count": 7,
   "id": "be252ab9",
   "metadata": {},
   "outputs": [
    {
     "data": {
      "text/plain": [
       "array([[0, 1, 2, 3, 4],\n",
       "       [5, 6, 7, 8, 9]])"
      ]
     },
     "execution_count": 7,
     "metadata": {},
     "output_type": "execute_result"
    },
    {
     "data": {
      "text/plain": [
       "array([[-0.1638077 ,  0.6965274 ,  0.33986262, -1.61551626,  0.01472644],\n",
       "       [ 0.27431344, -0.17944164, -1.53719655, -0.15355153,  1.535912  ]])"
      ]
     },
     "execution_count": 7,
     "metadata": {},
     "output_type": "execute_result"
    },
    {
     "name": "stdout",
     "output_type": "stream",
     "text": [
      "Addition:\n"
     ]
    },
    {
     "data": {
      "text/plain": [
       "array([[-0.1638077 ,  1.6965274 ,  2.33986262,  1.38448374,  4.01472644],\n",
       "       [ 5.27431344,  5.82055836,  5.46280345,  7.84644847, 10.535912  ]])"
      ]
     },
     "execution_count": 7,
     "metadata": {},
     "output_type": "execute_result"
    },
    {
     "name": "stdout",
     "output_type": "stream",
     "text": [
      "Subtraction:\n"
     ]
    },
    {
     "data": {
      "text/plain": [
       "array([[0.1638077 , 0.3034726 , 1.66013738, 4.61551626, 3.98527356],\n",
       "       [4.72568656, 6.17944164, 8.53719655, 8.15355153, 7.464088  ]])"
      ]
     },
     "execution_count": 7,
     "metadata": {},
     "output_type": "execute_result"
    },
    {
     "name": "stdout",
     "output_type": "stream",
     "text": [
      "Multiplication:\n"
     ]
    },
    {
     "data": {
      "text/plain": [
       "array([[ -0.        ,   0.6965274 ,   0.67972523,  -4.84654877,\n",
       "          0.05890576],\n",
       "       [  1.37156718,  -1.07664985, -10.76037587,  -1.22841224,\n",
       "         13.82320803]])"
      ]
     },
     "execution_count": 7,
     "metadata": {},
     "output_type": "execute_result"
    },
    {
     "name": "stdout",
     "output_type": "stream",
     "text": [
      "Division:\n"
     ]
    },
    {
     "data": {
      "text/plain": [
       "array([[ -0.        ,   1.43569371,   5.8847308 ,  -1.85699152,\n",
       "        271.62031518],\n",
       "       [ 18.2273244 , -33.43705486,  -4.55374427, -52.09977379,\n",
       "          5.8597107 ]])"
      ]
     },
     "execution_count": 7,
     "metadata": {},
     "output_type": "execute_result"
    }
   ],
   "source": [
    "# Array - Array operations\n",
    "# Declaring two arrays of 10 elements\n",
    "\n",
    "Array1 = np.arange(10).reshape(2,5)\n",
    "Array2 = np.random.randn(10).reshape(2,5)\n",
    "Array1; Array2                              # Show the arrays\n",
    "\n",
    "# Addition\n",
    "Array_sum = Array1 + Array2\n",
    "print('Addition:')\n",
    "Array_sum                                   # Show result array\n",
    "\n",
    "# Subtraction\n",
    "Array_minus = Array1 - Array2\n",
    "print('Subtraction:')\n",
    "Array_minus                                 # Show\n",
    "\n",
    "# Multiplication\n",
    "\n",
    "Array_product = Array1 * Array2\n",
    "print('Multiplication:')\n",
    "Array_product                               # Show\n",
    "\n",
    "# Division\n",
    "\n",
    "Array_divide = Array1 / Array2\n",
    "print('Divisio')\n",
    "Array_divide                                # Show"
   ]
  },
  {
   "cell_type": "code",
   "execution_count": null,
   "id": "a4077178",
   "metadata": {},
   "outputs": [],
   "source": [
    "# Array - Scalar operations"
   ]
  },
  {
   "cell_type": "code",
   "execution_count": 19,
   "id": "6918faee",
   "metadata": {},
   "outputs": [
    {
     "name": "stdout",
     "output_type": "stream",
     "text": [
      "New_array:\n"
     ]
    },
    {
     "data": {
      "text/plain": [
       "array([ 0,  1,  2,  3,  4,  5,  6,  7,  8,  9, 10])"
      ]
     },
     "execution_count": 19,
     "metadata": {},
     "output_type": "execute_result"
    },
    {
     "name": "stdout",
     "output_type": "stream",
     "text": [
      "\n",
      "Add_array\n"
     ]
    },
    {
     "data": {
      "text/plain": [
       "array([100, 101, 102, 103, 104, 105, 106, 107, 108, 109, 110])"
      ]
     },
     "execution_count": 19,
     "metadata": {},
     "output_type": "execute_result"
    },
    {
     "name": "stdout",
     "output_type": "stream",
     "text": [
      "\n",
      "Centurion\n"
     ]
    },
    {
     "data": {
      "text/plain": [
       "array([100, 100, 100, 100, 100, 100, 100, 100, 100, 100, 100])"
      ]
     },
     "execution_count": 19,
     "metadata": {},
     "output_type": "execute_result"
    },
    {
     "data": {
      "text/plain": [
       "array([   0,  100,  200,  300,  400,  500,  600,  700,  800,  900, 1000])"
      ]
     },
     "execution_count": 19,
     "metadata": {},
     "output_type": "execute_result"
    },
    {
     "name": "stdout",
     "output_type": "stream",
     "text": [
      "\n",
      "Error_vec\n"
     ]
    },
    {
     "name": "stderr",
     "output_type": "stream",
     "text": [
      "/tmp/ipykernel_4363/4138118655.py:23: RuntimeWarning: invalid value encountered in true_divide\n",
      "  err_vec = new_array / new_array\n"
     ]
    },
    {
     "data": {
      "text/plain": [
       "array([nan,  1.,  1.,  1.,  1.,  1.,  1.,  1.,  1.,  1.,  1.])"
      ]
     },
     "execution_count": 19,
     "metadata": {},
     "output_type": "execute_result"
    }
   ],
   "source": [
    "# Scalar - Array operations\n",
    "new_array = np.arange(0,11) # Array of values from 0-10\n",
    "print('New_array:')\n",
    "new_array                   # Show\n",
    "Sc = 100                    # Scalar value\n",
    "\n",
    "# let us make an array with a range from 100 - 110 (using + )\n",
    "add_array = new_array + Sc   # Adding 100 to every item\n",
    "print('\\nAdd_array')\n",
    "add_array                    # Show\n",
    "\n",
    "# Let us make an array of 100s (using -)\n",
    "centurion = add_array - new_array\n",
    "print('\\nCenturion')\n",
    "centurion                     # Show\n",
    "\n",
    "# Let us do some multiplication (using *)\n",
    "multiplex = new_array * 100\n",
    "multiplex                     # Show\n",
    "\n",
    "# division [take care], let us deliberately generate an error. We will do a divide by Zero\n",
    "\n",
    "err_vec = new_array / new_array\n",
    "print('\\nError_vec')\n",
    "err_vec                        # Show"
   ]
  },
  {
   "cell_type": "code",
   "execution_count": null,
   "id": "cf9a33c2",
   "metadata": {},
   "outputs": [],
   "source": []
  }
 ],
 "metadata": {
  "kernelspec": {
   "display_name": "Python 3 (ipykernel)",
   "language": "python",
   "name": "python3"
  },
  "language_info": {
   "codemirror_mode": {
    "name": "ipython",
    "version": 3
   },
   "file_extension": ".py",
   "mimetype": "text/x-python",
   "name": "python",
   "nbconvert_exporter": "python",
   "pygments_lexer": "ipython3",
   "version": "3.8.10"
  }
 },
 "nbformat": 4,
 "nbformat_minor": 5
}
