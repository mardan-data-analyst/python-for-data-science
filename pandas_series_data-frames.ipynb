{
 "cells": [
  {
   "cell_type": "code",
   "execution_count": 2,
   "id": "914962f0",
   "metadata": {},
   "outputs": [],
   "source": [
    "import numpy as np\n",
    "import pandas as pd\n",
    "from IPython.core.interactiveshell import InteractiveShell\n",
    "InteractiveShell.ast_node_interactivity = 'all'"
   ]
  },
  {
   "cell_type": "code",
   "execution_count": 3,
   "id": "bf73f787",
   "metadata": {},
   "outputs": [
    {
     "name": "stdout",
     "output_type": "stream",
     "text": [
      "Default values\n"
     ]
    },
    {
     "data": {
      "text/plain": [
       "0    10\n",
       "1    31\n",
       "2    10\n",
       "dtype: int64"
      ]
     },
     "execution_count": 3,
     "metadata": {},
     "output_type": "execute_result"
    },
    {
     "name": "stdout",
     "output_type": "stream",
     "text": [
      "\n",
      "Print numeric list and label\n"
     ]
    },
    {
     "data": {
      "text/plain": [
       "First     10\n",
       "Second    31\n",
       "Third     10\n",
       "dtype: int64"
      ]
     },
     "execution_count": 3,
     "metadata": {},
     "output_type": "execute_result"
    },
    {
     "name": "stdout",
     "output_type": "stream",
     "text": [
      "\n",
      "Using python arrays and labels\n"
     ]
    },
    {
     "data": {
      "text/plain": [
       "First     10\n",
       "Second    20\n",
       "Third     30\n",
       "dtype: int64"
      ]
     },
     "execution_count": 3,
     "metadata": {},
     "output_type": "execute_result"
    },
    {
     "name": "stdout",
     "output_type": "stream",
     "text": [
      "\n",
      " Passing a dictionary\n"
     ]
    },
    {
     "data": {
      "text/plain": [
       "First     10\n",
       "Second    20\n",
       "Third     30\n",
       "dtype: int64"
      ]
     },
     "execution_count": 3,
     "metadata": {},
     "output_type": "execute_result"
    }
   ],
   "source": [
    "labels = ['First','Second', 'Third']                 # string list\n",
    "values = [10,31,10]                                  # numeric list\n",
    "array = np.arange(10,31,10)                         # numpy array\n",
    "dico = {'First':10,'Second':20,'Third':30}           # Python dictionary\n",
    "\n",
    "# create various series\n",
    "A = pd.Series(values)\n",
    "print('Default values')\n",
    "A                                                    # show\n",
    "\n",
    "B = pd.Series(values,labels)\n",
    "print('\\nPrint numeric list and label') \n",
    "B                                                    # show\n",
    "\n",
    "C = pd.Series(array,labels)\n",
    "print('\\nUsing python arrays and labels')\n",
    "C                                                    # show\n",
    "\n",
    "D = pd.Series(dico)\n",
    "print('\\n Passing a dictionary')\n",
    "D                                                    # show "
   ]
  },
  {
   "cell_type": "code",
   "execution_count": 4,
   "id": "d57a0b63",
   "metadata": {},
   "outputs": [
    {
     "data": {
      "text/plain": [
       "10     First\n",
       "31    Second\n",
       "10     Third\n",
       "dtype: object"
      ]
     },
     "execution_count": 4,
     "metadata": {},
     "output_type": "execute_result"
    }
   ],
   "source": [
    "pd.Series(labels, values)"
   ]
  },
  {
   "cell_type": "code",
   "execution_count": 5,
   "id": "34310999",
   "metadata": {},
   "outputs": [
    {
     "data": {
      "text/plain": [
       "USA        1\n",
       "Britain    2\n",
       "France     3\n",
       "Germany    4\n",
       "dtype: int64"
      ]
     },
     "execution_count": 5,
     "metadata": {},
     "output_type": "execute_result"
    },
    {
     "name": "stdout",
     "output_type": "stream",
     "text": [
      "grabbing the first element\n"
     ]
    },
    {
     "data": {
      "text/plain": [
       "1"
      ]
     },
     "execution_count": 5,
     "metadata": {},
     "output_type": "execute_result"
    }
   ],
   "source": [
    "# Series of WWII countries\n",
    "\n",
    "pool1 = pd.Series([1,2,3,4],['USA','Britain','France','Germany'])\n",
    "pool1                                                             # show\n",
    "print('grabbing the first element')\n",
    "pool1['USA']"
   ]
  },
  {
   "cell_type": "code",
   "execution_count": 6,
   "id": "51f1b5b3",
   "metadata": {},
   "outputs": [
    {
     "data": {
      "text/plain": [
       "1        USA\n",
       "2    Britain\n",
       "3     France\n",
       "4    Germany\n",
       "dtype: object"
      ]
     },
     "execution_count": 6,
     "metadata": {},
     "output_type": "execute_result"
    },
    {
     "name": "stdout",
     "output_type": "stream",
     "text": [
      "grabbing the first element\n"
     ]
    },
    {
     "data": {
      "text/plain": [
       "'USA'"
      ]
     },
     "execution_count": 6,
     "metadata": {},
     "output_type": "execute_result"
    }
   ],
   "source": [
    "pool2 = pd.Series(['USA','Britain', 'France','Germany'],[1,2,3,4])\n",
    "pool2                                                              # show\n",
    "print('grabbing the first element')\n",
    "pool2[1]"
   ]
  },
  {
   "cell_type": "code",
   "execution_count": 7,
   "id": "e2956bee",
   "metadata": {},
   "outputs": [
    {
     "data": {
      "text/plain": [
       "USA        1\n",
       "USSR       5\n",
       "France     3\n",
       "Germany    4\n",
       "dtype: int64"
      ]
     },
     "execution_count": 7,
     "metadata": {},
     "output_type": "execute_result"
    }
   ],
   "source": [
    "pool3 = pd.Series([1,5,3,4],['USA', 'USSR','France','Germany'])\n",
    "pool3"
   ]
  },
  {
   "cell_type": "code",
   "execution_count": 8,
   "id": "854ce0e2",
   "metadata": {},
   "outputs": [
    {
     "name": "stdout",
     "output_type": "stream",
     "text": [
      "Double Pool\n"
     ]
    },
    {
     "data": {
      "text/plain": [
       "USA        2\n",
       "Britain    4\n",
       "France     6\n",
       "Germany    8\n",
       "dtype: int64"
      ]
     },
     "execution_count": 8,
     "metadata": {},
     "output_type": "execute_result"
    },
    {
     "name": "stdout",
     "output_type": "stream",
     "text": [
      "\n",
      "Mixed Pool\n"
     ]
    },
    {
     "data": {
      "text/plain": [
       "Britain    NaN\n",
       "France     6.0\n",
       "Germany    8.0\n",
       "USA        2.0\n",
       "USSR       NaN\n",
       "dtype: float64"
      ]
     },
     "execution_count": 8,
     "metadata": {},
     "output_type": "execute_result"
    },
    {
     "name": "stdout",
     "output_type": "stream",
     "text": [
      "\n",
      "Funny Pool\n"
     ]
    },
    {
     "data": {
      "text/plain": [
       "1          NaN\n",
       "2          NaN\n",
       "3          NaN\n",
       "4          NaN\n",
       "Britain    NaN\n",
       "France     NaN\n",
       "Germany    NaN\n",
       "USA        NaN\n",
       "dtype: object"
      ]
     },
     "execution_count": 8,
     "metadata": {},
     "output_type": "execute_result"
    }
   ],
   "source": [
    "# Denonstrating series addition\n",
    "\n",
    "double_pool = pool1 + pool1\n",
    "print('Double Pool')\n",
    "double_pool\n",
    "\n",
    "mixed_pool = pool1 + pool3\n",
    "print('\\nMixed Pool')\n",
    "mixed_pool\n",
    "\n",
    "funny_pool = pool1 + pool2\n",
    "print('\\nFunny Pool')\n",
    "funny_pool"
   ]
  },
  {
   "cell_type": "code",
   "execution_count": 9,
   "id": "69b1dde6",
   "metadata": {},
   "outputs": [
    {
     "data": {
      "text/html": [
       "<div>\n",
       "<style scoped>\n",
       "    .dataframe tbody tr th:only-of-type {\n",
       "        vertical-align: middle;\n",
       "    }\n",
       "\n",
       "    .dataframe tbody tr th {\n",
       "        vertical-align: top;\n",
       "    }\n",
       "\n",
       "    .dataframe thead th {\n",
       "        text-align: right;\n",
       "    }\n",
       "</style>\n",
       "<table border=\"1\" class=\"dataframe\">\n",
       "  <thead>\n",
       "    <tr style=\"text-align: right;\">\n",
       "      <th></th>\n",
       "      <th>USA</th>\n",
       "      <th>Britain</th>\n",
       "      <th>France</th>\n",
       "      <th>Germany</th>\n",
       "    </tr>\n",
       "  </thead>\n",
       "  <tbody>\n",
       "    <tr>\n",
       "      <th>0</th>\n",
       "      <td>1</td>\n",
       "      <td>2</td>\n",
       "      <td>3</td>\n",
       "      <td>4</td>\n",
       "    </tr>\n",
       "  </tbody>\n",
       "</table>\n",
       "</div>"
      ],
      "text/plain": [
       "   USA  Britain  France  Germany\n",
       "0    1        2       3        4"
      ]
     },
     "execution_count": 9,
     "metadata": {},
     "output_type": "execute_result"
    },
    {
     "data": {
      "text/html": [
       "<div>\n",
       "<style scoped>\n",
       "    .dataframe tbody tr th:only-of-type {\n",
       "        vertical-align: middle;\n",
       "    }\n",
       "\n",
       "    .dataframe tbody tr th {\n",
       "        vertical-align: top;\n",
       "    }\n",
       "\n",
       "    .dataframe thead th {\n",
       "        text-align: right;\n",
       "    }\n",
       "</style>\n",
       "<table border=\"1\" class=\"dataframe\">\n",
       "  <thead>\n",
       "    <tr style=\"text-align: right;\">\n",
       "      <th></th>\n",
       "      <th>USA</th>\n",
       "      <th>Britain</th>\n",
       "      <th>France</th>\n",
       "      <th>Germany</th>\n",
       "      <th>USSR</th>\n",
       "    </tr>\n",
       "  </thead>\n",
       "  <tbody>\n",
       "    <tr>\n",
       "      <th>WWI</th>\n",
       "      <td>1.0</td>\n",
       "      <td>2.0</td>\n",
       "      <td>3.0</td>\n",
       "      <td>4.0</td>\n",
       "      <td>NaN</td>\n",
       "    </tr>\n",
       "    <tr>\n",
       "      <th>WWII</th>\n",
       "      <td>1.0</td>\n",
       "      <td>NaN</td>\n",
       "      <td>3.0</td>\n",
       "      <td>4.0</td>\n",
       "      <td>5.0</td>\n",
       "    </tr>\n",
       "  </tbody>\n",
       "</table>\n",
       "</div>"
      ],
      "text/plain": [
       "      USA  Britain  France  Germany  USSR\n",
       "WWI   1.0      2.0     3.0      4.0   NaN\n",
       "WWII  1.0      NaN     3.0      4.0   5.0"
      ]
     },
     "execution_count": 9,
     "metadata": {},
     "output_type": "execute_result"
    }
   ],
   "source": [
    "df = pd.DataFrame([pool1])  # passing a series\n",
    "df                          # show\n",
    "\n",
    "# two series\n",
    "index = 'WWI WWII'.split()\n",
    "new_df = pd.DataFrame([pool1,pool3],index)\n",
    "new_df                      # show"
   ]
  },
  {
   "cell_type": "code",
   "execution_count": 10,
   "id": "01f3342a",
   "metadata": {},
   "outputs": [
    {
     "data": {
      "text/plain": [
       "['pythonguy', 'gmail.com']"
      ]
     },
     "execution_count": 10,
     "metadata": {},
     "output_type": "execute_result"
    },
    {
     "name": "stdout",
     "output_type": "stream",
     "text": [
      "Username: pythonguy \n",
      "Domain name: gmail.com\n"
     ]
    }
   ],
   "source": [
    "# Illustrating the split() method\n",
    "\n",
    "email = 'pythonguy@gmail.com'\n",
    "string_vec = email.split('@')\n",
    "string_vec                            # show\n",
    "A = string_vec[0]; B = string_vec[1]  # Extracting values \n",
    "print('Username:',A,'\\nDomain name:',B)"
   ]
  },
  {
   "cell_type": "code",
   "execution_count": 11,
   "id": "d531e116",
   "metadata": {},
   "outputs": [
    {
     "data": {
      "text/html": [
       "<div>\n",
       "<style scoped>\n",
       "    .dataframe tbody tr th:only-of-type {\n",
       "        vertical-align: middle;\n",
       "    }\n",
       "\n",
       "    .dataframe tbody tr th {\n",
       "        vertical-align: top;\n",
       "    }\n",
       "\n",
       "    .dataframe thead th {\n",
       "        text-align: right;\n",
       "    }\n",
       "</style>\n",
       "<table border=\"1\" class=\"dataframe\">\n",
       "  <thead>\n",
       "    <tr style=\"text-align: right;\">\n",
       "      <th></th>\n",
       "      <th>odd1</th>\n",
       "      <th>even1</th>\n",
       "      <th>odd2</th>\n",
       "      <th>even2</th>\n",
       "    </tr>\n",
       "  </thead>\n",
       "  <tbody>\n",
       "    <tr>\n",
       "      <th>A</th>\n",
       "      <td>1</td>\n",
       "      <td>2</td>\n",
       "      <td>3</td>\n",
       "      <td>4</td>\n",
       "    </tr>\n",
       "    <tr>\n",
       "      <th>B</th>\n",
       "      <td>5</td>\n",
       "      <td>6</td>\n",
       "      <td>7</td>\n",
       "      <td>8</td>\n",
       "    </tr>\n",
       "    <tr>\n",
       "      <th>C</th>\n",
       "      <td>9</td>\n",
       "      <td>10</td>\n",
       "      <td>11</td>\n",
       "      <td>12</td>\n",
       "    </tr>\n",
       "    <tr>\n",
       "      <th>D</th>\n",
       "      <td>13</td>\n",
       "      <td>14</td>\n",
       "      <td>15</td>\n",
       "      <td>16</td>\n",
       "    </tr>\n",
       "    <tr>\n",
       "      <th>E</th>\n",
       "      <td>17</td>\n",
       "      <td>18</td>\n",
       "      <td>19</td>\n",
       "      <td>20</td>\n",
       "    </tr>\n",
       "  </tbody>\n",
       "</table>\n",
       "</div>"
      ],
      "text/plain": [
       "   odd1  even1  odd2  even2\n",
       "A     1      2     3      4\n",
       "B     5      6     7      8\n",
       "C     9     10    11     12\n",
       "D    13     14    15     16\n",
       "E    17     18    19     20"
      ]
     },
     "execution_count": 11,
     "metadata": {},
     "output_type": "execute_result"
    }
   ],
   "source": [
    "# Create dataframe with an array\n",
    "\n",
    "Array = np.arange(1,21).reshape(5,4) # numpy array\n",
    "row_labels = 'A B C D E'.split()\n",
    "col_labels = 'odd1 even1 odd2 even2'.split()\n",
    "Arr_df = pd.DataFrame(Array,row_labels,col_labels)\n",
    "Arr_df"
   ]
  },
  {
   "cell_type": "code",
   "execution_count": 12,
   "id": "c711cbcc",
   "metadata": {},
   "outputs": [],
   "source": [
    "# Exercise"
   ]
  },
  {
   "cell_type": "code",
   "execution_count": 13,
   "id": "5df08e0a",
   "metadata": {},
   "outputs": [
    {
     "data": {
      "text/plain": [
       "array([[-1.15125443,  0.66050122,  1.01715444, -1.1518819 ],\n",
       "       [ 0.07379146, -0.52524698,  1.22576774,  2.33405602],\n",
       "       [-1.30649245,  0.94594848, -0.66786871,  1.38659924],\n",
       "       [-0.28610799, -0.46468194, -0.92983412, -1.71468165],\n",
       "       [-0.82088732, -0.18991151, -0.16565957,  1.99436313]])"
      ]
     },
     "execution_count": 13,
     "metadata": {},
     "output_type": "execute_result"
    },
    {
     "data": {
      "text/html": [
       "<div>\n",
       "<style scoped>\n",
       "    .dataframe tbody tr th:only-of-type {\n",
       "        vertical-align: middle;\n",
       "    }\n",
       "\n",
       "    .dataframe tbody tr th {\n",
       "        vertical-align: top;\n",
       "    }\n",
       "\n",
       "    .dataframe thead th {\n",
       "        text-align: right;\n",
       "    }\n",
       "</style>\n",
       "<table border=\"1\" class=\"dataframe\">\n",
       "  <thead>\n",
       "    <tr style=\"text-align: right;\">\n",
       "      <th></th>\n",
       "      <th>Column-1</th>\n",
       "      <th>Column-2</th>\n",
       "      <th>Column-3</th>\n",
       "      <th>Column-4</th>\n",
       "    </tr>\n",
       "  </thead>\n",
       "  <tbody>\n",
       "    <tr>\n",
       "      <th>Row-1</th>\n",
       "      <td>-1.151254</td>\n",
       "      <td>0.660501</td>\n",
       "      <td>1.017154</td>\n",
       "      <td>-1.151882</td>\n",
       "    </tr>\n",
       "    <tr>\n",
       "      <th>Row-2</th>\n",
       "      <td>0.073791</td>\n",
       "      <td>-0.525247</td>\n",
       "      <td>1.225768</td>\n",
       "      <td>2.334056</td>\n",
       "    </tr>\n",
       "    <tr>\n",
       "      <th>Row-3</th>\n",
       "      <td>-1.306492</td>\n",
       "      <td>0.945948</td>\n",
       "      <td>-0.667869</td>\n",
       "      <td>1.386599</td>\n",
       "    </tr>\n",
       "    <tr>\n",
       "      <th>Row-4</th>\n",
       "      <td>-0.286108</td>\n",
       "      <td>-0.464682</td>\n",
       "      <td>-0.929834</td>\n",
       "      <td>-1.714682</td>\n",
       "    </tr>\n",
       "    <tr>\n",
       "      <th>Row-5</th>\n",
       "      <td>-0.820887</td>\n",
       "      <td>-0.189912</td>\n",
       "      <td>-0.165660</td>\n",
       "      <td>1.994363</td>\n",
       "    </tr>\n",
       "  </tbody>\n",
       "</table>\n",
       "</div>"
      ],
      "text/plain": [
       "       Column-1  Column-2  Column-3  Column-4\n",
       "Row-1 -1.151254  0.660501  1.017154 -1.151882\n",
       "Row-2  0.073791 -0.525247  1.225768  2.334056\n",
       "Row-3 -1.306492  0.945948 -0.667869  1.386599\n",
       "Row-4 -0.286108 -0.464682 -0.929834 -1.714682\n",
       "Row-5 -0.820887 -0.189912 -0.165660  1.994363"
      ]
     },
     "execution_count": 13,
     "metadata": {},
     "output_type": "execute_result"
    }
   ],
   "source": [
    "random_array = np.random.randn(20).reshape(5,4)\n",
    "random_array\n",
    "row_names = 'Row-1 Row-2 Row-3 Row-4 Row-5'.split()\n",
    "col_names = 'Column-1,Column-2,Column-3,Column-4'.split(',')\n",
    "my_df = pd.DataFrame(random_array,row_names,col_names)\n",
    "my_df"
   ]
  },
  {
   "cell_type": "code",
   "execution_count": 14,
   "id": "ce6342c0",
   "metadata": {},
   "outputs": [],
   "source": [
    "# Grab data frame elements"
   ]
  },
  {
   "cell_type": "code",
   "execution_count": 15,
   "id": "da333f53",
   "metadata": {},
   "outputs": [
    {
     "data": {
      "text/plain": [
       "A     1\n",
       "B     5\n",
       "C     9\n",
       "D    13\n",
       "E    17\n",
       "Name: odd1, dtype: int64"
      ]
     },
     "execution_count": 15,
     "metadata": {},
     "output_type": "execute_result"
    }
   ],
   "source": [
    "Arr_df['odd1']                             # grabbing first column"
   ]
  },
  {
   "cell_type": "code",
   "execution_count": 16,
   "id": "790bc000",
   "metadata": {},
   "outputs": [
    {
     "data": {
      "text/html": [
       "<div>\n",
       "<style scoped>\n",
       "    .dataframe tbody tr th:only-of-type {\n",
       "        vertical-align: middle;\n",
       "    }\n",
       "\n",
       "    .dataframe tbody tr th {\n",
       "        vertical-align: top;\n",
       "    }\n",
       "\n",
       "    .dataframe thead th {\n",
       "        text-align: right;\n",
       "    }\n",
       "</style>\n",
       "<table border=\"1\" class=\"dataframe\">\n",
       "  <thead>\n",
       "    <tr style=\"text-align: right;\">\n",
       "      <th></th>\n",
       "      <th>odd1</th>\n",
       "      <th>even2</th>\n",
       "    </tr>\n",
       "  </thead>\n",
       "  <tbody>\n",
       "    <tr>\n",
       "      <th>A</th>\n",
       "      <td>1</td>\n",
       "      <td>4</td>\n",
       "    </tr>\n",
       "    <tr>\n",
       "      <th>B</th>\n",
       "      <td>5</td>\n",
       "      <td>8</td>\n",
       "    </tr>\n",
       "    <tr>\n",
       "      <th>C</th>\n",
       "      <td>9</td>\n",
       "      <td>12</td>\n",
       "    </tr>\n",
       "    <tr>\n",
       "      <th>D</th>\n",
       "      <td>13</td>\n",
       "      <td>16</td>\n",
       "    </tr>\n",
       "    <tr>\n",
       "      <th>E</th>\n",
       "      <td>17</td>\n",
       "      <td>20</td>\n",
       "    </tr>\n",
       "  </tbody>\n",
       "</table>\n",
       "</div>"
      ],
      "text/plain": [
       "   odd1  even2\n",
       "A     1      4\n",
       "B     5      8\n",
       "C     9     12\n",
       "D    13     16\n",
       "E    17     20"
      ]
     },
     "execution_count": 16,
     "metadata": {},
     "output_type": "execute_result"
    }
   ],
   "source": [
    "# Grab two columns\n",
    "Arr_df[['odd1','even2']] # grabbing first and last columns"
   ]
  },
  {
   "cell_type": "code",
   "execution_count": 17,
   "id": "d1d2b9df",
   "metadata": {},
   "outputs": [
    {
     "data": {
      "text/plain": [
       "15"
      ]
     },
     "execution_count": 17,
     "metadata": {},
     "output_type": "execute_result"
    },
    {
     "data": {
      "text/plain": [
       "19"
      ]
     },
     "execution_count": 17,
     "metadata": {},
     "output_type": "execute_result"
    },
    {
     "data": {
      "text/plain": [
       "4"
      ]
     },
     "execution_count": 17,
     "metadata": {},
     "output_type": "execute_result"
    }
   ],
   "source": [
    "Arr_df['odd2']['D']\n",
    "Arr_df['odd2']['E']\n",
    "Arr_df['even2']['A']"
   ]
  },
  {
   "cell_type": "code",
   "execution_count": 18,
   "id": "714a8cf2",
   "metadata": {},
   "outputs": [
    {
     "data": {
      "text/plain": [
       "A     3\n",
       "B     7\n",
       "C    11\n",
       "D    15\n",
       "E    19\n",
       "Name: odd2, dtype: int64"
      ]
     },
     "execution_count": 18,
     "metadata": {},
     "output_type": "execute_result"
    }
   ],
   "source": [
    "x = Arr_df['odd2']\n",
    "x"
   ]
  },
  {
   "cell_type": "code",
   "execution_count": 19,
   "id": "b4d61ed2",
   "metadata": {},
   "outputs": [
    {
     "data": {
      "text/plain": [
       "15"
      ]
     },
     "execution_count": 19,
     "metadata": {},
     "output_type": "execute_result"
    }
   ],
   "source": [
    "x['D']"
   ]
  },
  {
   "cell_type": "code",
   "execution_count": 20,
   "id": "902fad53",
   "metadata": {},
   "outputs": [],
   "source": [
    "# grabbing rows"
   ]
  },
  {
   "cell_type": "code",
   "execution_count": 25,
   "id": "92b2d1f4",
   "metadata": {},
   "outputs": [
    {
     "name": "stdout",
     "output_type": "stream",
     "text": [
      "using .loc['E']\n"
     ]
    },
    {
     "data": {
      "text/plain": [
       "odd1        17\n",
       "even1       18\n",
       "odd2        19\n",
       "even2       20\n",
       "Odd sum     36\n",
       "Even sum    38\n",
       "Name: E, dtype: int64"
      ]
     },
     "execution_count": 25,
     "metadata": {},
     "output_type": "execute_result"
    },
    {
     "name": "stdout",
     "output_type": "stream",
     "text": [
      "\n",
      "using.iloc[4]\n"
     ]
    },
    {
     "data": {
      "text/plain": [
       "odd1        17\n",
       "even1       18\n",
       "odd2        19\n",
       "even2       20\n",
       "Odd sum     36\n",
       "Even sum    38\n",
       "Name: E, dtype: int64"
      ]
     },
     "execution_count": 25,
     "metadata": {},
     "output_type": "execute_result"
    }
   ],
   "source": [
    "print(\"using .loc['E']\")\n",
    "Arr_df.loc['E']\n",
    "print('\\nusing.iloc[4]')\n",
    "Arr_df.iloc[4]"
   ]
  },
  {
   "cell_type": "code",
   "execution_count": 26,
   "id": "27c77897",
   "metadata": {},
   "outputs": [
    {
     "data": {
      "text/plain": [
       "20"
      ]
     },
     "execution_count": 26,
     "metadata": {},
     "output_type": "execute_result"
    },
    {
     "data": {
      "text/plain": [
       "20"
      ]
     },
     "execution_count": 26,
     "metadata": {},
     "output_type": "execute_result"
    }
   ],
   "source": [
    "Arr_df.loc['E']['even2']\n",
    "Arr_df.iloc[4]['even2']"
   ]
  },
  {
   "cell_type": "code",
   "execution_count": 27,
   "id": "ad6ff83f",
   "metadata": {},
   "outputs": [
    {
     "data": {
      "text/html": [
       "<div>\n",
       "<style scoped>\n",
       "    .dataframe tbody tr th:only-of-type {\n",
       "        vertical-align: middle;\n",
       "    }\n",
       "\n",
       "    .dataframe tbody tr th {\n",
       "        vertical-align: top;\n",
       "    }\n",
       "\n",
       "    .dataframe thead th {\n",
       "        text-align: right;\n",
       "    }\n",
       "</style>\n",
       "<table border=\"1\" class=\"dataframe\">\n",
       "  <thead>\n",
       "    <tr style=\"text-align: right;\">\n",
       "      <th></th>\n",
       "      <th>odd1</th>\n",
       "      <th>even1</th>\n",
       "      <th>odd2</th>\n",
       "      <th>even2</th>\n",
       "      <th>Odd sum</th>\n",
       "      <th>Even sum</th>\n",
       "    </tr>\n",
       "  </thead>\n",
       "  <tbody>\n",
       "    <tr>\n",
       "      <th>A</th>\n",
       "      <td>1</td>\n",
       "      <td>2</td>\n",
       "      <td>3</td>\n",
       "      <td>4</td>\n",
       "      <td>4</td>\n",
       "      <td>6</td>\n",
       "    </tr>\n",
       "    <tr>\n",
       "      <th>B</th>\n",
       "      <td>5</td>\n",
       "      <td>6</td>\n",
       "      <td>7</td>\n",
       "      <td>8</td>\n",
       "      <td>12</td>\n",
       "      <td>14</td>\n",
       "    </tr>\n",
       "    <tr>\n",
       "      <th>C</th>\n",
       "      <td>9</td>\n",
       "      <td>10</td>\n",
       "      <td>11</td>\n",
       "      <td>12</td>\n",
       "      <td>20</td>\n",
       "      <td>22</td>\n",
       "    </tr>\n",
       "    <tr>\n",
       "      <th>D</th>\n",
       "      <td>13</td>\n",
       "      <td>14</td>\n",
       "      <td>15</td>\n",
       "      <td>16</td>\n",
       "      <td>28</td>\n",
       "      <td>30</td>\n",
       "    </tr>\n",
       "    <tr>\n",
       "      <th>E</th>\n",
       "      <td>17</td>\n",
       "      <td>18</td>\n",
       "      <td>19</td>\n",
       "      <td>20</td>\n",
       "      <td>36</td>\n",
       "      <td>38</td>\n",
       "    </tr>\n",
       "  </tbody>\n",
       "</table>\n",
       "</div>"
      ],
      "text/plain": [
       "   odd1  even1  odd2  even2  Odd sum  Even sum\n",
       "A     1      2     3      4        4         6\n",
       "B     5      6     7      8       12        14\n",
       "C     9     10    11     12       20        22\n",
       "D    13     14    15     16       28        30\n",
       "E    17     18    19     20       36        38"
      ]
     },
     "execution_count": 27,
     "metadata": {},
     "output_type": "execute_result"
    }
   ],
   "source": [
    "# Let us add two columns to Arr_df\n",
    "Arr_df['Odd sum'] = Arr_df['odd1'] + Arr_df['odd2']\n",
    "Arr_df['Even sum'] = Arr_df['even1'] + Arr_df['even2']\n",
    "Arr_df"
   ]
  },
  {
   "cell_type": "code",
   "execution_count": 28,
   "id": "4b09b711",
   "metadata": {},
   "outputs": [],
   "source": [
    "# Exercise"
   ]
  },
  {
   "cell_type": "code",
   "execution_count": 47,
   "id": "1a33603b",
   "metadata": {
    "scrolled": true
   },
   "outputs": [
    {
     "data": {
      "text/html": [
       "<div>\n",
       "<style scoped>\n",
       "    .dataframe tbody tr th:only-of-type {\n",
       "        vertical-align: middle;\n",
       "    }\n",
       "\n",
       "    .dataframe tbody tr th {\n",
       "        vertical-align: top;\n",
       "    }\n",
       "\n",
       "    .dataframe thead th {\n",
       "        text-align: right;\n",
       "    }\n",
       "</style>\n",
       "<table border=\"1\" class=\"dataframe\">\n",
       "  <thead>\n",
       "    <tr style=\"text-align: right;\">\n",
       "      <th></th>\n",
       "      <th>odd1</th>\n",
       "      <th>even1</th>\n",
       "      <th>odd2</th>\n",
       "      <th>even2</th>\n",
       "      <th>Odd sum</th>\n",
       "      <th>Even sum</th>\n",
       "      <th>Total sum</th>\n",
       "    </tr>\n",
       "  </thead>\n",
       "  <tbody>\n",
       "    <tr>\n",
       "      <th>A</th>\n",
       "      <td>1</td>\n",
       "      <td>2</td>\n",
       "      <td>3</td>\n",
       "      <td>4</td>\n",
       "      <td>4</td>\n",
       "      <td>6</td>\n",
       "      <td>10</td>\n",
       "    </tr>\n",
       "    <tr>\n",
       "      <th>B</th>\n",
       "      <td>5</td>\n",
       "      <td>6</td>\n",
       "      <td>7</td>\n",
       "      <td>8</td>\n",
       "      <td>12</td>\n",
       "      <td>14</td>\n",
       "      <td>26</td>\n",
       "    </tr>\n",
       "    <tr>\n",
       "      <th>C</th>\n",
       "      <td>9</td>\n",
       "      <td>10</td>\n",
       "      <td>11</td>\n",
       "      <td>12</td>\n",
       "      <td>20</td>\n",
       "      <td>22</td>\n",
       "      <td>42</td>\n",
       "    </tr>\n",
       "    <tr>\n",
       "      <th>D</th>\n",
       "      <td>13</td>\n",
       "      <td>14</td>\n",
       "      <td>15</td>\n",
       "      <td>16</td>\n",
       "      <td>28</td>\n",
       "      <td>30</td>\n",
       "      <td>58</td>\n",
       "    </tr>\n",
       "    <tr>\n",
       "      <th>E</th>\n",
       "      <td>17</td>\n",
       "      <td>18</td>\n",
       "      <td>19</td>\n",
       "      <td>20</td>\n",
       "      <td>36</td>\n",
       "      <td>38</td>\n",
       "      <td>74</td>\n",
       "    </tr>\n",
       "  </tbody>\n",
       "</table>\n",
       "</div>"
      ],
      "text/plain": [
       "   odd1  even1  odd2  even2  Odd sum  Even sum  Total sum\n",
       "A     1      2     3      4        4         6         10\n",
       "B     5      6     7      8       12        14         26\n",
       "C     9     10    11     12       20        22         42\n",
       "D    13     14    15     16       28        30         58\n",
       "E    17     18    19     20       36        38         74"
      ]
     },
     "execution_count": 47,
     "metadata": {},
     "output_type": "execute_result"
    }
   ],
   "source": [
    "Arr_df['Total sum'] = Arr_df['Odd sum'] + Arr_df['Even sum']\n",
    "Arr_df"
   ]
  },
  {
   "cell_type": "code",
   "execution_count": 30,
   "id": "6529eefb",
   "metadata": {},
   "outputs": [
    {
     "data": {
      "text/html": [
       "<div>\n",
       "<style scoped>\n",
       "    .dataframe tbody tr th:only-of-type {\n",
       "        vertical-align: middle;\n",
       "    }\n",
       "\n",
       "    .dataframe tbody tr th {\n",
       "        vertical-align: top;\n",
       "    }\n",
       "\n",
       "    .dataframe thead th {\n",
       "        text-align: right;\n",
       "    }\n",
       "</style>\n",
       "<table border=\"1\" class=\"dataframe\">\n",
       "  <thead>\n",
       "    <tr style=\"text-align: right;\">\n",
       "      <th></th>\n",
       "      <th>odd1</th>\n",
       "      <th>even1</th>\n",
       "      <th>odd2</th>\n",
       "      <th>even2</th>\n",
       "      <th>Odd sum</th>\n",
       "      <th>Even sum</th>\n",
       "      <th>Total sum</th>\n",
       "      <th>disposable</th>\n",
       "    </tr>\n",
       "  </thead>\n",
       "  <tbody>\n",
       "    <tr>\n",
       "      <th>A</th>\n",
       "      <td>1</td>\n",
       "      <td>2</td>\n",
       "      <td>3</td>\n",
       "      <td>4</td>\n",
       "      <td>4</td>\n",
       "      <td>6</td>\n",
       "      <td>10</td>\n",
       "      <td>0.0</td>\n",
       "    </tr>\n",
       "    <tr>\n",
       "      <th>B</th>\n",
       "      <td>5</td>\n",
       "      <td>6</td>\n",
       "      <td>7</td>\n",
       "      <td>8</td>\n",
       "      <td>12</td>\n",
       "      <td>14</td>\n",
       "      <td>26</td>\n",
       "      <td>0.0</td>\n",
       "    </tr>\n",
       "    <tr>\n",
       "      <th>C</th>\n",
       "      <td>9</td>\n",
       "      <td>10</td>\n",
       "      <td>11</td>\n",
       "      <td>12</td>\n",
       "      <td>20</td>\n",
       "      <td>22</td>\n",
       "      <td>42</td>\n",
       "      <td>0.0</td>\n",
       "    </tr>\n",
       "    <tr>\n",
       "      <th>D</th>\n",
       "      <td>13</td>\n",
       "      <td>14</td>\n",
       "      <td>15</td>\n",
       "      <td>16</td>\n",
       "      <td>28</td>\n",
       "      <td>30</td>\n",
       "      <td>58</td>\n",
       "      <td>0.0</td>\n",
       "    </tr>\n",
       "    <tr>\n",
       "      <th>E</th>\n",
       "      <td>17</td>\n",
       "      <td>18</td>\n",
       "      <td>19</td>\n",
       "      <td>20</td>\n",
       "      <td>36</td>\n",
       "      <td>38</td>\n",
       "      <td>74</td>\n",
       "      <td>0.0</td>\n",
       "    </tr>\n",
       "  </tbody>\n",
       "</table>\n",
       "</div>"
      ],
      "text/plain": [
       "   odd1  even1  odd2  even2  Odd sum  Even sum  Total sum  disposable\n",
       "A     1      2     3      4        4         6         10         0.0\n",
       "B     5      6     7      8       12        14         26         0.0\n",
       "C     9     10    11     12       20        22         42         0.0\n",
       "D    13     14    15     16       28        30         58         0.0\n",
       "E    17     18    19     20       36        38         74         0.0"
      ]
     },
     "execution_count": 30,
     "metadata": {},
     "output_type": "execute_result"
    }
   ],
   "source": [
    "Arr_df['disposable'] = np.zeros(5) # new column\n",
    "Arr_df                            # show"
   ]
  },
  {
   "cell_type": "code",
   "execution_count": 31,
   "id": "df2b5da3",
   "metadata": {},
   "outputs": [
    {
     "data": {
      "text/html": [
       "<div>\n",
       "<style scoped>\n",
       "    .dataframe tbody tr th:only-of-type {\n",
       "        vertical-align: middle;\n",
       "    }\n",
       "\n",
       "    .dataframe tbody tr th {\n",
       "        vertical-align: top;\n",
       "    }\n",
       "\n",
       "    .dataframe thead th {\n",
       "        text-align: right;\n",
       "    }\n",
       "</style>\n",
       "<table border=\"1\" class=\"dataframe\">\n",
       "  <thead>\n",
       "    <tr style=\"text-align: right;\">\n",
       "      <th></th>\n",
       "      <th>odd1</th>\n",
       "      <th>even1</th>\n",
       "      <th>odd2</th>\n",
       "      <th>even2</th>\n",
       "      <th>Odd sum</th>\n",
       "      <th>Even sum</th>\n",
       "      <th>Total sum</th>\n",
       "    </tr>\n",
       "  </thead>\n",
       "  <tbody>\n",
       "    <tr>\n",
       "      <th>A</th>\n",
       "      <td>1</td>\n",
       "      <td>2</td>\n",
       "      <td>3</td>\n",
       "      <td>4</td>\n",
       "      <td>4</td>\n",
       "      <td>6</td>\n",
       "      <td>10</td>\n",
       "    </tr>\n",
       "    <tr>\n",
       "      <th>B</th>\n",
       "      <td>5</td>\n",
       "      <td>6</td>\n",
       "      <td>7</td>\n",
       "      <td>8</td>\n",
       "      <td>12</td>\n",
       "      <td>14</td>\n",
       "      <td>26</td>\n",
       "    </tr>\n",
       "    <tr>\n",
       "      <th>C</th>\n",
       "      <td>9</td>\n",
       "      <td>10</td>\n",
       "      <td>11</td>\n",
       "      <td>12</td>\n",
       "      <td>20</td>\n",
       "      <td>22</td>\n",
       "      <td>42</td>\n",
       "    </tr>\n",
       "    <tr>\n",
       "      <th>D</th>\n",
       "      <td>13</td>\n",
       "      <td>14</td>\n",
       "      <td>15</td>\n",
       "      <td>16</td>\n",
       "      <td>28</td>\n",
       "      <td>30</td>\n",
       "      <td>58</td>\n",
       "    </tr>\n",
       "    <tr>\n",
       "      <th>E</th>\n",
       "      <td>17</td>\n",
       "      <td>18</td>\n",
       "      <td>19</td>\n",
       "      <td>20</td>\n",
       "      <td>36</td>\n",
       "      <td>38</td>\n",
       "      <td>74</td>\n",
       "    </tr>\n",
       "  </tbody>\n",
       "</table>\n",
       "</div>"
      ],
      "text/plain": [
       "   odd1  even1  odd2  even2  Odd sum  Even sum  Total sum\n",
       "A     1      2     3      4        4         6         10\n",
       "B     5      6     7      8       12        14         26\n",
       "C     9     10    11     12       20        22         42\n",
       "D    13     14    15     16       28        30         58\n",
       "E    17     18    19     20       36        38         74"
      ]
     },
     "execution_count": 31,
     "metadata": {},
     "output_type": "execute_result"
    }
   ],
   "source": [
    "# to remove\n",
    "Arr_df.drop('disposable',axis=1,inplace=True)\n",
    "Arr_df"
   ]
  },
  {
   "cell_type": "code",
   "execution_count": 32,
   "id": "b0b2b3ec",
   "metadata": {},
   "outputs": [],
   "source": [
    "# Conditional selection"
   ]
  },
  {
   "cell_type": "code",
   "execution_count": 33,
   "id": "7ce3458e",
   "metadata": {},
   "outputs": [
    {
     "data": {
      "text/html": [
       "<div>\n",
       "<style scoped>\n",
       "    .dataframe tbody tr th:only-of-type {\n",
       "        vertical-align: middle;\n",
       "    }\n",
       "\n",
       "    .dataframe tbody tr th {\n",
       "        vertical-align: top;\n",
       "    }\n",
       "\n",
       "    .dataframe thead th {\n",
       "        text-align: right;\n",
       "    }\n",
       "</style>\n",
       "<table border=\"1\" class=\"dataframe\">\n",
       "  <thead>\n",
       "    <tr style=\"text-align: right;\">\n",
       "      <th></th>\n",
       "      <th>odd1</th>\n",
       "      <th>even1</th>\n",
       "      <th>odd2</th>\n",
       "      <th>even2</th>\n",
       "      <th>Odd sum</th>\n",
       "      <th>Even sum</th>\n",
       "      <th>Total sum</th>\n",
       "    </tr>\n",
       "  </thead>\n",
       "  <tbody>\n",
       "    <tr>\n",
       "      <th>A</th>\n",
       "      <td>NaN</td>\n",
       "      <td>NaN</td>\n",
       "      <td>NaN</td>\n",
       "      <td>NaN</td>\n",
       "      <td>NaN</td>\n",
       "      <td>6</td>\n",
       "      <td>10</td>\n",
       "    </tr>\n",
       "    <tr>\n",
       "      <th>B</th>\n",
       "      <td>NaN</td>\n",
       "      <td>6.0</td>\n",
       "      <td>7.0</td>\n",
       "      <td>8.0</td>\n",
       "      <td>12.0</td>\n",
       "      <td>14</td>\n",
       "      <td>26</td>\n",
       "    </tr>\n",
       "    <tr>\n",
       "      <th>C</th>\n",
       "      <td>9.0</td>\n",
       "      <td>10.0</td>\n",
       "      <td>11.0</td>\n",
       "      <td>12.0</td>\n",
       "      <td>20.0</td>\n",
       "      <td>22</td>\n",
       "      <td>42</td>\n",
       "    </tr>\n",
       "    <tr>\n",
       "      <th>D</th>\n",
       "      <td>13.0</td>\n",
       "      <td>14.0</td>\n",
       "      <td>15.0</td>\n",
       "      <td>16.0</td>\n",
       "      <td>28.0</td>\n",
       "      <td>30</td>\n",
       "      <td>58</td>\n",
       "    </tr>\n",
       "    <tr>\n",
       "      <th>E</th>\n",
       "      <td>17.0</td>\n",
       "      <td>18.0</td>\n",
       "      <td>19.0</td>\n",
       "      <td>20.0</td>\n",
       "      <td>36.0</td>\n",
       "      <td>38</td>\n",
       "      <td>74</td>\n",
       "    </tr>\n",
       "  </tbody>\n",
       "</table>\n",
       "</div>"
      ],
      "text/plain": [
       "   odd1  even1  odd2  even2  Odd sum  Even sum  Total sum\n",
       "A   NaN    NaN   NaN    NaN      NaN         6         10\n",
       "B   NaN    6.0   7.0    8.0     12.0        14         26\n",
       "C   9.0   10.0  11.0   12.0     20.0        22         42\n",
       "D  13.0   14.0  15.0   16.0     28.0        30         58\n",
       "E  17.0   18.0  19.0   20.0     36.0        38         74"
      ]
     },
     "execution_count": 33,
     "metadata": {},
     "output_type": "execute_result"
    }
   ],
   "source": [
    "# Grab elements greater than five\n",
    "Arr_df[Arr_df > 5]"
   ]
  },
  {
   "cell_type": "code",
   "execution_count": null,
   "id": "c698695f",
   "metadata": {},
   "outputs": [],
   "source": [
    "# Grab elements less than 5"
   ]
  },
  {
   "cell_type": "code",
   "execution_count": 52,
   "id": "98b88a28",
   "metadata": {},
   "outputs": [
    {
     "data": {
      "text/html": [
       "<div>\n",
       "<style scoped>\n",
       "    .dataframe tbody tr th:only-of-type {\n",
       "        vertical-align: middle;\n",
       "    }\n",
       "\n",
       "    .dataframe tbody tr th {\n",
       "        vertical-align: top;\n",
       "    }\n",
       "\n",
       "    .dataframe thead th {\n",
       "        text-align: right;\n",
       "    }\n",
       "</style>\n",
       "<table border=\"1\" class=\"dataframe\">\n",
       "  <thead>\n",
       "    <tr style=\"text-align: right;\">\n",
       "      <th></th>\n",
       "      <th>odd1</th>\n",
       "      <th>even1</th>\n",
       "      <th>odd2</th>\n",
       "      <th>even2</th>\n",
       "      <th>Odd sum</th>\n",
       "      <th>Even sum</th>\n",
       "      <th>Total sum</th>\n",
       "    </tr>\n",
       "  </thead>\n",
       "  <tbody>\n",
       "    <tr>\n",
       "      <th>A</th>\n",
       "      <td>1.0</td>\n",
       "      <td>2.0</td>\n",
       "      <td>3.0</td>\n",
       "      <td>4.0</td>\n",
       "      <td>4.0</td>\n",
       "      <td>NaN</td>\n",
       "      <td>NaN</td>\n",
       "    </tr>\n",
       "    <tr>\n",
       "      <th>B</th>\n",
       "      <td>NaN</td>\n",
       "      <td>NaN</td>\n",
       "      <td>NaN</td>\n",
       "      <td>NaN</td>\n",
       "      <td>NaN</td>\n",
       "      <td>NaN</td>\n",
       "      <td>NaN</td>\n",
       "    </tr>\n",
       "    <tr>\n",
       "      <th>C</th>\n",
       "      <td>NaN</td>\n",
       "      <td>NaN</td>\n",
       "      <td>NaN</td>\n",
       "      <td>NaN</td>\n",
       "      <td>NaN</td>\n",
       "      <td>NaN</td>\n",
       "      <td>NaN</td>\n",
       "    </tr>\n",
       "    <tr>\n",
       "      <th>D</th>\n",
       "      <td>NaN</td>\n",
       "      <td>NaN</td>\n",
       "      <td>NaN</td>\n",
       "      <td>NaN</td>\n",
       "      <td>NaN</td>\n",
       "      <td>NaN</td>\n",
       "      <td>NaN</td>\n",
       "    </tr>\n",
       "    <tr>\n",
       "      <th>E</th>\n",
       "      <td>NaN</td>\n",
       "      <td>NaN</td>\n",
       "      <td>NaN</td>\n",
       "      <td>NaN</td>\n",
       "      <td>NaN</td>\n",
       "      <td>NaN</td>\n",
       "      <td>NaN</td>\n",
       "    </tr>\n",
       "  </tbody>\n",
       "</table>\n",
       "</div>"
      ],
      "text/plain": [
       "   odd1  even1  odd2  even2  Odd sum  Even sum  Total sum\n",
       "A   1.0    2.0   3.0    4.0      4.0       NaN        NaN\n",
       "B   NaN    NaN   NaN    NaN      NaN       NaN        NaN\n",
       "C   NaN    NaN   NaN    NaN      NaN       NaN        NaN\n",
       "D   NaN    NaN   NaN    NaN      NaN       NaN        NaN\n",
       "E   NaN    NaN   NaN    NaN      NaN       NaN        NaN"
      ]
     },
     "execution_count": 52,
     "metadata": {},
     "output_type": "execute_result"
    }
   ],
   "source": [
    "Arr_df[Arr_df < 5]"
   ]
  },
  {
   "cell_type": "code",
   "execution_count": 34,
   "id": "fef86ebe",
   "metadata": {},
   "outputs": [
    {
     "data": {
      "text/html": [
       "<div>\n",
       "<style scoped>\n",
       "    .dataframe tbody tr th:only-of-type {\n",
       "        vertical-align: middle;\n",
       "    }\n",
       "\n",
       "    .dataframe tbody tr th {\n",
       "        vertical-align: top;\n",
       "    }\n",
       "\n",
       "    .dataframe thead th {\n",
       "        text-align: right;\n",
       "    }\n",
       "</style>\n",
       "<table border=\"1\" class=\"dataframe\">\n",
       "  <thead>\n",
       "    <tr style=\"text-align: right;\">\n",
       "      <th></th>\n",
       "      <th>odd1</th>\n",
       "      <th>even1</th>\n",
       "      <th>odd2</th>\n",
       "      <th>even2</th>\n",
       "      <th>Odd sum</th>\n",
       "      <th>Even sum</th>\n",
       "      <th>Total sum</th>\n",
       "    </tr>\n",
       "  </thead>\n",
       "  <tbody>\n",
       "    <tr>\n",
       "      <th>A</th>\n",
       "      <td>1</td>\n",
       "      <td>2</td>\n",
       "      <td>3</td>\n",
       "      <td>4</td>\n",
       "      <td>4</td>\n",
       "      <td>6</td>\n",
       "      <td>10</td>\n",
       "    </tr>\n",
       "    <tr>\n",
       "      <th>B</th>\n",
       "      <td>5</td>\n",
       "      <td>6</td>\n",
       "      <td>7</td>\n",
       "      <td>8</td>\n",
       "      <td>12</td>\n",
       "      <td>14</td>\n",
       "      <td>26</td>\n",
       "    </tr>\n",
       "    <tr>\n",
       "      <th>D</th>\n",
       "      <td>13</td>\n",
       "      <td>14</td>\n",
       "      <td>15</td>\n",
       "      <td>16</td>\n",
       "      <td>28</td>\n",
       "      <td>30</td>\n",
       "      <td>58</td>\n",
       "    </tr>\n",
       "    <tr>\n",
       "      <th>E</th>\n",
       "      <td>17</td>\n",
       "      <td>18</td>\n",
       "      <td>19</td>\n",
       "      <td>20</td>\n",
       "      <td>36</td>\n",
       "      <td>38</td>\n",
       "      <td>74</td>\n",
       "    </tr>\n",
       "  </tbody>\n",
       "</table>\n",
       "</div>"
      ],
      "text/plain": [
       "   odd1  even1  odd2  even2  Odd sum  Even sum  Total sum\n",
       "A     1      2     3      4        4         6         10\n",
       "B     5      6     7      8       12        14         26\n",
       "D    13     14    15     16       28        30         58\n",
       "E    17     18    19     20       36        38         74"
      ]
     },
     "execution_count": 34,
     "metadata": {},
     "output_type": "execute_result"
    }
   ],
   "source": [
    "# removing row C through the first column\n",
    "Arr_df[Arr_df['odd1'] != 9]"
   ]
  },
  {
   "cell_type": "raw",
   "id": "e854e33e",
   "metadata": {},
   "source": [
    "# does the same thing: remove row 'C'\n",
    "Arr_df[Arr_df['even2'] != 12]"
   ]
  },
  {
   "cell_type": "code",
   "execution_count": 36,
   "id": "d383f176",
   "metadata": {
    "scrolled": true
   },
   "outputs": [
    {
     "data": {
      "text/html": [
       "<div>\n",
       "<style scoped>\n",
       "    .dataframe tbody tr th:only-of-type {\n",
       "        vertical-align: middle;\n",
       "    }\n",
       "\n",
       "    .dataframe tbody tr th {\n",
       "        vertical-align: top;\n",
       "    }\n",
       "\n",
       "    .dataframe thead th {\n",
       "        text-align: right;\n",
       "    }\n",
       "</style>\n",
       "<table border=\"1\" class=\"dataframe\">\n",
       "  <thead>\n",
       "    <tr style=\"text-align: right;\">\n",
       "      <th></th>\n",
       "      <th>odd1</th>\n",
       "      <th>even1</th>\n",
       "      <th>odd2</th>\n",
       "      <th>even2</th>\n",
       "      <th>Odd sum</th>\n",
       "      <th>Even sum</th>\n",
       "      <th>Total sum</th>\n",
       "    </tr>\n",
       "  </thead>\n",
       "  <tbody>\n",
       "    <tr>\n",
       "      <th>A</th>\n",
       "      <td>1</td>\n",
       "      <td>2</td>\n",
       "      <td>3</td>\n",
       "      <td>4</td>\n",
       "      <td>4</td>\n",
       "      <td>6</td>\n",
       "      <td>10</td>\n",
       "    </tr>\n",
       "    <tr>\n",
       "      <th>B</th>\n",
       "      <td>5</td>\n",
       "      <td>6</td>\n",
       "      <td>7</td>\n",
       "      <td>8</td>\n",
       "      <td>12</td>\n",
       "      <td>14</td>\n",
       "      <td>26</td>\n",
       "    </tr>\n",
       "    <tr>\n",
       "      <th>C</th>\n",
       "      <td>9</td>\n",
       "      <td>10</td>\n",
       "      <td>11</td>\n",
       "      <td>12</td>\n",
       "      <td>20</td>\n",
       "      <td>22</td>\n",
       "      <td>42</td>\n",
       "    </tr>\n",
       "  </tbody>\n",
       "</table>\n",
       "</div>"
      ],
      "text/plain": [
       "   odd1  even1  odd2  even2  Odd sum  Even sum  Total sum\n",
       "A     1      2     3      4        4         6         10\n",
       "B     5      6     7      8       12        14         26\n",
       "C     9     10    11     12       20        22         42"
      ]
     },
     "execution_count": 36,
     "metadata": {},
     "output_type": "execute_result"
    }
   ],
   "source": [
    "# Let us remove rows D and E through 'even2'\n",
    "Arr_df[Arr_df['even2'] <= 12]"
   ]
  },
  {
   "cell_type": "code",
   "execution_count": 37,
   "id": "e938470a",
   "metadata": {},
   "outputs": [],
   "source": [
    "# Exercise "
   ]
  },
  {
   "cell_type": "code",
   "execution_count": 39,
   "id": "04b2feed",
   "metadata": {},
   "outputs": [],
   "source": [
    "# Removing C,D,E via 'Even Sum'"
   ]
  },
  {
   "cell_type": "code",
   "execution_count": 38,
   "id": "51cecc7f",
   "metadata": {},
   "outputs": [
    {
     "data": {
      "text/html": [
       "<div>\n",
       "<style scoped>\n",
       "    .dataframe tbody tr th:only-of-type {\n",
       "        vertical-align: middle;\n",
       "    }\n",
       "\n",
       "    .dataframe tbody tr th {\n",
       "        vertical-align: top;\n",
       "    }\n",
       "\n",
       "    .dataframe thead th {\n",
       "        text-align: right;\n",
       "    }\n",
       "</style>\n",
       "<table border=\"1\" class=\"dataframe\">\n",
       "  <thead>\n",
       "    <tr style=\"text-align: right;\">\n",
       "      <th></th>\n",
       "      <th>odd1</th>\n",
       "      <th>even1</th>\n",
       "      <th>odd2</th>\n",
       "      <th>even2</th>\n",
       "      <th>Odd sum</th>\n",
       "      <th>Even sum</th>\n",
       "      <th>Total sum</th>\n",
       "    </tr>\n",
       "  </thead>\n",
       "  <tbody>\n",
       "    <tr>\n",
       "      <th>A</th>\n",
       "      <td>1</td>\n",
       "      <td>2</td>\n",
       "      <td>3</td>\n",
       "      <td>4</td>\n",
       "      <td>4</td>\n",
       "      <td>6</td>\n",
       "      <td>10</td>\n",
       "    </tr>\n",
       "    <tr>\n",
       "      <th>B</th>\n",
       "      <td>5</td>\n",
       "      <td>6</td>\n",
       "      <td>7</td>\n",
       "      <td>8</td>\n",
       "      <td>12</td>\n",
       "      <td>14</td>\n",
       "      <td>26</td>\n",
       "    </tr>\n",
       "  </tbody>\n",
       "</table>\n",
       "</div>"
      ],
      "text/plain": [
       "   odd1  even1  odd2  even2  Odd sum  Even sum  Total sum\n",
       "A     1      2     3      4        4         6         10\n",
       "B     5      6     7      8       12        14         26"
      ]
     },
     "execution_count": 38,
     "metadata": {},
     "output_type": "execute_result"
    }
   ],
   "source": [
    "Arr_df[Arr_df['Even sum'] <=14 ] "
   ]
  },
  {
   "cell_type": "code",
   "execution_count": 40,
   "id": "095b2c19",
   "metadata": {},
   "outputs": [],
   "source": [
    "# Removing A, B via 'Total sum'"
   ]
  },
  {
   "cell_type": "code",
   "execution_count": 41,
   "id": "ad7b0b3a",
   "metadata": {},
   "outputs": [
    {
     "data": {
      "text/html": [
       "<div>\n",
       "<style scoped>\n",
       "    .dataframe tbody tr th:only-of-type {\n",
       "        vertical-align: middle;\n",
       "    }\n",
       "\n",
       "    .dataframe tbody tr th {\n",
       "        vertical-align: top;\n",
       "    }\n",
       "\n",
       "    .dataframe thead th {\n",
       "        text-align: right;\n",
       "    }\n",
       "</style>\n",
       "<table border=\"1\" class=\"dataframe\">\n",
       "  <thead>\n",
       "    <tr style=\"text-align: right;\">\n",
       "      <th></th>\n",
       "      <th>odd1</th>\n",
       "      <th>even1</th>\n",
       "      <th>odd2</th>\n",
       "      <th>even2</th>\n",
       "      <th>Odd sum</th>\n",
       "      <th>Even sum</th>\n",
       "      <th>Total sum</th>\n",
       "    </tr>\n",
       "  </thead>\n",
       "  <tbody>\n",
       "    <tr>\n",
       "      <th>C</th>\n",
       "      <td>9</td>\n",
       "      <td>10</td>\n",
       "      <td>11</td>\n",
       "      <td>12</td>\n",
       "      <td>20</td>\n",
       "      <td>22</td>\n",
       "      <td>42</td>\n",
       "    </tr>\n",
       "    <tr>\n",
       "      <th>D</th>\n",
       "      <td>13</td>\n",
       "      <td>14</td>\n",
       "      <td>15</td>\n",
       "      <td>16</td>\n",
       "      <td>28</td>\n",
       "      <td>30</td>\n",
       "      <td>58</td>\n",
       "    </tr>\n",
       "    <tr>\n",
       "      <th>E</th>\n",
       "      <td>17</td>\n",
       "      <td>18</td>\n",
       "      <td>19</td>\n",
       "      <td>20</td>\n",
       "      <td>36</td>\n",
       "      <td>38</td>\n",
       "      <td>74</td>\n",
       "    </tr>\n",
       "  </tbody>\n",
       "</table>\n",
       "</div>"
      ],
      "text/plain": [
       "   odd1  even1  odd2  even2  Odd sum  Even sum  Total sum\n",
       "C     9     10    11     12       20        22         42\n",
       "D    13     14    15     16       28        30         58\n",
       "E    17     18    19     20       36        38         74"
      ]
     },
     "execution_count": 41,
     "metadata": {},
     "output_type": "execute_result"
    }
   ],
   "source": [
    "Arr_df[Arr_df['Total sum'] > 26]"
   ]
  },
  {
   "cell_type": "code",
   "execution_count": null,
   "id": "c9dbe757",
   "metadata": {},
   "outputs": [],
   "source": [
    "# Removing E via odd2"
   ]
  },
  {
   "cell_type": "code",
   "execution_count": 42,
   "id": "ce417230",
   "metadata": {},
   "outputs": [
    {
     "data": {
      "text/html": [
       "<div>\n",
       "<style scoped>\n",
       "    .dataframe tbody tr th:only-of-type {\n",
       "        vertical-align: middle;\n",
       "    }\n",
       "\n",
       "    .dataframe tbody tr th {\n",
       "        vertical-align: top;\n",
       "    }\n",
       "\n",
       "    .dataframe thead th {\n",
       "        text-align: right;\n",
       "    }\n",
       "</style>\n",
       "<table border=\"1\" class=\"dataframe\">\n",
       "  <thead>\n",
       "    <tr style=\"text-align: right;\">\n",
       "      <th></th>\n",
       "      <th>odd1</th>\n",
       "      <th>even1</th>\n",
       "      <th>odd2</th>\n",
       "      <th>even2</th>\n",
       "      <th>Odd sum</th>\n",
       "      <th>Even sum</th>\n",
       "      <th>Total sum</th>\n",
       "    </tr>\n",
       "  </thead>\n",
       "  <tbody>\n",
       "    <tr>\n",
       "      <th>A</th>\n",
       "      <td>1</td>\n",
       "      <td>2</td>\n",
       "      <td>3</td>\n",
       "      <td>4</td>\n",
       "      <td>4</td>\n",
       "      <td>6</td>\n",
       "      <td>10</td>\n",
       "    </tr>\n",
       "    <tr>\n",
       "      <th>B</th>\n",
       "      <td>5</td>\n",
       "      <td>6</td>\n",
       "      <td>7</td>\n",
       "      <td>8</td>\n",
       "      <td>12</td>\n",
       "      <td>14</td>\n",
       "      <td>26</td>\n",
       "    </tr>\n",
       "    <tr>\n",
       "      <th>C</th>\n",
       "      <td>9</td>\n",
       "      <td>10</td>\n",
       "      <td>11</td>\n",
       "      <td>12</td>\n",
       "      <td>20</td>\n",
       "      <td>22</td>\n",
       "      <td>42</td>\n",
       "    </tr>\n",
       "    <tr>\n",
       "      <th>D</th>\n",
       "      <td>13</td>\n",
       "      <td>14</td>\n",
       "      <td>15</td>\n",
       "      <td>16</td>\n",
       "      <td>28</td>\n",
       "      <td>30</td>\n",
       "      <td>58</td>\n",
       "    </tr>\n",
       "  </tbody>\n",
       "</table>\n",
       "</div>"
      ],
      "text/plain": [
       "   odd1  even1  odd2  even2  Odd sum  Even sum  Total sum\n",
       "A     1      2     3      4        4         6         10\n",
       "B     5      6     7      8       12        14         26\n",
       "C     9     10    11     12       20        22         42\n",
       "D    13     14    15     16       28        30         58"
      ]
     },
     "execution_count": 42,
     "metadata": {},
     "output_type": "execute_result"
    }
   ],
   "source": [
    "Arr_df[Arr_df['odd2'] <= 15]"
   ]
  },
  {
   "cell_type": "code",
   "execution_count": 51,
   "id": "c6f99413",
   "metadata": {},
   "outputs": [
    {
     "data": {
      "text/html": [
       "<div>\n",
       "<style scoped>\n",
       "    .dataframe tbody tr th:only-of-type {\n",
       "        vertical-align: middle;\n",
       "    }\n",
       "\n",
       "    .dataframe tbody tr th {\n",
       "        vertical-align: top;\n",
       "    }\n",
       "\n",
       "    .dataframe thead th {\n",
       "        text-align: right;\n",
       "    }\n",
       "</style>\n",
       "<table border=\"1\" class=\"dataframe\">\n",
       "  <thead>\n",
       "    <tr style=\"text-align: right;\">\n",
       "      <th></th>\n",
       "      <th>odd1</th>\n",
       "      <th>even1</th>\n",
       "      <th>odd2</th>\n",
       "      <th>even2</th>\n",
       "      <th>Odd sum</th>\n",
       "      <th>Even sum</th>\n",
       "      <th>Total sum</th>\n",
       "    </tr>\n",
       "  </thead>\n",
       "  <tbody>\n",
       "    <tr>\n",
       "      <th>B</th>\n",
       "      <td>5</td>\n",
       "      <td>6</td>\n",
       "      <td>7</td>\n",
       "      <td>8</td>\n",
       "      <td>12</td>\n",
       "      <td>14</td>\n",
       "      <td>26</td>\n",
       "    </tr>\n",
       "  </tbody>\n",
       "</table>\n",
       "</div>"
      ],
      "text/plain": [
       "   odd1  even1  odd2  even2  Odd sum  Even sum  Total sum\n",
       "B     5      6     7      8       12        14         26"
      ]
     },
     "execution_count": 51,
     "metadata": {},
     "output_type": "execute_result"
    }
   ],
   "source": [
    "Arr_df[(Arr_df['odd1'] > 1) & (Arr_df['Even sum'] < 22)]"
   ]
  },
  {
   "cell_type": "code",
   "execution_count": null,
   "id": "85cb5bed",
   "metadata": {},
   "outputs": [],
   "source": []
  }
 ],
 "metadata": {
  "kernelspec": {
   "display_name": "Python 3 (ipykernel)",
   "language": "python",
   "name": "python3"
  },
  "language_info": {
   "codemirror_mode": {
    "name": "ipython",
    "version": 3
   },
   "file_extension": ".py",
   "mimetype": "text/x-python",
   "name": "python",
   "nbconvert_exporter": "python",
   "pygments_lexer": "ipython3",
   "version": "3.8.10"
  }
 },
 "nbformat": 4,
 "nbformat_minor": 5
}
