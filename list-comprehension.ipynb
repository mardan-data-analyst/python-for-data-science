{
 "cells": [
  {
   "cell_type": "code",
   "execution_count": 16,
   "id": "0e7cef57",
   "metadata": {},
   "outputs": [
    {
     "data": {
      "text/plain": [
       "[0, 1, 4, 9, 16, 25, 36, 49, 64, 81]"
      ]
     },
     "execution_count": 16,
     "metadata": {},
     "output_type": "execute_result"
    }
   ],
   "source": [
    "trial_List = list(range(10))\n",
    "[(trial_List[item])**2 for item in trial_List]"
   ]
  },
  {
   "cell_type": "code",
   "execution_count": 12,
   "id": "fbe8fd8c",
   "metadata": {
    "scrolled": true
   },
   "outputs": [
    {
     "name": "stdout",
     "output_type": "stream",
     "text": [
      "[0, 1, 4, 9, 16, 25, 36, 49, 64, 81]\n"
     ]
    }
   ],
   "source": [
    "trial_List = list(range(10))\n",
    "new_list = []\n",
    "\n",
    "for item in trial_List:\n",
    "    trial_List[item] = trial_List[item]**2\n",
    "    new_list.append(trial_List[item])\n",
    "print(new_list)\n",
    "    "
   ]
  },
  {
   "cell_type": "code",
   "execution_count": 44,
   "id": "88f4d606",
   "metadata": {},
   "outputs": [
    {
     "data": {
      "text/plain": [
       "['Matrix', 'Trilogy', 1, 3.4, 'Cattle']"
      ]
     },
     "execution_count": 44,
     "metadata": {},
     "output_type": "execute_result"
    }
   ],
   "source": [
    "# Grab first three letters of strings.\n",
    "\n",
    "List1 = ['Matrix', 'Trilogy', 1,3.4, 'Cattle']\n",
    "List1"
   ]
  },
  {
   "cell_type": "code",
   "execution_count": 46,
   "id": "ea60fa4c",
   "metadata": {},
   "outputs": [
    {
     "name": "stdout",
     "output_type": "stream",
     "text": [
      "['Mat', 'Tri', 'Cat']\n"
     ]
    }
   ],
   "source": [
    "# grab loop\n",
    "\n",
    "new_List1 = [things[:3] for things in List1 if type(things) == str]\n",
    "print(new_List1)"
   ]
  },
  {
   "cell_type": "code",
   "execution_count": 47,
   "id": "cd6da3cf",
   "metadata": {},
   "outputs": [
    {
     "data": {
      "text/plain": [
       "['Matrix', 'Trilogy', 1, 3.4, 'Cattle']"
      ]
     },
     "execution_count": 47,
     "metadata": {},
     "output_type": "execute_result"
    }
   ],
   "source": [
    "List1"
   ]
  },
  {
   "cell_type": "code",
   "execution_count": 48,
   "id": "b8a44d37",
   "metadata": {},
   "outputs": [
    {
     "data": {
      "text/plain": [
       "['Matrix', 'Trilogy', 1, 3.4, 'Cattle']"
      ]
     },
     "execution_count": 48,
     "metadata": {},
     "output_type": "execute_result"
    }
   ],
   "source": [
    "List2 = List1\n",
    "List2"
   ]
  },
  {
   "cell_type": "code",
   "execution_count": 49,
   "id": "3f1aefeb",
   "metadata": {},
   "outputs": [
    {
     "data": {
      "text/plain": [
       "['Matrix', 'Trilogy', 1, 3.4, 'Cattle', 'Jeep', 'Go']"
      ]
     },
     "execution_count": 49,
     "metadata": {},
     "output_type": "execute_result"
    }
   ],
   "source": [
    "List2.extend(['Jeep'])\n",
    "List2.extend(['Go'])\n",
    "List2"
   ]
  },
  {
   "cell_type": "code",
   "execution_count": 51,
   "id": "dd702d5a",
   "metadata": {},
   "outputs": [
    {
     "name": "stdout",
     "output_type": "stream",
     "text": [
      "['Mat', 'Tri', 'Cat', 'Jee']\n"
     ]
    }
   ],
   "source": [
    "new_List2 = [things[:3] for things in List2 if type(things) == str and len(things) >= 3]\n",
    "print(new_List2)"
   ]
  },
  {
   "cell_type": "code",
   "execution_count": 55,
   "id": "41183be8",
   "metadata": {},
   "outputs": [
    {
     "name": "stdout",
     "output_type": "stream",
     "text": [
      "Please, enter number of list items: 10\n",
      "\n",
      " Here is your custom list\n",
      "\n",
      " [1, 1.0, 9, 2.0, 25, 3.0, 49, 4.0, 81, 5.0]\n"
     ]
    }
   ],
   "source": [
    "# Create user defined list\n",
    "\n",
    "n_items = eval(input('Please, enter number of list items: '))\n",
    "\n",
    "new_list = [x**2 if x % 2 != 0 else x / 2 for x in range(1, n_items + 1)]\n",
    "print('\\n Here is your custom list\\n\\n', new_list)"
   ]
  }
 ],
 "metadata": {
  "kernelspec": {
   "display_name": "Python 3 (ipykernel)",
   "language": "python",
   "name": "python3"
  },
  "language_info": {
   "codemirror_mode": {
    "name": "ipython",
    "version": 3
   },
   "file_extension": ".py",
   "mimetype": "text/x-python",
   "name": "python",
   "nbconvert_exporter": "python",
   "pygments_lexer": "ipython3",
   "version": "3.8.10"
  }
 },
 "nbformat": 4,
 "nbformat_minor": 5
}
