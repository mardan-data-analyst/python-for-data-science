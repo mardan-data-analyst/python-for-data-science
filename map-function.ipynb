{
 "cells": [
  {
   "cell_type": "code",
   "execution_count": 13,
   "id": "c87e185c",
   "metadata": {},
   "outputs": [
    {
     "data": {
      "text/plain": [
       "25"
      ]
     },
     "execution_count": 13,
     "metadata": {},
     "output_type": "execute_result"
    }
   ],
   "source": [
    "square = lambda number: number**2\n",
    "square(5)"
   ]
  },
  {
   "cell_type": "code",
   "execution_count": 28,
   "id": "8e2bc6a8",
   "metadata": {},
   "outputs": [
    {
     "data": {
      "text/plain": [
       "[1, 4, 9, 16, 25, 36, 49, 64, 81, 100]"
      ]
     },
     "execution_count": 28,
     "metadata": {},
     "output_type": "execute_result"
    }
   ],
   "source": [
    "# This program squares all the elements in a list\n",
    "\n",
    "List = list(range(1,11))\n",
    "\n",
    "# using the lambda expression 'square'\n",
    "new_list1 = list(map(square, List))\n",
    "new_list1"
   ]
  },
  {
   "cell_type": "code",
   "execution_count": 26,
   "id": "0c94953f",
   "metadata": {},
   "outputs": [],
   "source": [
    "# intentionally blank"
   ]
  },
  {
   "cell_type": "code",
   "execution_count": 27,
   "id": "78f0d205",
   "metadata": {},
   "outputs": [
    {
     "data": {
      "text/plain": [
       "125"
      ]
     },
     "execution_count": 27,
     "metadata": {},
     "output_type": "execute_result"
    }
   ],
   "source": [
    "cube = lambda number: number**3\n",
    "cube(5)"
   ]
  },
  {
   "cell_type": "code",
   "execution_count": 41,
   "id": "c4629dd0",
   "metadata": {},
   "outputs": [
    {
     "name": "stdout",
     "output_type": "stream",
     "text": [
      "\n",
      "This is the original list: [1, 2, 3, 4, 5, 6, 7, 8, 9, 10]\n",
      "\n",
      "This is the cubic list: [1, 8, 27, 64, 125, 216, 343, 512, 729, 1000]\n",
      "\n",
      "Element of new_list2: 1\n",
      "\n",
      "Element of new_list2: 8\n",
      "\n",
      "Element of new_list2: 27\n",
      "\n",
      "Element of new_list2: 64\n",
      "\n",
      "Element of new_list2: 125\n",
      "\n",
      "Element of new_list2: 216\n",
      "\n",
      "Element of new_list2: 343\n",
      "\n",
      "Element of new_list2: 512\n",
      "\n",
      "Element of new_list2: 729\n",
      "\n",
      "Element of new_list2: 1000\n"
     ]
    }
   ],
   "source": [
    "List = list(range(1,11))\n",
    "print('\\nThis is the original list:',List)\n",
    "\n",
    "new_list2 = list(map(cube, List))\n",
    "\n",
    "print('\\nThis is the cubic list:',new_list2)\n",
    "for element in new_list2:\n",
    "    print('\\nElement of new_list2:',element)"
   ]
  },
  {
   "cell_type": "code",
   "execution_count": null,
   "id": "45c8bfe7",
   "metadata": {},
   "outputs": [],
   "source": []
  }
 ],
 "metadata": {
  "kernelspec": {
   "display_name": "Python 3 (ipykernel)",
   "language": "python",
   "name": "python3"
  },
  "language_info": {
   "codemirror_mode": {
    "name": "ipython",
    "version": 3
   },
   "file_extension": ".py",
   "mimetype": "text/x-python",
   "name": "python",
   "nbconvert_exporter": "python",
   "pygments_lexer": "ipython3",
   "version": "3.8.10"
  }
 },
 "nbformat": 4,
 "nbformat_minor": 5
}
