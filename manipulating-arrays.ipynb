{
 "cells": [
  {
   "cell_type": "code",
   "execution_count": 2,
   "id": "131a5055",
   "metadata": {},
   "outputs": [
    {
     "data": {
      "text/plain": [
       "array([0, 1, 2, 3, 4, 5, 6, 7, 8, 9])"
      ]
     },
     "execution_count": 2,
     "metadata": {},
     "output_type": "execute_result"
    },
    {
     "data": {
      "text/plain": [
       "array([ 3.02545836,  0.01110861, -0.48904884, -0.31339478,  0.66277462,\n",
       "       -0.17370335,  0.61987673, -1.78104506, -0.6123151 ,  0.01950197])"
      ]
     },
     "execution_count": 2,
     "metadata": {},
     "output_type": "execute_result"
    }
   ],
   "source": [
    "import numpy as np\n",
    "from IPython.core.interactiveshell import InteractiveShell\n",
    "InteractiveShell.ast_node_interactivity = 'all'\n",
    "\n",
    "freq = np.arange(10); values = np.random.randn(10)\n",
    "freq; values"
   ]
  },
  {
   "cell_type": "code",
   "execution_count": 4,
   "id": "3b6ee0f4",
   "metadata": {},
   "outputs": [
    {
     "data": {
      "text/plain": [
       "array([[0, 1],\n",
       "       [2, 3],\n",
       "       [4, 5],\n",
       "       [6, 7],\n",
       "       [8, 9]])"
      ]
     },
     "execution_count": 4,
     "metadata": {},
     "output_type": "execute_result"
    }
   ],
   "source": [
    "np.reshape(freq,(5,2))"
   ]
  },
  {
   "cell_type": "code",
   "execution_count": 5,
   "id": "83174918",
   "metadata": {},
   "outputs": [
    {
     "data": {
      "text/plain": [
       "array([[ 3.02545836,  0.01110861, -0.48904884, -0.31339478,  0.66277462],\n",
       "       [-0.17370335,  0.61987673, -1.78104506, -0.6123151 ,  0.01950197]])"
      ]
     },
     "execution_count": 5,
     "metadata": {},
     "output_type": "execute_result"
    }
   ],
   "source": [
    "np.reshape(values,(2,5))"
   ]
  },
  {
   "cell_type": "code",
   "execution_count": 15,
   "id": "679e49a8",
   "metadata": {
    "scrolled": true
   },
   "outputs": [
    {
     "name": "stdout",
     "output_type": "stream",
     "text": [
      "Maximum value: 3.0254583601171365\n",
      "Minimum value: -1.781045064480701n\n",
      "Item 1 is the maximum value, while item 8\n",
      "is the minimum value\n"
     ]
    }
   ],
   "source": [
    "A = values.max();B = values.min();\n",
    "C = values.argmax()+1; D = values.argmin()+1\n",
    "\n",
    "print('Maximum value: {}\\nMinimum value: {}\\\n",
    "n\\nItem {} is the maximum value, while item {}\\n\\\n",
    "is the minimum value'.format(A,B,C,D))"
   ]
  },
  {
   "cell_type": "code",
   "execution_count": null,
   "id": "b1a7a2fd",
   "metadata": {},
   "outputs": [],
   "source": [
    "# indexing and selecting arrays"
   ]
  },
  {
   "cell_type": "code",
   "execution_count": 21,
   "id": "cebabea1",
   "metadata": {},
   "outputs": [
    {
     "name": "stdout",
     "output_type": "stream",
     "text": [
      "Full array: \n"
     ]
    },
    {
     "data": {
      "text/plain": [
       "array([ 3.02545836,  0.01110861, -0.48904884, -0.31339478,  0.66277462,\n",
       "       -0.17370335,  0.61987673, -1.78104506, -0.6123151 ,  0.01950197])"
      ]
     },
     "execution_count": 21,
     "metadata": {},
     "output_type": "execute_result"
    },
    {
     "name": "stdout",
     "output_type": "stream",
     "text": [
      "First item:\n"
     ]
    },
    {
     "data": {
      "text/plain": [
       "3.0254583601171365"
      ]
     },
     "execution_count": 21,
     "metadata": {},
     "output_type": "execute_result"
    },
    {
     "name": "stdout",
     "output_type": "stream",
     "text": [
      "Last item:\n"
     ]
    },
    {
     "data": {
      "text/plain": [
       "0.019501973203569594"
      ]
     },
     "execution_count": 21,
     "metadata": {},
     "output_type": "execute_result"
    },
    {
     "name": "stdout",
     "output_type": "stream",
     "text": [
      "2nd and 3rd items:\n"
     ]
    },
    {
     "data": {
      "text/plain": [
       "array([ 0.01110861, -0.48904884])"
      ]
     },
     "execution_count": 21,
     "metadata": {},
     "output_type": "execute_result"
    },
    {
     "name": "stdout",
     "output_type": "stream",
     "text": [
      "4th and other items up to 8th item:\n"
     ]
    },
    {
     "data": {
      "text/plain": [
       "array([-0.31339478,  0.66277462, -0.17370335,  0.61987673, -1.78104506])"
      ]
     },
     "execution_count": 21,
     "metadata": {},
     "output_type": "execute_result"
    }
   ],
   "source": [
    "# Indexing a vector array (values)\n",
    "print('Full array: ')\n",
    "values\n",
    "print('First item:')\n",
    "values[0] # grabbing 1st item\n",
    "print('Last item:')\n",
    "values[-1] # grabbing last item\n",
    "print('2nd and 3rd items:')\n",
    "values[1:3] # grabbing 2nd & 3rd item\n",
    "print('4th and other items up to 8th item:')\n",
    "values[3:8] # item 4 to 8"
   ]
  },
  {
   "cell_type": "code",
   "execution_count": 24,
   "id": "5e5a0856",
   "metadata": {},
   "outputs": [
    {
     "data": {
      "text/plain": [
       "[0, 1, 2, 3, 4, 5, 6, 7, 8, 9, 10]"
      ]
     },
     "execution_count": 24,
     "metadata": {},
     "output_type": "execute_result"
    },
    {
     "data": {
      "text/plain": [
       "[0, 1, 2, 3]"
      ]
     },
     "execution_count": 24,
     "metadata": {},
     "output_type": "execute_result"
    },
    {
     "data": {
      "text/plain": [
       "[5, 7, 9, 3]"
      ]
     },
     "execution_count": 24,
     "metadata": {},
     "output_type": "execute_result"
    },
    {
     "name": "stdout",
     "output_type": "stream",
     "text": [
      "no changes in original list\n"
     ]
    }
   ],
   "source": [
    "num_list = list(range(11)) # list from 0-10\n",
    "num_list\n",
    "list_slice = num_list[:4]  # first 4 items\n",
    "list_slice                 # display slice\n",
    "list_slice[:] = [5,7,9,3]  # Re-assigning elements\n",
    "list_slice                 # display updated values\n",
    "\n",
    "# checking for the changes\n",
    "\n",
    "print('The original list changes!') if list_slice == num_list[:4]\\\n",
    "else print('no changes in original list')"
   ]
  },
  {
   "cell_type": "code",
   "execution_count": 25,
   "id": "aac0186f",
   "metadata": {},
   "outputs": [
    {
     "data": {
      "text/plain": [
       "array([ 0,  1,  2,  3,  4,  5,  6,  7,  8,  9, 10])"
      ]
     },
     "execution_count": 25,
     "metadata": {},
     "output_type": "execute_result"
    },
    {
     "data": {
      "text/plain": [
       "array([0, 1, 2, 3])"
      ]
     },
     "execution_count": 25,
     "metadata": {},
     "output_type": "execute_result"
    },
    {
     "data": {
      "text/plain": [
       "array([5, 7, 9, 3])"
      ]
     },
     "execution_count": 25,
     "metadata": {},
     "output_type": "execute_result"
    },
    {
     "data": {
      "text/plain": [
       "array([ 5,  7,  9,  3,  4,  5,  6,  7,  8,  9, 10])"
      ]
     },
     "execution_count": 25,
     "metadata": {},
     "output_type": "execute_result"
    }
   ],
   "source": [
    "# Checking the broadcast feature of arrays\n",
    "\n",
    "num_array = np.arange(11)    # array from 0-10\n",
    "num_array                    # display array\n",
    "array_slice = num_array[:4]  # first 4 items\n",
    "array_slice                  # display slice\n",
    "array_slice[:] = [5,7,9,3]   # re-assigning elements\n",
    "array_slice\n",
    "num_array"
   ]
  },
  {
   "cell_type": "code",
   "execution_count": 27,
   "id": "9f3509e0",
   "metadata": {},
   "outputs": [
    {
     "data": {
      "text/plain": [
       "array([ 5,  7,  9,  3,  4,  5,  6,  7,  8,  9, 10])"
      ]
     },
     "execution_count": 27,
     "metadata": {},
     "output_type": "execute_result"
    },
    {
     "data": {
      "text/plain": [
       "array([5, 7, 9, 3])"
      ]
     },
     "execution_count": 27,
     "metadata": {},
     "output_type": "execute_result"
    },
    {
     "data": {
      "text/plain": [
       "array([10, 10, 10, 10])"
      ]
     },
     "execution_count": 27,
     "metadata": {},
     "output_type": "execute_result"
    },
    {
     "data": {
      "text/plain": [
       "array([ 5,  7,  9,  3,  4,  5,  6,  7,  8,  9, 10])"
      ]
     },
     "execution_count": 27,
     "metadata": {},
     "output_type": "execute_result"
    }
   ],
   "source": [
    "# Here is an array allocation without broadcast\n",
    "num_array                                  # Array from the last example\n",
    "array_slice = num_array.copy()[:4]         # copies the first 4 items of the array copy\n",
    "array_slice                                # display array\n",
    "array_slice[:] = 10                        # re-assign array\n",
    "array_slice                                # display updated values\n",
    "num_array                                  # checking original array"
   ]
  },
  {
   "cell_type": "code",
   "execution_count": null,
   "id": "ee252d4e",
   "metadata": {},
   "outputs": [],
   "source": [
    "# grabbing elements from a matrix"
   ]
  },
  {
   "cell_type": "code",
   "execution_count": 30,
   "id": "064b0328",
   "metadata": {},
   "outputs": [
    {
     "data": {
      "text/plain": [
       "array([[ 5, 10, 15],\n",
       "       [20, 25, 30],\n",
       "       [35, 40, 45]])"
      ]
     },
     "execution_count": 30,
     "metadata": {},
     "output_type": "execute_result"
    },
    {
     "data": {
      "text/plain": [
       "array([20, 25, 30])"
      ]
     },
     "execution_count": 30,
     "metadata": {},
     "output_type": "execute_result"
    },
    {
     "data": {
      "text/plain": [
       "35"
      ]
     },
     "execution_count": 30,
     "metadata": {},
     "output_type": "execute_result"
    },
    {
     "data": {
      "text/plain": [
       "array([[ 5, 10, 15],\n",
       "       [20, 25, 30]])"
      ]
     },
     "execution_count": 30,
     "metadata": {},
     "output_type": "execute_result"
    },
    {
     "data": {
      "text/plain": [
       "45"
      ]
     },
     "execution_count": 30,
     "metadata": {},
     "output_type": "execute_result"
    }
   ],
   "source": [
    "# Creating the matrix\n",
    "matrix = np.array(([5,10,15],[20,25,30],[35,40,45]))\n",
    "matrix                                 # display matrix\n",
    "matrix[1]                              # grabbing second row\n",
    "matrix[2][0]                           # grabbing 35\n",
    "matrix[0:2]                            # grabbing first 2 rows\n",
    "matrix[2,2]                            # grabbing 45"
   ]
  },
  {
   "cell_type": "code",
   "execution_count": 31,
   "id": "b505786a",
   "metadata": {},
   "outputs": [
    {
     "data": {
      "text/plain": [
       "array([[10],\n",
       "       [25],\n",
       "       [40]])"
      ]
     },
     "execution_count": 31,
     "metadata": {},
     "output_type": "execute_result"
    }
   ],
   "source": [
    "# Grabbing the second column\n",
    "column_slice = matrix[:,1:2] # Assigning to variable\n",
    "column_slice"
   ]
  },
  {
   "cell_type": "code",
   "execution_count": 32,
   "id": "d250ff82",
   "metadata": {},
   "outputs": [
    {
     "data": {
      "text/plain": [
       "array([[ 0,  2,  4,  6,  8, 10, 12, 14, 16, 18],\n",
       "       [20, 22, 24, 26, 28, 30, 32, 34, 36, 38],\n",
       "       [40, 42, 44, 46, 48, 50, 52, 54, 56, 58],\n",
       "       [60, 62, 64, 66, 68, 70, 72, 74, 76, 78],\n",
       "       [80, 82, 84, 86, 88, 90, 92, 94, 96, 98]])"
      ]
     },
     "execution_count": 32,
     "metadata": {},
     "output_type": "execute_result"
    }
   ],
   "source": [
    "# 5x10 Array of even numbers between 0 and 100.\n",
    "large_array = np.arange(0,100,2).reshape(5,10)\n",
    "large_array # show"
   ]
  },
  {
   "cell_type": "code",
   "execution_count": 33,
   "id": "287f457c",
   "metadata": {},
   "outputs": [
    {
     "data": {
      "text/plain": [
       "96"
      ]
     },
     "execution_count": 33,
     "metadata": {},
     "output_type": "execute_result"
    }
   ],
   "source": [
    "num96 = large_array[4,8]\n",
    "num96"
   ]
  },
  {
   "cell_type": "code",
   "execution_count": 34,
   "id": "1ae6958a",
   "metadata": {},
   "outputs": [
    {
     "data": {
      "text/plain": [
       "array([[44, 46, 48, 50, 52, 54]])"
      ]
     },
     "execution_count": 34,
     "metadata": {},
     "output_type": "execute_result"
    }
   ],
   "source": [
    "slice_44_54 = large_array[2:3,2:8]\n",
    "slice_44_54"
   ]
  },
  {
   "cell_type": "code",
   "execution_count": 36,
   "id": "c109a532",
   "metadata": {},
   "outputs": [
    {
     "data": {
      "text/plain": [
       "array([[24, 26],\n",
       "       [44, 46],\n",
       "       [64, 66],\n",
       "       [84, 86]])"
      ]
     },
     "execution_count": 36,
     "metadata": {},
     "output_type": "execute_result"
    }
   ],
   "source": [
    "slice_26_44 = large_array[1:5,2:4]\n",
    "slice_26_44"
   ]
  },
  {
   "cell_type": "code",
   "execution_count": null,
   "id": "dc604a5f",
   "metadata": {},
   "outputs": [],
   "source": []
  }
 ],
 "metadata": {
  "kernelspec": {
   "display_name": "Python 3 (ipykernel)",
   "language": "python",
   "name": "python3"
  },
  "language_info": {
   "codemirror_mode": {
    "name": "ipython",
    "version": 3
   },
   "file_extension": ".py",
   "mimetype": "text/x-python",
   "name": "python",
   "nbconvert_exporter": "python",
   "pygments_lexer": "ipython3",
   "version": "3.8.10"
  }
 },
 "nbformat": 4,
 "nbformat_minor": 5
}
