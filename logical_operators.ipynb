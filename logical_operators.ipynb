{
 "cells": [
  {
   "cell_type": "code",
   "execution_count": 14,
   "id": "f5b51d72",
   "metadata": {},
   "outputs": [
    {
     "name": "stdout",
     "output_type": "stream",
     "text": [
      "True\n",
      "False\n",
      "False\n",
      "False\n",
      "True\n"
     ]
    }
   ],
   "source": [
    "# The 'and' operator\n",
    "print(True & True); print(True and False); print(False and False)\n",
    "\n",
    "print(False and True); print('foo' in 'foobar' and 1 < 2)\n"
   ]
  },
  {
   "cell_type": "code",
   "execution_count": 13,
   "id": "f4371510",
   "metadata": {},
   "outputs": [
    {
     "name": "stdout",
     "output_type": "stream",
     "text": [
      "True\n",
      "True\n",
      "False\n",
      "True\n",
      "True\n"
     ]
    }
   ],
   "source": [
    "# The 'or' operator\n",
    "print(True | True); print(True or False); print(False or False)\n",
    "\n",
    "print(False or True); print(('foo' in 'foobar') | 1 < 2)"
   ]
  },
  {
   "cell_type": "code",
   "execution_count": 8,
   "id": "49a032c4",
   "metadata": {},
   "outputs": [],
   "source": [
    "list1 = ['Beans', 'Wheat', 'Bread']\n",
    "list2 = ['Rice', 'Plantain', 'Pizza', 'Spaghetti']"
   ]
  },
  {
   "cell_type": "code",
   "execution_count": 11,
   "id": "43948009",
   "metadata": {},
   "outputs": [
    {
     "name": "stdout",
     "output_type": "stream",
     "text": [
      "False\n"
     ]
    }
   ],
   "source": [
    "checked_str1 = 'Rice' # 1\n",
    "print(checked_str1 in list1 and list2)"
   ]
  },
  {
   "cell_type": "code",
   "execution_count": 16,
   "id": "d8ee31f2",
   "metadata": {},
   "outputs": [
    {
     "name": "stdout",
     "output_type": "stream",
     "text": [
      "['Rice', 'Plantain', 'Pizza', 'Spaghetti']\n"
     ]
    }
   ],
   "source": [
    "checked_str2 = 'Pizza'\n",
    "print(checked_str2 in list1 or list2)"
   ]
  },
  {
   "cell_type": "code",
   "execution_count": 24,
   "id": "13890e58",
   "metadata": {},
   "outputs": [
    {
     "data": {
      "text/plain": [
       "{'my_numbers1': [1, 2, 3, 4, 5], (1, 2): (1, 2, 3, 4, 5)}"
      ]
     },
     "execution_count": 24,
     "metadata": {},
     "output_type": "execute_result"
    }
   ],
   "source": [
    "my_dictionary = {'my_numbers1':[1,2,3,4,5], (1,2):(1, 2, 3, 4, 5)}\n",
    "my_dictionary"
   ]
  }
 ],
 "metadata": {
  "kernelspec": {
   "display_name": "Python 3 (ipykernel)",
   "language": "python",
   "name": "python3"
  },
  "language_info": {
   "codemirror_mode": {
    "name": "ipython",
    "version": 3
   },
   "file_extension": ".py",
   "mimetype": "text/x-python",
   "name": "python",
   "nbconvert_exporter": "python",
   "pygments_lexer": "ipython3",
   "version": "3.8.10"
  }
 },
 "nbformat": 4,
 "nbformat_minor": 5
}
