{
 "cells": [
  {
   "cell_type": "code",
   "execution_count": 1,
   "id": "4b1c6834",
   "metadata": {},
   "outputs": [
    {
     "name": "stdout",
     "output_type": "stream",
     "text": [
      "1 : I love Python\n",
      "2 : I love Python\n",
      "3 : I love Python\n",
      "4 : I love Python\n",
      "5 : I love Python\n",
      "\n",
      "Program has completed\n"
     ]
    }
   ],
   "source": [
    "# while loop to print output 5 times\n",
    "\n",
    "i = 1 # counter\n",
    "\n",
    "while i < 6: # flag\n",
    "#     i = i + 1\n",
    "    print(i,': I love Python')\n",
    "    i = i + 1 # This increments the value of 'i'\n",
    "else:\n",
    "    print('\\nProgram has completed')"
   ]
  },
  {
   "cell_type": "code",
   "execution_count": 2,
   "id": "0a636fbf",
   "metadata": {},
   "outputs": [
    {
     "name": "stdout",
     "output_type": "stream",
     "text": [
      "1\n",
      "2\n",
      "3\n",
      "4\n",
      "5\n",
      "6\n",
      "7\n",
      "9\n",
      "10\n",
      "\n",
      "The program has ended\n"
     ]
    }
   ],
   "source": [
    "# This program prints 1-10 but skips 8\n",
    "\n",
    "i = 0 # Counter\n",
    "\n",
    "while i <= 9:\n",
    "    i = i + 1\n",
    "    if i == 8:\n",
    "        continue\n",
    "    print(i)\n",
    "else:\n",
    "    print('\\nThe program has ended')"
   ]
  },
  {
   "cell_type": "code",
   "execution_count": 3,
   "id": "fbe5ea02",
   "metadata": {},
   "outputs": [
    {
     "name": "stdout",
     "output_type": "stream",
     "text": [
      "Iteration  1\n",
      "\tvalue = 1\n",
      "Iteration  2\n",
      "\tvalue = 2\n",
      "Iteration  3\n",
      "\tvalue = 3\n",
      "Iteration  4\n",
      "\tvalue = 4\n",
      "Iteration  5\n",
      "\tvalue = 5\n",
      "Iteration  6\n",
      "\tvalue = 6\n",
      "Iteration  7\n",
      "\tvalue = 7\n",
      "Iteration  8\n",
      "Iteration  9\n",
      "Iteration  10\n",
      "Iteration  11\n",
      "Iteration  12\n",
      "Iteration  13\n",
      "Iteration  14\n",
      "Iteration  15\n"
     ]
    }
   ],
   "source": [
    "# This program is meant to print 1-10 and skip 8.\n",
    "# It runs indefinitely until a break.\n",
    "\n",
    "i = 1 # loop variables\n",
    "\n",
    "j = 1\n",
    "\n",
    "while i <= 10:\n",
    "    print('Iteration ', j)\n",
    "    if j >= 15:\n",
    "        break # loop escape sequence\n",
    "    j = j + 1\n",
    "    \n",
    "    if i == 8:\n",
    "        continue # indefinite loop\n",
    "    print('\\tvalue =',i)\n",
    "    i = i + 1\n",
    "else:\n",
    "    print('\\nThe program has ended')"
   ]
  },
  {
   "cell_type": "code",
   "execution_count": null,
   "id": "b344a484",
   "metadata": {},
   "outputs": [],
   "source": []
  }
 ],
 "metadata": {
  "kernelspec": {
   "display_name": "Python 3 (ipykernel)",
   "language": "python",
   "name": "python3"
  },
  "language_info": {
   "codemirror_mode": {
    "name": "ipython",
    "version": 3
   },
   "file_extension": ".py",
   "mimetype": "text/x-python",
   "name": "python",
   "nbconvert_exporter": "python",
   "pygments_lexer": "ipython3",
   "version": "3.8.10"
  }
 },
 "nbformat": 4,
 "nbformat_minor": 5
}
