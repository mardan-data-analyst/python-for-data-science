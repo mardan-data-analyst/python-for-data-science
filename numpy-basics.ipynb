{
 "cells": [
  {
   "cell_type": "code",
   "execution_count": 3,
   "id": "baf6cc42",
   "metadata": {},
   "outputs": [
    {
     "data": {
      "text/plain": [
       "[1, 2, 3, 4, 5]"
      ]
     },
     "execution_count": 3,
     "metadata": {},
     "output_type": "execute_result"
    }
   ],
   "source": [
    "# This is a list of integers\n",
    "Int_list = [1,2,3,4,5]\n",
    "Int_list"
   ]
  },
  {
   "cell_type": "code",
   "execution_count": 15,
   "id": "4caf32fc",
   "metadata": {},
   "outputs": [
    {
     "data": {
      "text/plain": [
       "array([1, 2, 3, 4, 5])"
      ]
     },
     "execution_count": 15,
     "metadata": {},
     "output_type": "execute_result"
    }
   ],
   "source": [
    "# import syntax\n",
    "from IPython.core.interactiveshell import InteractiveShell\n",
    "InteractiveShell.ast_node_interactivity = 'all'\n",
    "import numpy as np\n",
    "\n",
    "np.array(Int_list)\n"
   ]
  },
  {
   "cell_type": "code",
   "execution_count": 16,
   "id": "a26238f6",
   "metadata": {},
   "outputs": [
    {
     "data": {
      "text/plain": [
       "numpy.ndarray"
      ]
     },
     "execution_count": 16,
     "metadata": {},
     "output_type": "execute_result"
    }
   ],
   "source": [
    "x = np.array(Int_list)\n",
    "type(x)"
   ]
  },
  {
   "cell_type": "code",
   "execution_count": 18,
   "id": "77d15308",
   "metadata": {},
   "outputs": [
    {
     "data": {
      "text/plain": [
       "1"
      ]
     },
     "execution_count": 18,
     "metadata": {},
     "output_type": "execute_result"
    }
   ],
   "source": [
    "x.ndim # this shows how many dimensions the array has."
   ]
  },
  {
   "cell_type": "code",
   "execution_count": 19,
   "id": "20d64038",
   "metadata": {},
   "outputs": [
    {
     "data": {
      "text/plain": [
       "(5,)"
      ]
     },
     "execution_count": 19,
     "metadata": {},
     "output_type": "execute_result"
    }
   ],
   "source": [
    "x.shape # This shows the shape."
   ]
  },
  {
   "cell_type": "code",
   "execution_count": 20,
   "id": "13a3333d",
   "metadata": {},
   "outputs": [
    {
     "name": "stdout",
     "output_type": "stream",
     "text": [
      "Resulting matrix:\n",
      "\n",
      " [[4 5 6]\n",
      " [1 2 3]] \n",
      "\n",
      "Dimensions: 2 \n",
      "shape (rows,columns): (2, 3)\n"
     ]
    }
   ],
   "source": [
    "# This is a matrix\n",
    "x = [1,2,3]\n",
    "y = [4,5,6]\n",
    "\n",
    "my_list = [y,x] # nested list\n",
    "\n",
    "my_matrix = np.array(my_list) # creating the matrix\n",
    "\n",
    "A = my_matrix.ndim\n",
    "B = my_matrix.shape\n",
    "\n",
    "# Printing\n",
    "print('Resulting matrix:\\n\\n',my_matrix,'\\n\\nDimensions:',A,'\\nshape (rows,columns):',B)"
   ]
  },
  {
   "cell_type": "code",
   "execution_count": 21,
   "id": "bc35b00b",
   "metadata": {},
   "outputs": [
    {
     "data": {
      "text/plain": [
       "array([[4, 1],\n",
       "       [5, 2],\n",
       "       [6, 3]])"
      ]
     },
     "execution_count": 21,
     "metadata": {},
     "output_type": "execute_result"
    }
   ],
   "source": [
    "# this finds the transpose of the matrix\n",
    "t_matrix = my_matrix.transpose()\n",
    "t_matrix"
   ]
  },
  {
   "cell_type": "code",
   "execution_count": 23,
   "id": "469ec393",
   "metadata": {},
   "outputs": [
    {
     "data": {
      "text/plain": [
       "2"
      ]
     },
     "execution_count": 23,
     "metadata": {},
     "output_type": "execute_result"
    },
    {
     "data": {
      "text/plain": [
       "(3, 2)"
      ]
     },
     "execution_count": 23,
     "metadata": {},
     "output_type": "execute_result"
    }
   ],
   "source": [
    "C = t_matrix.ndim\n",
    "D = t_matrix.shape\n",
    "C\n",
    "D"
   ]
  },
  {
   "cell_type": "code",
   "execution_count": 24,
   "id": "eed03a49",
   "metadata": {},
   "outputs": [
    {
     "data": {
      "text/plain": [
       "array([ 0,  2,  4,  6,  8, 10])"
      ]
     },
     "execution_count": 24,
     "metadata": {},
     "output_type": "execute_result"
    }
   ],
   "source": [
    "# Array of even numbers between 0 and 10.\n",
    "Even_array = np.arange(0,11,2)\n",
    "Even_array"
   ]
  },
  {
   "cell_type": "code",
   "execution_count": 25,
   "id": "54e51467",
   "metadata": {},
   "outputs": [
    {
     "data": {
      "text/plain": [
       "array([ 0.,  2.,  4.,  6.,  8., 10.])"
      ]
     },
     "execution_count": 25,
     "metadata": {},
     "output_type": "execute_result"
    }
   ],
   "source": [
    "Even_array2 = np.arange(0,11,2,dtype='float')\n",
    "Even_array2"
   ]
  },
  {
   "cell_type": "code",
   "execution_count": 26,
   "id": "76ce9c2d",
   "metadata": {},
   "outputs": [
    {
     "name": "stdout",
     "output_type": "stream",
     "text": [
      "Here are the arrays:\n",
      "\n"
     ]
    },
    {
     "data": {
      "text/plain": [
       "array([0.  , 1.25, 2.5 , 3.75, 5.  ])"
      ]
     },
     "execution_count": 26,
     "metadata": {},
     "output_type": "execute_result"
    },
    {
     "data": {
      "text/plain": [
       "array([ 51.,  52.,  53.,  54.,  55.,  56.,  57.,  58.,  59.,  60.,  61.,\n",
       "        62.,  63.,  64.,  65.,  66.,  67.,  68.,  69.,  70.,  71.,  72.,\n",
       "        73.,  74.,  75.,  76.,  77.,  78.,  79.,  80.,  81.,  82.,  83.,\n",
       "        84.,  85.,  86.,  87.,  88.,  89.,  90.,  91.,  92.,  93.,  94.,\n",
       "        95.,  96.,  97.,  98.,  99., 100.])"
      ]
     },
     "execution_count": 26,
     "metadata": {},
     "output_type": "execute_result"
    }
   ],
   "source": [
    "# Arrays of linearly spaced points\n",
    "A = np.linspace(0,5,5) # 5 equal points\n",
    "B = np.linspace(51,100) # 50 equal points between 51 & 100\n",
    "print('Here are the arrays:\\n')\n",
    "A\n",
    "B"
   ]
  },
  {
   "cell_type": "code",
   "execution_count": 27,
   "id": "1919e65b",
   "metadata": {},
   "outputs": [
    {
     "data": {
      "text/plain": [
       "array([0., 0., 0.])"
      ]
     },
     "execution_count": 27,
     "metadata": {},
     "output_type": "execute_result"
    },
    {
     "data": {
      "text/plain": [
       "array([[0., 0., 0.],\n",
       "       [0., 0., 0.]])"
      ]
     },
     "execution_count": 27,
     "metadata": {},
     "output_type": "execute_result"
    }
   ],
   "source": [
    "np.zeros(3) # A vector of 3 elements.\n",
    "np.zeros((2,3)) # A matrix of 6 elements i.e 2 rows, 3 columns"
   ]
  },
  {
   "cell_type": "code",
   "execution_count": 28,
   "id": "d9b7bf06",
   "metadata": {},
   "outputs": [
    {
     "data": {
      "text/plain": [
       "array([1., 1., 1.])"
      ]
     },
     "execution_count": 28,
     "metadata": {},
     "output_type": "execute_result"
    },
    {
     "data": {
      "text/plain": [
       "array([[1., 1., 1.],\n",
       "       [1., 1., 1.]])"
      ]
     },
     "execution_count": 28,
     "metadata": {},
     "output_type": "execute_result"
    }
   ],
   "source": [
    "np.ones(3) # A vector of 3 elements.\n",
    "np.ones((2,3)) # A matrix of 6 elements i.e. 2 rows, 3 columns."
   ]
  },
  {
   "cell_type": "code",
   "execution_count": 29,
   "id": "35cf50c7",
   "metadata": {},
   "outputs": [
    {
     "data": {
      "text/plain": [
       "array([[1., 0.],\n",
       "       [0., 1.]])"
      ]
     },
     "execution_count": 29,
     "metadata": {},
     "output_type": "execute_result"
    },
    {
     "data": {
      "text/plain": [
       "array([[1., 0., 0.],\n",
       "       [0., 1., 0.],\n",
       "       [0., 0., 1.]])"
      ]
     },
     "execution_count": 29,
     "metadata": {},
     "output_type": "execute_result"
    }
   ],
   "source": [
    "np.eye(2) # A matrix of 4 elements 2 rows, 2 columns.\n",
    "np.eye(3) # A matrix of 6 elements 3 rows, 3 columns."
   ]
  },
  {
   "cell_type": "code",
   "execution_count": 30,
   "id": "af0e0b72",
   "metadata": {},
   "outputs": [
    {
     "data": {
      "text/plain": [
       "array([0.69464248, 0.6771047 ])"
      ]
     },
     "execution_count": 30,
     "metadata": {},
     "output_type": "execute_result"
    },
    {
     "data": {
      "text/plain": [
       "array([[0.73652438, 0.00992015, 0.91240207],\n",
       "       [0.0341566 , 0.99147336, 0.96406622]])"
      ]
     },
     "execution_count": 30,
     "metadata": {},
     "output_type": "execute_result"
    }
   ],
   "source": [
    "np.random.rand(2) # A vector of 2 random value.\n",
    "np.random.rand(2,3) # A matrix of 6 random values."
   ]
  },
  {
   "cell_type": "code",
   "execution_count": 14,
   "id": "9d7af33c",
   "metadata": {},
   "outputs": [
    {
     "data": {
      "text/plain": [
       "array([[ 1.21066095, -0.35618412, -0.48687078],\n",
       "       [-0.18097228,  0.89276796,  0.18547389]])"
      ]
     },
     "execution_count": 14,
     "metadata": {},
     "output_type": "execute_result"
    }
   ],
   "source": [
    "np.random.randn(2)\n",
    "np.random.randn(2,3)"
   ]
  },
  {
   "cell_type": "code",
   "execution_count": 35,
   "id": "7f3f3c11",
   "metadata": {},
   "outputs": [
    {
     "data": {
      "text/plain": [
       "2"
      ]
     },
     "execution_count": 35,
     "metadata": {},
     "output_type": "execute_result"
    },
    {
     "data": {
      "text/plain": [
       "array([51, 38, 61, 40, 56,  7])"
      ]
     },
     "execution_count": 35,
     "metadata": {},
     "output_type": "execute_result"
    },
    {
     "data": {
      "text/plain": [
       "array([[92, 31, 92],\n",
       "       [79, 41, 62]])"
      ]
     },
     "execution_count": 35,
     "metadata": {},
     "output_type": "execute_result"
    }
   ],
   "source": [
    "np.random.randint(1,5) # A random value between 1 and 5.\n",
    "np.random.randint(1,100,6) # A vector of 6 random values.\n",
    "np.random.randint(1,100,(2,3)) # A matrix of 6 random values."
   ]
  },
  {
   "cell_type": "code",
   "execution_count": 36,
   "id": "bf1a4814",
   "metadata": {},
   "outputs": [],
   "source": [
    "# creating a dice roll game with randint()\n",
    "# Defining the function\n",
    "\n",
    "def roll_dice():\n",
    "    \"\"\"This function displays a dice roll value when called\"\"\"\n",
    "    \n",
    "    dice1 = np.random.randint(1,7) # This allows 6 to be inclusive.\n",
    "    dice2 = np.random.randint(1,7)\n",
    "    \n",
    "    # Display condition\n",
    "    if dice1 == dice2:\n",
    "        print('Roll:', dice1,'&',dice2,'\\ndoubles!')\n",
    "        if dice1 == 1:\n",
    "            print('snake eyes!\\n')\n",
    "    else:\n",
    "        print('Roll:',dice1,'&',dice2)"
   ]
  },
  {
   "cell_type": "code",
   "execution_count": 55,
   "id": "f0048f7a",
   "metadata": {},
   "outputs": [
    {
     "name": "stdout",
     "output_type": "stream",
     "text": [
      "Roll: 1 & 1 \n",
      "doubles!\n",
      "snake eyes!\n",
      "\n"
     ]
    }
   ],
   "source": [
    "roll_dice()"
   ]
  }
 ],
 "metadata": {
  "kernelspec": {
   "display_name": "Python 3 (ipykernel)",
   "language": "python",
   "name": "python3"
  },
  "language_info": {
   "codemirror_mode": {
    "name": "ipython",
    "version": 3
   },
   "file_extension": ".py",
   "mimetype": "text/x-python",
   "name": "python",
   "nbconvert_exporter": "python",
   "pygments_lexer": "ipython3",
   "version": "3.8.10"
  }
 },
 "nbformat": 4,
 "nbformat_minor": 5
}
