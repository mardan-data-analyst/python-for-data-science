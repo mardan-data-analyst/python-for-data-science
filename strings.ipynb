{
 "cells": [
  {
   "cell_type": "code",
   "execution_count": 1,
   "id": "59a37fdf",
   "metadata": {},
   "outputs": [
    {
     "data": {
      "text/plain": [
       "'Michael Foster'"
      ]
     },
     "execution_count": 1,
     "metadata": {},
     "output_type": "execute_result"
    }
   ],
   "source": [
    "'Michael Foster'"
   ]
  },
  {
   "cell_type": "code",
   "execution_count": 2,
   "id": "44fad614",
   "metadata": {},
   "outputs": [
    {
     "data": {
      "text/plain": [
       "'David Beckham'"
      ]
     },
     "execution_count": 2,
     "metadata": {},
     "output_type": "execute_result"
    }
   ],
   "source": [
    "\"David Beckham\""
   ]
  },
  {
   "cell_type": "code",
   "execution_count": 3,
   "id": "a39ee3f5",
   "metadata": {},
   "outputs": [
    {
     "data": {
      "text/plain": [
       "'Guillermo Giovani'"
      ]
     },
     "execution_count": 3,
     "metadata": {},
     "output_type": "execute_result"
    }
   ],
   "source": [
    "\"\"\"Guillermo Giovani\"\"\""
   ]
  },
  {
   "cell_type": "code",
   "execution_count": 4,
   "id": "2fb07d41",
   "metadata": {},
   "outputs": [
    {
     "data": {
      "text/plain": [
       "\"Hello, Mark, it's nice to meet you!\""
      ]
     },
     "execution_count": 4,
     "metadata": {},
     "output_type": "execute_result"
    }
   ],
   "source": [
    "\"Hello, Mark, it's nice to meet you!\""
   ]
  },
  {
   "cell_type": "code",
   "execution_count": 21,
   "id": "ab1688c9",
   "metadata": {},
   "outputs": [
    {
     "name": "stdout",
     "output_type": "stream",
     "text": [
      "\n",
      "                       _        _   _                   _           _   \n",
      "  _ __ ___   ___  _ __| |_ __ _| | | | _____  _ __ ___ | |__   __ _| |_ \n",
      " | '_ ` _ \\ / _ \\| '__| __/ _` | | | |/ / _ \\| '_ ` _ \\| '_ \\ / _` | __|\n",
      " | | | | | | (_) | |  | || (_| | | |   < (_) | | | | | | |_) | (_| | |_ \n",
      " |_| |_| |_|\\___/|_|   \\__\\__,_|_| |_|\\_\\___/|_| |_| |_|_.__/ \\__,_|\\__|\n",
      "\n",
      "                         CHOOSE YOUR DESTINY !!\n",
      "      \n"
     ]
    }
   ],
   "source": [
    "print(\"\"\"\n",
    "                       _        _   _                   _           _   \n",
    "  _ __ ___   ___  _ __| |_ __ _| | | | _____  _ __ ___ | |__   __ _| |_ \n",
    " | '_ ` _ \\ / _ \\| '__| __/ _` | | | |/ / _ \\| '_ ` _ \\| '_ \\ / _` | __|\n",
    " | | | | | | (_) | |  | || (_| | | |   < (_) | | | | | | |_) | (_| | |_ \n",
    " |_| |_| |_|\\___/|_|   \\__\\__,_|_| |_|\\_\\___/|_| |_| |_|_.__/ \\__,_|\\__|\n",
    "\n",
    "                         CHOOSE YOUR DESTINY !!\n",
    "      \"\"\")"
   ]
  },
  {
   "cell_type": "code",
   "execution_count": 22,
   "id": "20d7af87",
   "metadata": {},
   "outputs": [
    {
     "name": "stdout",
     "output_type": "stream",
     "text": [
      "\n",
      "\n",
      "Amiga A1500 by Edward Farrow\n",
      "\n",
      "  .---------.\n",
      "  |.-------.|\n",
      "  ||>run#  ||\n",
      "  ||       ||\n",
      "  |\"-------'|etf\n",
      ".-^---------^-.\n",
      "| ---~   AMiGA|\n",
      "\"-------------'\n",
      "\n",
      "\n"
     ]
    }
   ],
   "source": [
    "print(\"\"\"\n",
    "\n",
    "Amiga A1500 by Edward Farrow\n",
    "\n",
    "  .---------.\n",
    "  |.-------.|\n",
    "  ||>run#  ||\n",
    "  ||       ||\n",
    "  |\"-------'|etf\n",
    ".-^---------^-.\n",
    "| ---~   AMiGA|\n",
    "\"-------------'\n",
    "\n",
    "\"\"\")"
   ]
  },
  {
   "cell_type": "code",
   "execution_count": 25,
   "id": "172092ad",
   "metadata": {},
   "outputs": [
    {
     "data": {
      "text/plain": [
       "'Fire cracker!'"
      ]
     },
     "execution_count": 25,
     "metadata": {},
     "output_type": "execute_result"
    }
   ],
   "source": [
    "'Fire' + ' cracker!'"
   ]
  },
  {
   "cell_type": "code",
   "execution_count": 26,
   "id": "eeb03157",
   "metadata": {},
   "outputs": [
    {
     "name": "stdout",
     "output_type": "stream",
     "text": [
      "I love Python programming, it's awesome.\n",
      "I love Python programming, it's awesome.\n",
      "I love Python programming, it's awesome.\n",
      "\n"
     ]
    }
   ],
   "source": [
    "print(\"I love Python programming, it's awesome.\\n\" *3)"
   ]
  },
  {
   "cell_type": "code",
   "execution_count": null,
   "id": "25373c7e",
   "metadata": {},
   "outputs": [],
   "source": []
  }
 ],
 "metadata": {
  "kernelspec": {
   "display_name": "Python 3 (ipykernel)",
   "language": "python",
   "name": "python3"
  },
  "language_info": {
   "codemirror_mode": {
    "name": "ipython",
    "version": 3
   },
   "file_extension": ".py",
   "mimetype": "text/x-python",
   "name": "python",
   "nbconvert_exporter": "python",
   "pygments_lexer": "ipython3",
   "version": "3.8.10"
  }
 },
 "nbformat": 4,
 "nbformat_minor": 5
}
