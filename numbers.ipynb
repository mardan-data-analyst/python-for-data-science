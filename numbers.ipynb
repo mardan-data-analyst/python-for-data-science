{
 "cells": [
  {
   "cell_type": "code",
   "execution_count": 1,
   "id": "dfbe690c",
   "metadata": {},
   "outputs": [
    {
     "data": {
      "text/plain": [
       "15"
      ]
     },
     "execution_count": 1,
     "metadata": {},
     "output_type": "execute_result"
    }
   ],
   "source": [
    "5 + 10"
   ]
  },
  {
   "cell_type": "code",
   "execution_count": 2,
   "id": "d54fd783",
   "metadata": {},
   "outputs": [
    {
     "data": {
      "text/plain": [
       "8"
      ]
     },
     "execution_count": 2,
     "metadata": {},
     "output_type": "execute_result"
    }
   ],
   "source": [
    "20 - 12"
   ]
  },
  {
   "cell_type": "code",
   "execution_count": 3,
   "id": "7786f975",
   "metadata": {},
   "outputs": [
    {
     "data": {
      "text/plain": [
       "15"
      ]
     },
     "execution_count": 3,
     "metadata": {},
     "output_type": "execute_result"
    }
   ],
   "source": [
    "3 * 5"
   ]
  },
  {
   "cell_type": "code",
   "execution_count": 4,
   "id": "39ef6a76",
   "metadata": {},
   "outputs": [
    {
     "data": {
      "text/plain": [
       "4.0"
      ]
     },
     "execution_count": 4,
     "metadata": {},
     "output_type": "execute_result"
    }
   ],
   "source": [
    "20 / 5"
   ]
  },
  {
   "cell_type": "code",
   "execution_count": 5,
   "id": "6d8d44a7",
   "metadata": {},
   "outputs": [
    {
     "data": {
      "text/plain": [
       "4"
      ]
     },
     "execution_count": 5,
     "metadata": {},
     "output_type": "execute_result"
    }
   ],
   "source": [
    "20 // 5"
   ]
  },
  {
   "cell_type": "code",
   "execution_count": 6,
   "id": "cab79a25",
   "metadata": {},
   "outputs": [
    {
     "data": {
      "text/plain": [
       "9.0"
      ]
     },
     "execution_count": 6,
     "metadata": {},
     "output_type": "execute_result"
    }
   ],
   "source": [
    "# This code tries to determine order of operations with integers.\n",
    "\n",
    "(7 - 2**2)**3 / (12 - 3**2)"
   ]
  },
  {
   "cell_type": "code",
   "execution_count": 11,
   "id": "58120763",
   "metadata": {},
   "outputs": [
    {
     "data": {
      "text/plain": [
       "8.881784197001252e-16"
      ]
     },
     "execution_count": 11,
     "metadata": {},
     "output_type": "execute_result"
    }
   ],
   "source": [
    "4**(5-6*5)\n"
   ]
  },
  {
   "cell_type": "code",
   "execution_count": 12,
   "id": "b8d27257",
   "metadata": {},
   "outputs": [
    {
     "data": {
      "text/plain": [
       "-100"
      ]
     },
     "execution_count": 12,
     "metadata": {},
     "output_type": "execute_result"
    }
   ],
   "source": [
    "4*(5-6*5)"
   ]
  },
  {
   "cell_type": "code",
   "execution_count": 15,
   "id": "cc77b146",
   "metadata": {},
   "outputs": [
    {
     "name": "stdout",
     "output_type": "stream",
     "text": [
      "5\n",
      "15\n"
     ]
    },
    {
     "data": {
      "text/plain": [
       "75"
      ]
     },
     "execution_count": 15,
     "metadata": {},
     "output_type": "execute_result"
    }
   ],
   "source": [
    "# This code multiplies integer in various bases and displays the decimal equivalent: 5 in base 2 * 15 in base 8.\n",
    "# 5 in base 2 is 101 and 15 in base 8 is 17.\n",
    "# to specify 101 in base 2, we use 0b101\n",
    "# to specify 17 in base 8, we use 0o17\n",
    "print(0b101)\n",
    "print(0o17)\n",
    "0b101 * 0o17"
   ]
  },
  {
   "cell_type": "code",
   "execution_count": 21,
   "id": "c0a2977b",
   "metadata": {},
   "outputs": [
    {
     "name": "stdout",
     "output_type": "stream",
     "text": [
      "0x2e4\n"
     ]
    }
   ],
   "source": [
    "# 740 in base 16 (hexadecimal) / 2 in base 10.\n",
    "print(hex(740))"
   ]
  },
  {
   "cell_type": "code",
   "execution_count": 22,
   "id": "5ff1ca6b",
   "metadata": {},
   "outputs": [
    {
     "data": {
      "text/plain": [
       "370.0"
      ]
     },
     "execution_count": 22,
     "metadata": {},
     "output_type": "execute_result"
    }
   ],
   "source": [
    "0x2e4 / 2"
   ]
  },
  {
   "cell_type": "code",
   "execution_count": 23,
   "id": "3629bc8d",
   "metadata": {},
   "outputs": [
    {
     "name": "stdout",
     "output_type": "stream",
     "text": [
      "0b1011100100\n"
     ]
    }
   ],
   "source": [
    "print(bin(740))"
   ]
  },
  {
   "cell_type": "code",
   "execution_count": 24,
   "id": "7d1ed588",
   "metadata": {},
   "outputs": [
    {
     "data": {
      "text/plain": [
       "740"
      ]
     },
     "execution_count": 24,
     "metadata": {},
     "output_type": "execute_result"
    }
   ],
   "source": [
    "0b1011100100 "
   ]
  },
  {
   "cell_type": "code",
   "execution_count": 25,
   "id": "e9aeabad",
   "metadata": {
    "scrolled": true
   },
   "outputs": [
    {
     "name": "stdout",
     "output_type": "stream",
     "text": [
      "740\n"
     ]
    }
   ],
   "source": [
    "print(int(0b1011100100))"
   ]
  },
  {
   "cell_type": "code",
   "execution_count": 26,
   "id": "c4029505",
   "metadata": {},
   "outputs": [
    {
     "data": {
      "text/plain": [
       "inf"
      ]
     },
     "execution_count": 26,
     "metadata": {},
     "output_type": "execute_result"
    }
   ],
   "source": [
    "1.8e308"
   ]
  },
  {
   "cell_type": "code",
   "execution_count": 27,
   "id": "06338691",
   "metadata": {},
   "outputs": [
    {
     "data": {
      "text/plain": [
       "0.0"
      ]
     },
     "execution_count": 27,
     "metadata": {},
     "output_type": "execute_result"
    }
   ],
   "source": [
    "1e-325"
   ]
  },
  {
   "cell_type": "code",
   "execution_count": 28,
   "id": "7a9d7e01",
   "metadata": {},
   "outputs": [
    {
     "data": {
      "text/plain": [
       "51.415729444066585"
      ]
     },
     "execution_count": 28,
     "metadata": {},
     "output_type": "execute_result"
    }
   ],
   "source": [
    "3.3 ** 3.3"
   ]
  },
  {
   "cell_type": "code",
   "execution_count": 29,
   "id": "84bff86e",
   "metadata": {},
   "outputs": [
    {
     "data": {
      "text/plain": [
       "13.827086118044146"
      ]
     },
     "execution_count": 29,
     "metadata": {},
     "output_type": "execute_result"
    }
   ],
   "source": [
    "3.3 ** 2.2"
   ]
  },
  {
   "cell_type": "code",
   "execution_count": 30,
   "id": "f2c73fd0",
   "metadata": {},
   "outputs": [
    {
     "data": {
      "text/plain": [
       "4.4"
      ]
     },
     "execution_count": 30,
     "metadata": {},
     "output_type": "execute_result"
    }
   ],
   "source": [
    "2.2 * 2"
   ]
  },
  {
   "cell_type": "code",
   "execution_count": 31,
   "id": "5c1b3186",
   "metadata": {},
   "outputs": [
    {
     "data": {
      "text/plain": [
       "0.09999999999999964"
      ]
     },
     "execution_count": 31,
     "metadata": {},
     "output_type": "execute_result"
    }
   ],
   "source": [
    "4.1-4.0"
   ]
  },
  {
   "cell_type": "code",
   "execution_count": 32,
   "id": "4f139b02",
   "metadata": {},
   "outputs": [
    {
     "data": {
      "text/plain": [
       "0.09999999999999964"
      ]
     },
     "execution_count": 32,
     "metadata": {},
     "output_type": "execute_result"
    }
   ],
   "source": [
    "4.1 - 4"
   ]
  },
  {
   "cell_type": "code",
   "execution_count": 33,
   "id": "e1247805",
   "metadata": {},
   "outputs": [
    {
     "data": {
      "text/plain": [
       "9.0"
      ]
     },
     "execution_count": 33,
     "metadata": {},
     "output_type": "execute_result"
    }
   ],
   "source": [
    "4.1 + 4.9 "
   ]
  },
  {
   "cell_type": "code",
   "execution_count": 34,
   "id": "312bbacf",
   "metadata": {},
   "outputs": [
    {
     "data": {
      "text/plain": [
       "3.0"
      ]
     },
     "execution_count": 34,
     "metadata": {},
     "output_type": "execute_result"
    }
   ],
   "source": [
    "9.0 / 3.0"
   ]
  },
  {
   "cell_type": "code",
   "execution_count": 35,
   "id": "925f9456",
   "metadata": {},
   "outputs": [
    {
     "data": {
      "text/plain": [
       "(-2+26j)"
      ]
     },
     "execution_count": 35,
     "metadata": {},
     "output_type": "execute_result"
    }
   ],
   "source": [
    "# This program calculates the product of complex numbers.\n",
    "(5+3j) * (2+4j)"
   ]
  },
  {
   "cell_type": "code",
   "execution_count": null,
   "id": "c8c48d8a",
   "metadata": {},
   "outputs": [],
   "source": [
    "# Complex numbers allow solutions to all polynomial equations, even those that have no solutions in real numbers. \n",
    "# More precisely, the fundamental theorem of algebra asserts that every non-constant polynomial equation with real \n",
    "# or complex coefficients has a solution which is a complex number. \n",
    "# For example, the equation ( x + 1 ) 2 = − 9 {\\displaystyle (x+1)^{2}=-9} {\\displaystyle (x+1)^{2}=-9} has \n",
    "# no real solution, since the square of a real number cannot be negative, \n",
    "# but has the two nonreal complex solutions −1 + 3i and −1 − 3i. "
   ]
  }
 ],
 "metadata": {
  "kernelspec": {
   "display_name": "Python 3 (ipykernel)",
   "language": "python",
   "name": "python3"
  },
  "language_info": {
   "codemirror_mode": {
    "name": "ipython",
    "version": 3
   },
   "file_extension": ".py",
   "mimetype": "text/x-python",
   "name": "python",
   "nbconvert_exporter": "python",
   "pygments_lexer": "ipython3",
   "version": "3.8.10"
  }
 },
 "nbformat": 4,
 "nbformat_minor": 5
}
