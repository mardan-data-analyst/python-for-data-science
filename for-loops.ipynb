{
 "cells": [
  {
   "cell_type": "code",
   "execution_count": null,
   "id": "77127d3b",
   "metadata": {},
   "outputs": [],
   "source": [
    "Indefinite_list = [0]\n",
    "for x in Indefinite_list:\n",
    "    Indefinite_list.append(0)\n",
    "    print(x)"
   ]
  },
  {
   "cell_type": "code",
   "execution_count": 3,
   "id": "f558ac63",
   "metadata": {
    "scrolled": false
   },
   "outputs": [
    {
     "name": "stdout",
     "output_type": "stream",
     "text": [
      "Please, enter a sequence of numbers using [ ]:\t[1,2,3,4,5]\n",
      "\n",
      "Value 1 is : 1\n",
      "\n",
      "Value 2 is : 2\n",
      "\n",
      "Value 3 is : 3\n",
      "\n",
      "Value 4 is : 4\n",
      "\n",
      "Value 5 is : 5\n"
     ]
    }
   ],
   "source": [
    "# This program accepts a list and prints its elemens as numbers\n",
    "\n",
    "List = eval(input('Please, enter a sequence of numbers using [ ]:\\t'))\n",
    "\n",
    "for value in List:\n",
    "    print('\\nValue',value, 'is :', List[value - 1])\n"
   ]
  },
  {
   "cell_type": "code",
   "execution_count": 4,
   "id": "77c2a565",
   "metadata": {},
   "outputs": [
    {
     "name": "stdout",
     "output_type": "stream",
     "text": [
      "[0, 1, 2, 3, 4, 5, 6, 7, 8, 9]\n"
     ]
    }
   ],
   "source": [
    "# using the range function\n",
    "\n",
    "List = list(range(0,10))\n",
    "print(List)"
   ]
  },
  {
   "cell_type": "code",
   "execution_count": 12,
   "id": "464af90f",
   "metadata": {},
   "outputs": [
    {
     "name": "stdout",
     "output_type": "stream",
     "text": [
      "\n",
      "Iteration 1 :  0\n",
      "\n",
      "Iteration 2 :  1\n",
      "\n",
      "Iteration 3 :  2\n",
      "\n",
      "Iteration 4 :  3\n",
      "\n",
      "Iteration 5 :  4\n",
      "\n",
      "Iteration 6 :  5\n",
      "\n",
      "Iteration 7 :  6\n",
      "\n",
      "Iteration 8 :  7\n",
      "\n",
      "Iteration 9 :  8\n",
      "\n",
      "Iteration 10 :  9\n"
     ]
    }
   ],
   "source": [
    "iter_var = 1\n",
    "for element in List:\n",
    "    print('\\nIteration', iter_var,': ', element)\n",
    "    iter_var = iter_var + 1"
   ]
  }
 ],
 "metadata": {
  "kernelspec": {
   "display_name": "Python 3 (ipykernel)",
   "language": "python",
   "name": "python3"
  },
  "language_info": {
   "codemirror_mode": {
    "name": "ipython",
    "version": 3
   },
   "file_extension": ".py",
   "mimetype": "text/x-python",
   "name": "python",
   "nbconvert_exporter": "python",
   "pygments_lexer": "ipython3",
   "version": "3.8.10"
  }
 },
 "nbformat": 4,
 "nbformat_minor": 5
}
