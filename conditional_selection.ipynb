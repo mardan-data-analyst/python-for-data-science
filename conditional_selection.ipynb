{
 "cells": [
  {
   "cell_type": "code",
   "execution_count": 1,
   "id": "d5b1c2c1",
   "metadata": {},
   "outputs": [],
   "source": [
    "import numpy as np\n",
    "from IPython.core.interactiveshell import InteractiveShell\n",
    "InteractiveShell.ast_node_interactivity = 'all'"
   ]
  },
  {
   "cell_type": "code",
   "execution_count": 2,
   "id": "9dd71737",
   "metadata": {},
   "outputs": [
    {
     "data": {
      "text/plain": [
       "array([ 1,  3,  5,  7,  9, 11, 13, 15, 17, 19])"
      ]
     },
     "execution_count": 2,
     "metadata": {},
     "output_type": "execute_result"
    },
    {
     "data": {
      "text/plain": [
       "array([False, False, False, False, False, False,  True,  True,  True,\n",
       "        True])"
      ]
     },
     "execution_count": 2,
     "metadata": {},
     "output_type": "execute_result"
    }
   ],
   "source": [
    "odd_array = np.arange(1,20,2) # Vector of odd numbers\n",
    "odd_array                     # Show vector\n",
    "bool_array = odd_array > 11   # Boolean conditional array\n",
    "bool_array"
   ]
  },
  {
   "cell_type": "code",
   "execution_count": 4,
   "id": "ea7b71a2",
   "metadata": {},
   "outputs": [
    {
     "data": {
      "text/plain": [
       "array([13, 15, 17, 19])"
      ]
     },
     "execution_count": 4,
     "metadata": {},
     "output_type": "execute_result"
    }
   ],
   "source": [
    "useful_Array = odd_array[bool_array] # The values we want\n",
    "useful_Array"
   ]
  },
  {
   "cell_type": "code",
   "execution_count": 6,
   "id": "20befd49",
   "metadata": {},
   "outputs": [
    {
     "data": {
      "text/plain": [
       "array([13, 15, 17, 19])"
      ]
     },
     "execution_count": 6,
     "metadata": {},
     "output_type": "execute_result"
    }
   ],
   "source": [
    "# This code is more compact\n",
    "compact = odd_array[odd_array > 11] # One line\n",
    "compact"
   ]
  },
  {
   "cell_type": "code",
   "execution_count": null,
   "id": "71fc9af0",
   "metadata": {},
   "outputs": [],
   "source": [
    "# Exercise"
   ]
  },
  {
   "cell_type": "code",
   "execution_count": 7,
   "id": "b28b4b59",
   "metadata": {},
   "outputs": [
    {
     "data": {
      "text/plain": [
       "array([[ 0,  2,  4,  6,  8, 10, 12, 14, 16, 18],\n",
       "       [20, 22, 24, 26, 28, 30, 32, 34, 36, 38],\n",
       "       [40, 42, 44, 46, 48, 50, 52, 54, 56, 58],\n",
       "       [60, 62, 64, 66, 68, 70, 72, 74, 76, 78],\n",
       "       [80, 82, 84, 86, 88, 90, 92, 94, 96, 98]])"
      ]
     },
     "execution_count": 7,
     "metadata": {},
     "output_type": "execute_result"
    }
   ],
   "source": [
    "# 5x10 Array of even numbers between 0 and 100.\n",
    "large_array = np.arange(0,100,2).reshape(5,10)\n",
    "large_array # show"
   ]
  },
  {
   "cell_type": "code",
   "execution_count": 8,
   "id": "6349db44",
   "metadata": {},
   "outputs": [
    {
     "data": {
      "text/plain": [
       "array([82, 84, 86, 88, 90, 92, 94, 96, 98])"
      ]
     },
     "execution_count": 8,
     "metadata": {},
     "output_type": "execute_result"
    }
   ],
   "source": [
    "greater_than_80 = large_array[large_array > 80]\n",
    "greater_than_80"
   ]
  },
  {
   "cell_type": "code",
   "execution_count": 10,
   "id": "abd01364",
   "metadata": {},
   "outputs": [
    {
     "data": {
      "text/plain": [
       "array([[82, 84, 86],\n",
       "       [88, 90, 92],\n",
       "       [94, 96, 98]])"
      ]
     },
     "execution_count": 10,
     "metadata": {},
     "output_type": "execute_result"
    }
   ],
   "source": [
    "reshaped_80 = np.reshape(greater_than_80,(3,3))\n",
    "reshaped_80"
   ]
  },
  {
   "cell_type": "code",
   "execution_count": null,
   "id": "2f3ddde1",
   "metadata": {},
   "outputs": [],
   "source": []
  }
 ],
 "metadata": {
  "kernelspec": {
   "display_name": "Python 3 (ipykernel)",
   "language": "python",
   "name": "python3"
  },
  "language_info": {
   "codemirror_mode": {
    "name": "ipython",
    "version": 3
   },
   "file_extension": ".py",
   "mimetype": "text/x-python",
   "name": "python",
   "nbconvert_exporter": "python",
   "pygments_lexer": "ipython3",
   "version": "3.8.10"
  }
 },
 "nbformat": 4,
 "nbformat_minor": 5
}
