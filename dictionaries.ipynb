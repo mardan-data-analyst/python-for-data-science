{
 "cells": [
  {
   "cell_type": "code",
   "execution_count": 3,
   "id": "cf83c10b",
   "metadata": {},
   "outputs": [
    {
     "name": "stdout",
     "output_type": "stream",
     "text": [
      "{'Key1': 'Movies', 'Key2': ['Iron Man', 'Avengers']}\n",
      "<class 'dict'>\n"
     ]
    }
   ],
   "source": [
    "# Dictionary  declaration\n",
    "\n",
    "my_Dict = {'Key1':'Movies','Key2':['Iron Man', 'Avengers']}\n",
    "print(my_Dict)\n",
    "print(type(my_Dict))"
   ]
  },
  {
   "cell_type": "code",
   "execution_count": 4,
   "id": "159a143b",
   "metadata": {},
   "outputs": [
    {
     "name": "stdout",
     "output_type": "stream",
     "text": [
      "Movies :  ['Iron Man', 'Avengers']\n"
     ]
    }
   ],
   "source": [
    "A = my_Dict['Key1']\n",
    "B = my_Dict['Key2']\n",
    "print(A, ': ', B)"
   ]
  },
  {
   "cell_type": "code",
   "execution_count": 5,
   "id": "4e86ac4c",
   "metadata": {},
   "outputs": [
    {
     "data": {
      "text/plain": [
       "{'Name': 'Customer1', 'Account type': {'type1': 'Savings', 'type2': 'Current'}}"
      ]
     },
     "execution_count": 5,
     "metadata": {},
     "output_type": "execute_result"
    }
   ],
   "source": [
    "Acct_Dict = {'Name':'Customer1', 'Account type':{'type1':'Savings', 'type2':'Current'}}\n",
    "Acct_Dict"
   ]
  },
  {
   "cell_type": "code",
   "execution_count": 6,
   "id": "9abe2cee",
   "metadata": {},
   "outputs": [
    {
     "name": "stdout",
     "output_type": "stream",
     "text": [
      "You have a Savings account\n"
     ]
    }
   ],
   "source": [
    "print('You have a ' + Acct_Dict['Account type']['type1']+ ' account')"
   ]
  },
  {
   "cell_type": "code",
   "execution_count": 7,
   "id": "f1ae82ef",
   "metadata": {},
   "outputs": [
    {
     "data": {
      "text/plain": [
       "dict_keys(['Name', 'Account type'])"
      ]
     },
     "execution_count": 7,
     "metadata": {},
     "output_type": "execute_result"
    }
   ],
   "source": [
    "Acct_Dict.keys() # Checking keys held by Acct_Dict\n"
   ]
  },
  {
   "cell_type": "code",
   "execution_count": 9,
   "id": "6249a2f3",
   "metadata": {},
   "outputs": [
    {
     "data": {
      "text/plain": [
       "dict_keys(['type1', 'type2'])"
      ]
     },
     "execution_count": 9,
     "metadata": {},
     "output_type": "execute_result"
    }
   ],
   "source": [
    "Acct_Dict['Account type'].keys() # Checking the inner keys"
   ]
  },
  {
   "cell_type": "code",
   "execution_count": 14,
   "id": "b1f9d3f3",
   "metadata": {},
   "outputs": [
    {
     "name": "stdout",
     "output_type": "stream",
     "text": [
      "Here are the methods possible with each type\n",
      "\n",
      "Stirngs: ['__add__', '__class__', '__contains__', '__delattr__', '__dir__', '__doc__', '__eq__', '__format__', '__ge__', '__getattribute__', '__getitem__', '__getnewargs__', '__gt__', '__hash__', '__init__', '__init_subclass__', '__iter__', '__le__', '__len__', '__lt__', '__mod__', '__mul__', '__ne__', '__new__', '__reduce__', '__reduce_ex__', '__repr__', '__rmod__', '__rmul__', '__setattr__', '__sizeof__', '__str__', '__subclasshook__', 'capitalize', 'casefold', 'center', 'count', 'encode', 'endswith', 'expandtabs', 'find', 'format', 'format_map', 'index', 'isalnum', 'isalpha', 'isascii', 'isdecimal', 'isdigit', 'isidentifier', 'islower', 'isnumeric', 'isprintable', 'isspace', 'istitle', 'isupper', 'join', 'ljust', 'lower', 'lstrip', 'maketrans', 'partition', 'replace', 'rfind', 'rindex', 'rjust', 'rpartition', 'rsplit', 'rstrip', 'split', 'splitlines', 'startswith', 'strip', 'swapcase', 'title', 'translate', 'upper', 'zfill']\n",
      "\n",
      "Integers: ['__abs__', '__add__', '__and__', '__bool__', '__ceil__', '__class__', '__delattr__', '__dir__', '__divmod__', '__doc__', '__eq__', '__float__', '__floor__', '__floordiv__', '__format__', '__ge__', '__getattribute__', '__getnewargs__', '__gt__', '__hash__', '__index__', '__init__', '__init_subclass__', '__int__', '__invert__', '__le__', '__lshift__', '__lt__', '__mod__', '__mul__', '__ne__', '__neg__', '__new__', '__or__', '__pos__', '__pow__', '__radd__', '__rand__', '__rdivmod__', '__reduce__', '__reduce_ex__', '__repr__', '__rfloordiv__', '__rlshift__', '__rmod__', '__rmul__', '__ror__', '__round__', '__rpow__', '__rrshift__', '__rshift__', '__rsub__', '__rtruediv__', '__rxor__', '__setattr__', '__sizeof__', '__str__', '__sub__', '__subclasshook__', '__truediv__', '__trunc__', '__xor__', 'as_integer_ratio', 'bit_length', 'conjugate', 'denominator', 'from_bytes', 'imag', 'numerator', 'real', 'to_bytes']\n",
      "\n",
      "Floats: ['__abs__', '__add__', '__bool__', '__class__', '__delattr__', '__dir__', '__divmod__', '__doc__', '__eq__', '__float__', '__floordiv__', '__format__', '__ge__', '__getattribute__', '__getformat__', '__getnewargs__', '__gt__', '__hash__', '__init__', '__init_subclass__', '__int__', '__le__', '__lt__', '__mod__', '__mul__', '__ne__', '__neg__', '__new__', '__pos__', '__pow__', '__radd__', '__rdivmod__', '__reduce__', '__reduce_ex__', '__repr__', '__rfloordiv__', '__rmod__', '__rmul__', '__round__', '__rpow__', '__rsub__', '__rtruediv__', '__set_format__', '__setattr__', '__sizeof__', '__str__', '__sub__', '__subclasshook__', '__truediv__', '__trunc__', 'as_integer_ratio', 'conjugate', 'fromhex', 'hex', 'imag', 'is_integer', 'real']\n",
      "\n",
      "Lists: ['__add__', '__class__', '__contains__', '__delattr__', '__delitem__', '__dir__', '__doc__', '__eq__', '__format__', '__ge__', '__getattribute__', '__getitem__', '__gt__', '__hash__', '__iadd__', '__imul__', '__init__', '__init_subclass__', '__iter__', '__le__', '__len__', '__lt__', '__mul__', '__ne__', '__new__', '__reduce__', '__reduce_ex__', '__repr__', '__reversed__', '__rmul__', '__setattr__', '__setitem__', '__sizeof__', '__str__', '__subclasshook__', 'append', 'clear', 'copy', 'count', 'extend', 'index', 'insert', 'pop', 'remove', 'reverse', 'sort']\n",
      "\n",
      "Tuples: ['__add__', '__class__', '__contains__', '__delattr__', '__dir__', '__doc__', '__eq__', '__format__', '__ge__', '__getattribute__', '__getitem__', '__getnewargs__', '__gt__', '__hash__', '__init__', '__init_subclass__', '__iter__', '__le__', '__len__', '__lt__', '__mul__', '__ne__', '__new__', '__reduce__', '__reduce_ex__', '__repr__', '__rmul__', '__setattr__', '__sizeof__', '__str__', '__subclasshook__', 'count', 'index']\n",
      "\n",
      "Dictionaries: ['__class__', '__contains__', '__delattr__', '__delitem__', '__dir__', '__doc__', '__eq__', '__format__', '__ge__', '__getattribute__', '__getitem__', '__gt__', '__hash__', '__init__', '__init_subclass__', '__iter__', '__le__', '__len__', '__lt__', '__ne__', '__new__', '__reduce__', '__reduce_ex__', '__repr__', '__reversed__', '__setattr__', '__setitem__', '__sizeof__', '__str__', '__subclasshook__', 'clear', 'copy', 'fromkeys', 'get', 'items', 'keys', 'pop', 'popitem', 'setdefault', 'update', 'values']\n",
      "\n"
     ]
    }
   ],
   "source": [
    "# Checking possible methods with datatypes.\n",
    "# Let us declare some datatypes first and their methods.\n",
    "\n",
    "String = 'Bob'; integer = 100; Float = 25.3\n",
    "\n",
    "List = ['Man']; Tuple = 5, # To declare a single tuple\n",
    "\n",
    "                         # put a comma after the single value\n",
    "Dictionary = dict([('Name','Max')])\n",
    "\n",
    "# Dictionaries can be declared using dict() as well.\n",
    "\n",
    "A = dir(String); B = dir(integer); C = dir(Float)\n",
    "\n",
    "D = dir(List); E = dir(Tuple); F = dir(Dictionary)\n",
    "\n",
    "print('''Here are the methods possible with each type\n",
    "\n",
    "Stirngs: {}\n",
    "\n",
    "Integers: {}\n",
    "\n",
    "Floats: {}\n",
    "\n",
    "Lists: {}\n",
    "\n",
    "Tuples: {}\n",
    "\n",
    "Dictionaries: {}\n",
    "'''.format(A, B, C, D, E, F))\n"
   ]
  },
  {
   "cell_type": "code",
   "execution_count": null,
   "id": "822fce1e",
   "metadata": {},
   "outputs": [],
   "source": []
  }
 ],
 "metadata": {
  "kernelspec": {
   "display_name": "Python 3 (ipykernel)",
   "language": "python",
   "name": "python3"
  },
  "language_info": {
   "codemirror_mode": {
    "name": "ipython",
    "version": 3
   },
   "file_extension": ".py",
   "mimetype": "text/x-python",
   "name": "python",
   "nbconvert_exporter": "python",
   "pygments_lexer": "ipython3",
   "version": "3.8.10"
  }
 },
 "nbformat": 4,
 "nbformat_minor": 5
}
