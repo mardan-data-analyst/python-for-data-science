{
 "cells": [
  {
   "cell_type": "code",
   "execution_count": 1,
   "id": "d2344ebe",
   "metadata": {},
   "outputs": [
    {
     "data": {
      "text/plain": [
       "[1, 2, 3, 5, 6]"
      ]
     },
     "execution_count": 1,
     "metadata": {},
     "output_type": "execute_result"
    }
   ],
   "source": [
    "# List examples\n",
    "[1,2,3,5,6] # List of integers"
   ]
  },
  {
   "cell_type": "code",
   "execution_count": 2,
   "id": "cee26060",
   "metadata": {},
   "outputs": [
    {
     "data": {
      "text/plain": [
       "[12.1, 13.42, 15.6, 18.93, 20.0]"
      ]
     },
     "execution_count": 2,
     "metadata": {},
     "output_type": "execute_result"
    }
   ],
   "source": [
    "[12.1,13.42,15.6,18.93,20.0] # List of floats"
   ]
  },
  {
   "cell_type": "code",
   "execution_count": 3,
   "id": "4c4f5121",
   "metadata": {
    "scrolled": true
   },
   "outputs": [
    {
     "data": {
      "text/plain": [
       "['New', 'Taken', 'Extra']"
      ]
     },
     "execution_count": 3,
     "metadata": {},
     "output_type": "execute_result"
    }
   ],
   "source": [
    "['New', 'Taken', 'Extra'] # List of strings"
   ]
  },
  {
   "cell_type": "code",
   "execution_count": null,
   "id": "3d795352",
   "metadata": {},
   "outputs": [],
   "source": [
    "[True, False] # List of Boolean expressions"
   ]
  },
  {
   "cell_type": "code",
   "execution_count": 7,
   "id": "9f88ba37",
   "metadata": {},
   "outputs": [
    {
     "data": {
      "text/plain": [
       "['Derek', 25, 125.5, True]"
      ]
     },
     "execution_count": 7,
     "metadata": {},
     "output_type": "execute_result"
    }
   ],
   "source": [
    "['Derek', 25, 125.50, True] # List of different data types"
   ]
  },
  {
   "cell_type": "code",
   "execution_count": 12,
   "id": "279045cc",
   "metadata": {},
   "outputs": [],
   "source": [
    "Random_list = [1, 2, 3, 4,'food']"
   ]
  },
  {
   "cell_type": "code",
   "execution_count": 9,
   "id": "4a4ed2d8",
   "metadata": {},
   "outputs": [
    {
     "data": {
      "text/plain": [
       "3"
      ]
     },
     "execution_count": 9,
     "metadata": {},
     "output_type": "execute_result"
    }
   ],
   "source": [
    "Random_list[2]"
   ]
  },
  {
   "cell_type": "code",
   "execution_count": 14,
   "id": "d2e08897",
   "metadata": {},
   "outputs": [
    {
     "data": {
      "text/plain": [
       "10.0"
      ]
     },
     "execution_count": 14,
     "metadata": {},
     "output_type": "execute_result"
    }
   ],
   "source": [
    "Random_list2 = [[1,2,3,4,'Integers'],'food',[12.3,5.2,10.0,'floats']]\n",
    "Random_list2[2][2]"
   ]
  },
  {
   "cell_type": "code",
   "execution_count": null,
   "id": "7d819e14",
   "metadata": {},
   "outputs": [],
   "source": [
    "# Program that accepts user data\n",
    "user_Data = eval(input('''Please, enter\n",
    "your information in the following order: \n",
    "['Name', Age, Height(in metres), Married(enter True/False)]\n",
    "'''))"
   ]
  },
  {
   "cell_type": "code",
   "execution_count": null,
   "id": "fd7cb74a",
   "metadata": {},
   "outputs": [],
   "source": [
    "Name = user_Data[0]\n",
    "Age = user_Data[1]\n",
    "Height = user_Data[2]\n",
    "M_Status = user_Data[3]\n",
    "print(('''Here are your details\n",
    "Name: {}\n",
    "Age: {}\n",
    "Height: {}m\n",
    "Married:\n",
    "{}''').format(Name,Age,Height,M_Status))"
   ]
  },
  {
   "cell_type": "code",
   "execution_count": null,
   "id": "3975de7a",
   "metadata": {},
   "outputs": [],
   "source": [
    "print(('I am {} years old, and I have {}.').format(5,'$20'))"
   ]
  },
  {
   "cell_type": "code",
   "execution_count": null,
   "id": "45cadbcb",
   "metadata": {},
   "outputs": [],
   "source": [
    "# Customer's bank account history"
   ]
  },
  {
   "cell_type": "code",
   "execution_count": 25,
   "id": "a13b74a7",
   "metadata": {},
   "outputs": [
    {
     "name": "stdout",
     "output_type": "stream",
     "text": [
      "Account details and history\n",
      "\n",
      "Account holder: John Smith\n",
      "Account number: 45545458754556484564\n",
      "Transfer: $15.5\n",
      "Withdraw: $90\n",
      "Deposit: $1000\n",
      "Balance: $45000\n",
      "\n"
     ]
    }
   ],
   "source": [
    "customer_details = ['John Smith', 45545458754556484564, 15.5, 90, 1000, 45000]\n",
    "\n",
    "Name = customer_details[0]\n",
    "Account_number = customer_details[1]\n",
    "Transfer = str(customer_details[2])\n",
    "Withdraw = str(customer_details[3])\n",
    "Deposit = str(customer_details[4])\n",
    "Balance = str(customer_details[5])\n",
    "\n",
    "print(('''Account details and history\n",
    "\n",
    "Account holder: {}\n",
    "Account number: {}\n",
    "Transfer: {}\n",
    "Withdraw: {}\n",
    "Deposit: {}\n",
    "Balance: {}\n",
    "''').format(Name, Account_number,'$' + Transfer, '$' + Withdraw,\n",
    " '$' + Deposit,'$' + Balance))\n"
   ]
  },
  {
   "cell_type": "code",
   "execution_count": 26,
   "id": "ce436797",
   "metadata": {},
   "outputs": [
    {
     "name": "stdout",
     "output_type": "stream",
     "text": [
      "['Cat', 'Dog', 'Goat']\n"
     ]
    }
   ],
   "source": [
    "Animals = ['Cat', 'Dog', 'Goat', 'Jaguar','Lion']\n",
    "domestic_Animals = Animals[0:3]\n",
    "print(domestic_Animals)"
   ]
  },
  {
   "cell_type": "code",
   "execution_count": 43,
   "id": "daabe6e7",
   "metadata": {},
   "outputs": [
    {
     "name": "stdout",
     "output_type": "stream",
     "text": [
      "['ice-cream', 'cookies', 'doughnuts']\n",
      "ice-cream\n",
      "I love ice-cream,cookies and doughnuts\n"
     ]
    }
   ],
   "source": [
    "food_list = ['rice', 'salad', ['cake', 'ice-cream', 'cookies', 'doughnuts'],'Beans']\n",
    "treats = food_list[2][1:4]\n",
    "print(treats)\n",
    "print(treats[0])\n",
    "print('I love {},{} and {}'.format(treats[0],treats[1],treats[2]))"
   ]
  },
  {
   "cell_type": "code",
   "execution_count": null,
   "id": "1670b4a4",
   "metadata": {},
   "outputs": [],
   "source": []
  }
 ],
 "metadata": {
  "kernelspec": {
   "display_name": "Python 3 (ipykernel)",
   "language": "python",
   "name": "python3"
  },
  "language_info": {
   "codemirror_mode": {
    "name": "ipython",
    "version": 3
   },
   "file_extension": ".py",
   "mimetype": "text/x-python",
   "name": "python",
   "nbconvert_exporter": "python",
   "pygments_lexer": "ipython3",
   "version": "3.8.10"
  }
 },
 "nbformat": 4,
 "nbformat_minor": 5
}
