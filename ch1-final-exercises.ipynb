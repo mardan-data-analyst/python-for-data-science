{
 "cells": [
  {
   "cell_type": "code",
   "execution_count": null,
   "id": "90558685",
   "metadata": {},
   "outputs": [],
   "source": [
    "# 1"
   ]
  },
  {
   "cell_type": "code",
   "execution_count": 1,
   "id": "cb40e9c0",
   "metadata": {},
   "outputs": [
    {
     "name": "stdout",
     "output_type": "stream",
     "text": [
      "Gravity has a value of 10 m/s^2.\n"
     ]
    }
   ],
   "source": [
    "quantity = 'Gravity'\n",
    "unit = 'm/s^2'\n",
    "value = 10\n",
    "print('{} has a value of {} {}.'.format(quantity,value,unit))"
   ]
  },
  {
   "cell_type": "code",
   "execution_count": null,
   "id": "d96ff77b",
   "metadata": {},
   "outputs": [],
   "source": [
    "# intentionally blank"
   ]
  },
  {
   "cell_type": "code",
   "execution_count": null,
   "id": "2e093884",
   "metadata": {},
   "outputs": [],
   "source": [
    "# 2"
   ]
  },
  {
   "cell_type": "code",
   "execution_count": 12,
   "id": "5944183e",
   "metadata": {},
   "outputs": [
    {
     "name": "stdout",
     "output_type": "stream",
     "text": [
      "True\n"
     ]
    }
   ],
   "source": [
    "list1 = ['bad', 'run', '']\n",
    "list2 = ['output', 'input', 'good']\n",
    "checked_str = 'good'\n",
    "          \n",
    "if checked_str in list1 or checked_str in list2:\n",
    "    print(True)\n",
    "else:\n",
    "    print(False)"
   ]
  },
  {
   "cell_type": "code",
   "execution_count": null,
   "id": "f11786bd",
   "metadata": {},
   "outputs": [],
   "source": [
    "# intentionally blank"
   ]
  },
  {
   "cell_type": "code",
   "execution_count": null,
   "id": "0ae523ab",
   "metadata": {},
   "outputs": [],
   "source": [
    "# 3"
   ]
  },
  {
   "cell_type": "code",
   "execution_count": 13,
   "id": "7b6c119b",
   "metadata": {},
   "outputs": [
    {
     "data": {
      "text/plain": [
       "['bread', 'rice', 'butter', 'beans', 'pizza', 'lasagna', 'eggs']"
      ]
     },
     "execution_count": 13,
     "metadata": {},
     "output_type": "execute_result"
    }
   ],
   "source": [
    "list3 = ['bread', 'rice', 'butter', 'beans', 'pizza', 'lasagna', 'eggs']\n",
    "list3"
   ]
  },
  {
   "cell_type": "code",
   "execution_count": 15,
   "id": "40a87003",
   "metadata": {},
   "outputs": [
    {
     "data": {
      "text/plain": [
       "['rice', 'pizza', 'lasagna', 'eggs']"
      ]
     },
     "execution_count": 15,
     "metadata": {},
     "output_type": "execute_result"
    }
   ],
   "source": [
    "criteria = lambda value: value[0] != 'b'\n",
    "not_b_starter_list = list(filter(criteria, list3))\n",
    "not_b_starter_list"
   ]
  },
  {
   "cell_type": "code",
   "execution_count": null,
   "id": "aa6dd0c8",
   "metadata": {},
   "outputs": [],
   "source": [
    "# intentionally blank"
   ]
  },
  {
   "cell_type": "code",
   "execution_count": null,
   "id": "f20478eb",
   "metadata": {},
   "outputs": [],
   "source": [
    "# 4"
   ]
  },
  {
   "cell_type": "code",
   "execution_count": 16,
   "id": "b71ae596",
   "metadata": {},
   "outputs": [
    {
     "data": {
      "text/plain": [
       "[1, 2, [3, 4], [5, [100, 200, ['hello Python']], 23, 11], 1, 7]"
      ]
     },
     "execution_count": 16,
     "metadata": {},
     "output_type": "execute_result"
    }
   ],
   "source": [
    "list4 = [1,2,[3,4],[5,[100,200,['hello Python']],23,11],1,7]\n",
    "list4"
   ]
  },
  {
   "cell_type": "code",
   "execution_count": 18,
   "id": "60f2f96f",
   "metadata": {},
   "outputs": [
    {
     "data": {
      "text/plain": [
       "['hello Python']"
      ]
     },
     "execution_count": 18,
     "metadata": {},
     "output_type": "execute_result"
    }
   ],
   "source": [
    "nested1=list4[3][1][2]\n",
    "nested1"
   ]
  },
  {
   "cell_type": "code",
   "execution_count": null,
   "id": "1465a159",
   "metadata": {},
   "outputs": [],
   "source": [
    "# intentionally blank"
   ]
  },
  {
   "cell_type": "code",
   "execution_count": null,
   "id": "4dc8eb5c",
   "metadata": {},
   "outputs": [],
   "source": [
    "# 5"
   ]
  },
  {
   "cell_type": "code",
   "execution_count": 23,
   "id": "0f736ed6",
   "metadata": {},
   "outputs": [
    {
     "data": {
      "text/plain": [
       "{'k1': [1,\n",
       "  2,\n",
       "  3,\n",
       "  {'tricky': ['oh',\n",
       "    'man',\n",
       "    'inception',\n",
       "    {'target': [1, 2, 3, 'hello Python']}]}]}"
      ]
     },
     "execution_count": 23,
     "metadata": {},
     "output_type": "execute_result"
    }
   ],
   "source": [
    "d = {'k1':[1,2,3,{'tricky':['oh','man','inception',{'target':[1,2,3,'hello Python']}]}]}\n",
    "d"
   ]
  },
  {
   "cell_type": "code",
   "execution_count": 32,
   "id": "ac30c936",
   "metadata": {},
   "outputs": [
    {
     "data": {
      "text/plain": [
       "'hello Python'"
      ]
     },
     "execution_count": 32,
     "metadata": {},
     "output_type": "execute_result"
    }
   ],
   "source": [
    "d['k1'][3]['tricky'][3]['target'][3]"
   ]
  },
  {
   "cell_type": "code",
   "execution_count": null,
   "id": "0c4cedd5",
   "metadata": {},
   "outputs": [],
   "source": [
    "# intentionally blank"
   ]
  },
  {
   "cell_type": "code",
   "execution_count": null,
   "id": "f2fef148",
   "metadata": {},
   "outputs": [],
   "source": [
    "# 6"
   ]
  },
  {
   "cell_type": "code",
   "execution_count": 47,
   "id": "a6792ed4",
   "metadata": {},
   "outputs": [],
   "source": [
    "def student_score(name, score):\n",
    "    print(name,':',score)\n",
    "    \n",
    "    if score in range(0,41):\n",
    "        print('Hello, {}. You had an F.'.format(name)) # less than 40\n",
    "    elif score in range(40,45):                        # 40-44\n",
    "        print('Hello, {}. You had an E.'.format(name)) \n",
    "    elif score in range(45,50):                        # 45-49\n",
    "        print('Hello, {}. You had a D.'.format(name))  \n",
    "    elif score in range(50,60):                        # 50-59\n",
    "        print('Hello, {}. You had a C'.format(name))   \n",
    "    elif score in range(60,70):                        # 60-69\n",
    "        print('Hello, {}. You had a B'.format(name)) \n",
    "    elif score >= 70:\n",
    "        print('Hello, {}. You had an A. Cool!'.format(name)) # 70 or above"
   ]
  },
  {
   "cell_type": "code",
   "execution_count": 53,
   "id": "f3960ae7",
   "metadata": {},
   "outputs": [
    {
     "name": "stdout",
     "output_type": "stream",
     "text": [
      "Bob : 100\n",
      "Hello, Bob. You had an A. Cool!\n"
     ]
    }
   ],
   "source": [
    "student_score('Bob',100)"
   ]
  },
  {
   "cell_type": "code",
   "execution_count": null,
   "id": "ad7e33bc",
   "metadata": {},
   "outputs": [],
   "source": []
  }
 ],
 "metadata": {
  "kernelspec": {
   "display_name": "Python 3 (ipykernel)",
   "language": "python",
   "name": "python3"
  },
  "language_info": {
   "codemirror_mode": {
    "name": "ipython",
    "version": 3
   },
   "file_extension": ".py",
   "mimetype": "text/x-python",
   "name": "python",
   "nbconvert_exporter": "python",
   "pygments_lexer": "ipython3",
   "version": "3.8.10"
  }
 },
 "nbformat": 4,
 "nbformat_minor": 5
}
