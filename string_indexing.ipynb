{
 "cells": [
  {
   "cell_type": "code",
   "execution_count": 1,
   "id": "17dc2984",
   "metadata": {},
   "outputs": [
    {
     "name": "stdout",
     "output_type": "stream",
     "text": [
      "Except\n"
     ]
    }
   ],
   "source": [
    "# This program illustrates string indexing \n",
    "\n",
    "String = 'Exceptional'\n",
    "# index -slice\n",
    "new_string = String[:6]\n",
    "\n",
    "# Printing the output\n",
    "print(new_string)"
   ]
  },
  {
   "cell_type": "code",
   "execution_count": 2,
   "id": "204da386",
   "metadata": {},
   "outputs": [
    {
     "name": "stdout",
     "output_type": "stream",
     "text": [
      "medical\n"
     ]
    }
   ],
   "source": [
    "# Grabbing the word 'medical' from a list\n",
    "\n",
    "word_list = ['nautical', ['medieval','extravaganza'], 'extra']\n",
    "\n",
    "word = word_list[1][0][:4] + word_list[0][5:8]\n",
    "print(word)"
   ]
  },
  {
   "cell_type": "code",
   "execution_count": 3,
   "id": "8f6e4ffb",
   "metadata": {},
   "outputs": [
    {
     "data": {
      "text/plain": [
       "['Apple', 'Orange', 'Banana', 'Cashew', 'Almond']"
      ]
     },
     "execution_count": 3,
     "metadata": {},
     "output_type": "execute_result"
    }
   ],
   "source": [
    "# Declaring the list of the fruits\n",
    "\n",
    "fruits = ['Apple', 'Orange', 'Banana', 'Cashew', 'Almond']\n",
    "fruits"
   ]
  },
  {
   "cell_type": "code",
   "execution_count": 4,
   "id": "60f1a243",
   "metadata": {},
   "outputs": [
    {
     "data": {
      "text/plain": [
       "['Apple', 'Guava', 'Banana', 'Cashew', 'Almond']"
      ]
     },
     "execution_count": 4,
     "metadata": {},
     "output_type": "execute_result"
    }
   ],
   "source": [
    "fruits[1] = 'Guava'\n",
    "fruits"
   ]
  },
  {
   "cell_type": "code",
   "execution_count": 5,
   "id": "1633f00b",
   "metadata": {},
   "outputs": [
    {
     "data": {
      "text/plain": [
       "['Apple', ['Orange', 'Guava'], 'Banana', 'Cashew', 'Almond']"
      ]
     },
     "execution_count": 5,
     "metadata": {},
     "output_type": "execute_result"
    }
   ],
   "source": [
    "# To re-assign a nested element.\n",
    "\n",
    "New_list = ['Apple', ['Orange', 'Guava'], 'Banana', 'Cashew', 'Almond']\n",
    "New_list"
   ]
  },
  {
   "cell_type": "code",
   "execution_count": 6,
   "id": "e6d7942c",
   "metadata": {},
   "outputs": [],
   "source": [
    "New_list[1][0] = 'Mango'"
   ]
  },
  {
   "cell_type": "code",
   "execution_count": 7,
   "id": "b31f9bdd",
   "metadata": {},
   "outputs": [
    {
     "data": {
      "text/plain": [
       "['Apple', ['Mango', 'Guava'], 'Banana', 'Cashew', 'Almond']"
      ]
     },
     "execution_count": 7,
     "metadata": {},
     "output_type": "execute_result"
    }
   ],
   "source": [
    "New_list"
   ]
  },
  {
   "cell_type": "code",
   "execution_count": 17,
   "id": "a0299417",
   "metadata": {},
   "outputs": [
    {
     "data": {
      "text/plain": [
       "[1, 2, 3, [4, 5, ['target']]]"
      ]
     },
     "execution_count": 17,
     "metadata": {},
     "output_type": "execute_result"
    }
   ],
   "source": [
    "nest = [1, 2, 3, [4, 5, ['target']]]\n",
    "nest"
   ]
  },
  {
   "cell_type": "code",
   "execution_count": 20,
   "id": "097121ea",
   "metadata": {},
   "outputs": [
    {
     "data": {
      "text/plain": [
       "[1, 2, 3, [4, 5, ['targeting']]]"
      ]
     },
     "execution_count": 20,
     "metadata": {},
     "output_type": "execute_result"
    }
   ],
   "source": [
    "nest[3][2][0] = 'targeting'\n",
    "nest"
   ]
  },
  {
   "cell_type": "code",
   "execution_count": 21,
   "id": "05975348",
   "metadata": {},
   "outputs": [
    {
     "data": {
      "text/plain": [
       "['Apple', 'Orange', 'Banana', 'Cashew', 'Almond', 'Pawpaw']"
      ]
     },
     "execution_count": 21,
     "metadata": {},
     "output_type": "execute_result"
    }
   ],
   "source": [
    "# Declaring the list of the fruits\n",
    "fruits = ['Apple', 'Orange', 'Banana', 'Cashew', 'Almond']\n",
    "fruits.append('Pawpaw')\n",
    "fruits"
   ]
  },
  {
   "cell_type": "code",
   "execution_count": 22,
   "id": "b7fc780c",
   "metadata": {},
   "outputs": [
    {
     "data": {
      "text/plain": [
       "['Beans', 'plantain', 'fish', ['Rise', 'Wheat']]"
      ]
     },
     "execution_count": 22,
     "metadata": {},
     "output_type": "execute_result"
    }
   ],
   "source": [
    "# Declaring the food list\n",
    "foods = ['Beans', 'plantain', 'fish']\n",
    "foods.append(['Rise', 'Wheat'])\n",
    "foods"
   ]
  },
  {
   "cell_type": "code",
   "execution_count": 25,
   "id": "36f7de23",
   "metadata": {},
   "outputs": [
    {
     "data": {
      "text/plain": [
       "['Beans', 'plantain', 'fish', 'Rise', 'Wheat']"
      ]
     },
     "execution_count": 25,
     "metadata": {},
     "output_type": "execute_result"
    }
   ],
   "source": [
    "# Declaring the food list\n",
    "foods = ['Beans', 'plantain', 'fish']\n",
    "foods.extend(['Rise', 'Wheat'])\n",
    "foods"
   ]
  },
  {
   "cell_type": "code",
   "execution_count": 31,
   "id": "12f8a202",
   "metadata": {},
   "outputs": [
    {
     "data": {
      "text/plain": [
       "[1, 2, 3, 4, 5, 6, 7, 8, 9, 10]"
      ]
     },
     "execution_count": 31,
     "metadata": {},
     "output_type": "execute_result"
    }
   ],
   "source": [
    "# This program illustrates the .insert method.\n",
    "Count_to_ten = [1, 2, 4, 5, 6, 7, 8, 10]\n",
    "Count_to_ten.insert(2,3)\n",
    "Count_to_ten.insert(8,9)\n",
    "Count_to_ten"
   ]
  },
  {
   "cell_type": "code",
   "execution_count": 36,
   "id": "baad3c01",
   "metadata": {},
   "outputs": [
    {
     "data": {
      "text/plain": [
       "[1, 2, 3, 4, 5, 6, 7, 8, 9, 10]"
      ]
     },
     "execution_count": 36,
     "metadata": {},
     "output_type": "execute_result"
    }
   ],
   "source": [
    "Count_to_ten = [1, 2, 4, 5, 6, 7, 8, 10]\n",
    "Count_to_ten.insert(7,9)\n",
    "Count_to_ten.insert(2,3)\n",
    "Count_to_ten"
   ]
  },
  {
   "cell_type": "code",
   "execution_count": 37,
   "id": "5a1db500",
   "metadata": {},
   "outputs": [
    {
     "data": {
      "text/plain": [
       "['A', 'B', 'C', 'D', 1, 2, 3, 4]"
      ]
     },
     "execution_count": 37,
     "metadata": {},
     "output_type": "execute_result"
    }
   ],
   "source": [
    "# Addition and mutiplication of lists\n",
    "\n",
    "List1 = ['A', 'B', 'C', 'D']\n",
    "List2 = [1, 2, 3, 4]\n",
    "CombinedList = List1 + List2\n",
    "CombinedList\n"
   ]
  },
  {
   "cell_type": "code",
   "execution_count": 38,
   "id": "692fbcc9",
   "metadata": {},
   "outputs": [
    {
     "data": {
      "text/plain": [
       "[1, 2, 3, 4, 1, 2, 3, 4]"
      ]
     },
     "execution_count": 38,
     "metadata": {},
     "output_type": "execute_result"
    }
   ],
   "source": [
    "# Multiplication of lists \n",
    "List2*2"
   ]
  },
  {
   "cell_type": "code",
   "execution_count": 50,
   "id": "ed552588",
   "metadata": {},
   "outputs": [
    {
     "data": {
      "text/plain": [
       "['Mercedes', ['C class', 'E class'], 'MERCEDES', 'BMW', 'Porche']"
      ]
     },
     "execution_count": 50,
     "metadata": {},
     "output_type": "execute_result"
    }
   ],
   "source": [
    "# .append(), .inser(), .extend(), .remove()\n",
    "\n",
    "cars = ['Mercedes', ['C class', 'E class'], 'BMW',]\n",
    "cars.append('Porche')\n",
    "cars.insert(2,'MERCEDES')\n",
    "cars\n"
   ]
  },
  {
   "cell_type": "code",
   "execution_count": 51,
   "id": "a9f78b1c",
   "metadata": {},
   "outputs": [
    {
     "data": {
      "text/plain": [
       "['Mercedes', ['C class', 'E class'], 'MERCEDES', 'BMW', 'Porche', 'X5', 'X6']"
      ]
     },
     "execution_count": 51,
     "metadata": {},
     "output_type": "execute_result"
    }
   ],
   "source": [
    "cars.extend(['X5', 'X6'])\n",
    "cars"
   ]
  },
  {
   "cell_type": "code",
   "execution_count": 58,
   "id": "ad9d94dd",
   "metadata": {},
   "outputs": [
    {
     "data": {
      "text/plain": [
       "['Mercedes', 'MERCEDES', 'BMW', 'Porche', 'X5', 'X6', ['X5', 'X6']]"
      ]
     },
     "execution_count": 58,
     "metadata": {},
     "output_type": "execute_result"
    }
   ],
   "source": [
    "cars.append(['X5', 'X6'])\n",
    "cars"
   ]
  },
  {
   "cell_type": "code",
   "execution_count": 59,
   "id": "b212ae3e",
   "metadata": {},
   "outputs": [
    {
     "data": {
      "text/plain": [
       "['Mercedes', 'MERCEDES', 'BMW', 'Porche', 'X5', 'X6']"
      ]
     },
     "execution_count": 59,
     "metadata": {},
     "output_type": "execute_result"
    }
   ],
   "source": [
    "cars.remove(['X5', 'X6'])\n",
    "cars"
   ]
  },
  {
   "cell_type": "code",
   "execution_count": 60,
   "id": "962098fc",
   "metadata": {},
   "outputs": [
    {
     "data": {
      "text/plain": [
       "['Mercedes', 'BMW', 'Porche', 'X5', 'X6']"
      ]
     },
     "execution_count": 60,
     "metadata": {},
     "output_type": "execute_result"
    }
   ],
   "source": [
    "cars.remove('MERCEDES')\n",
    "cars"
   ]
  }
 ],
 "metadata": {
  "kernelspec": {
   "display_name": "Python 3 (ipykernel)",
   "language": "python",
   "name": "python3"
  },
  "language_info": {
   "codemirror_mode": {
    "name": "ipython",
    "version": 3
   },
   "file_extension": ".py",
   "mimetype": "text/x-python",
   "name": "python",
   "nbconvert_exporter": "python",
   "pygments_lexer": "ipython3",
   "version": "3.8.10"
  }
 },
 "nbformat": 4,
 "nbformat_minor": 5
}
