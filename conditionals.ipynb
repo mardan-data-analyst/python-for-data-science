{
 "cells": [
  {
   "cell_type": "code",
   "execution_count": 3,
   "id": "2c0a92e5",
   "metadata": {},
   "outputs": [
    {
     "name": "stdout",
     "output_type": "stream",
     "text": [
      "Please, enter your password: \tCEO4life\n",
      "\n",
      " Access granted!\n"
     ]
    }
   ],
   "source": [
    "# Grant access if user  password is correct\n",
    "\n",
    "password_pool = ('Smith_crete', 'Alex@456', 'CEO4life')\n",
    "\n",
    "user_password = input('Please, enter your password: \\t')\n",
    "\n",
    "# Now the IF condition\n",
    "if user_password in password_pool:\n",
    "    print('\\n Access granted!')"
   ]
  },
  {
   "cell_type": "code",
   "execution_count": 6,
   "id": "1946e188",
   "metadata": {},
   "outputs": [
    {
     "name": "stdout",
     "output_type": "stream",
     "text": [
      "How many days past:\t4\n",
      "\n",
      "You owe $ 22\n"
     ]
    }
   ],
   "source": [
    "# Movie rent-overdue price\n",
    "\n",
    "price1 = 5 # $ 5 for every day past due within 3 days.\n",
    "price2 = 7 # $ 7 for every day past due after first 3 days.\n",
    "\n",
    "days_past_due = eval(input('How many days past:\\t'))\n",
    "\n",
    "# If statement\n",
    "\n",
    "if days_past_due <=3:\n",
    "    print('\\nYou owe $', (days_past_due*price1))\n",
    "if days_past_due > 3:\n",
    "    print('\\nYou owe $', (3 * price1 + (days_past_due - 3) * price2))"
   ]
  },
  {
   "cell_type": "code",
   "execution_count": 8,
   "id": "1d200936",
   "metadata": {},
   "outputs": [
    {
     "name": "stdout",
     "output_type": "stream",
     "text": [
      "Please, enter your password: \tCEO4life\n",
      "\n",
      " Access granted!\n"
     ]
    }
   ],
   "source": [
    "# Grant access if user  password is correct or raise alaram\n",
    "\n",
    "password_pool = ('Smith_crete', 'Alex@456', 'CEO4life')\n",
    "\n",
    "user_password = input('Please, enter your password: \\t')\n",
    "\n",
    "# Now the IF-ELSE conditions\n",
    "if user_password in password_pool:\n",
    "    print('\\n Access granted!')\n",
    "else:\n",
    "    print('\\n Access denied! Calling Security ...')\n",
    "\n"
   ]
  },
  {
   "cell_type": "code",
   "execution_count": 12,
   "id": "19500c4d",
   "metadata": {},
   "outputs": [
    {
     "name": "stdout",
     "output_type": "stream",
     "text": [
      "Please, enter your password: \tfdfdf\n",
      "\n",
      "Access Denied! Calling Security ...\n"
     ]
    }
   ],
   "source": [
    "# Grant access if user  password is correct \n",
    "# Otherwise, raise  and alarm.\n",
    "\n",
    "password_pool = ('Smith_crete', 'Alex@456', 'CEO4life')\n",
    "\n",
    "user_password = input('Please, enter your password: \\t')\n",
    "\n",
    "# Now the IF-ELIF-ELSE conditions.\n",
    "\n",
    "if user_password in password_pool and user_password == 'Smith_crete':\n",
    "    print('\\nAccess granted! Welcome Dr. Smith!')\n",
    "elif user_password in password_pool and user_password == 'Alex@456':\n",
    "    print('\\nAccess granted! Welcome, Mr.Alexander!')\n",
    "elif user_password in password_pool and user_password == 'CEO4life':\n",
    "    print('\\nAccess granted! Welcome, Mr.CEO!')\n",
    "else:\n",
    "    print('\\nAccess Denied! Calling Security ...')"
   ]
  }
 ],
 "metadata": {
  "kernelspec": {
   "display_name": "Python 3 (ipykernel)",
   "language": "python",
   "name": "python3"
  },
  "language_info": {
   "codemirror_mode": {
    "name": "ipython",
    "version": 3
   },
   "file_extension": ".py",
   "mimetype": "text/x-python",
   "name": "python",
   "nbconvert_exporter": "python",
   "pygments_lexer": "ipython3",
   "version": "3.8.10"
  }
 },
 "nbformat": 4,
 "nbformat_minor": 5
}
