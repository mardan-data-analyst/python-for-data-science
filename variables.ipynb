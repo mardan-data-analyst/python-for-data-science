{
 "cells": [
  {
   "cell_type": "code",
   "execution_count": null,
   "id": "b144af1a",
   "metadata": {},
   "outputs": [],
   "source": [
    "x = 5\n",
    "y = 10\n",
    "x + y"
   ]
  },
  {
   "cell_type": "code",
   "execution_count": null,
   "id": "22995e8a",
   "metadata": {},
   "outputs": [],
   "source": [
    "type(x)"
   ]
  },
  {
   "cell_type": "code",
   "execution_count": null,
   "id": "74b7869d",
   "metadata": {},
   "outputs": [],
   "source": [
    "type(y)"
   ]
  },
  {
   "cell_type": "code",
   "execution_count": null,
   "id": "8947d5fa",
   "metadata": {},
   "outputs": [],
   "source": [
    "x = 'string'\n",
    "y = 'also_string'"
   ]
  },
  {
   "cell_type": "code",
   "execution_count": null,
   "id": "7748a9d2",
   "metadata": {},
   "outputs": [],
   "source": [
    "print(type(x))"
   ]
  },
  {
   "cell_type": "code",
   "execution_count": null,
   "id": "c50c1648",
   "metadata": {},
   "outputs": [],
   "source": [
    "type(x)"
   ]
  },
  {
   "cell_type": "code",
   "execution_count": null,
   "id": "82eb4367",
   "metadata": {},
   "outputs": [],
   "source": [
    "print(type(y))"
   ]
  },
  {
   "cell_type": "code",
   "execution_count": null,
   "id": "282edad0",
   "metadata": {},
   "outputs": [],
   "source": [
    "type(y)"
   ]
  },
  {
   "cell_type": "code",
   "execution_count": null,
   "id": "f3ffcab2",
   "metadata": {},
   "outputs": [],
   "source": [
    "# This program concatenates first and last name and displays fullname.\n",
    "\n",
    "First_name = 'James'\n",
    "Last_name = 'Potter'\n",
    "Fullname = First_name + ' ' + Last_name\n",
    "print(Fullname)"
   ]
  },
  {
   "cell_type": "code",
   "execution_count": null,
   "id": "d9a68582",
   "metadata": {},
   "outputs": [],
   "source": [
    "type(Fullname)"
   ]
  },
  {
   "cell_type": "code",
   "execution_count": null,
   "id": "6b6f1c94",
   "metadata": {},
   "outputs": [],
   "source": [
    "# This program displays name and says witty stuff.\n",
    "\n",
    "First_name = input(\"What is your first name?\\t\")\n",
    "Last_name = input(\"Last name too?\\t\")\n",
    "Age = str(input(\"Your age ?\\t \"))\n",
    "Fullname = First_name + ' ' + Last_name\n",
    "\n",
    "print('Hello, ' + Fullname + '!' '\\n\\n')\n",
    "print('It must be nice to be ' + Age + '; I am a computer, I have no age!')\n"
   ]
  },
  {
   "cell_type": "code",
   "execution_count": 3,
   "id": "3f02f0f2",
   "metadata": {
    "scrolled": true
   },
   "outputs": [
    {
     "name": "stdout",
     "output_type": "stream",
     "text": [
      "What is your name?\n",
      "A\n",
      "What is your name?\n",
      "B\n",
      "What is your name?\n",
      "C\n",
      "Hello, A, B, C! Welcome to McDonalds!\n"
     ]
    }
   ],
   "source": [
    "friend1 = input('What is your name?\\n')\n",
    "friend2 = input('What is your name?\\n')\n",
    "friend3 = input('What is your name?\\n')\n",
    "print('Hello, ' + friend1 + ', ' + friend2 + ', ' + friend3 + '!' + ' Welcome to McDonalds!') "
   ]
  },
  {
   "cell_type": "code",
   "execution_count": 2,
   "id": "cd6d798d",
   "metadata": {},
   "outputs": [
    {
     "name": "stdout",
     "output_type": "stream",
     "text": [
      "Enter any integer number: 60\n",
      "60.0\n"
     ]
    }
   ],
   "source": [
    "integer_value = int(input('Enter any integer number: '))\n",
    "float_value = float(integer_value)\n",
    "print(float_value)"
   ]
  },
  {
   "cell_type": "code",
   "execution_count": 6,
   "id": "77130d76",
   "metadata": {},
   "outputs": [
    {
     "name": "stdout",
     "output_type": "stream",
     "text": [
      "Enter the temperature in Celcius: 233\n",
      "451.4\n"
     ]
    }
   ],
   "source": [
    "celcius = float(input('Enter the temperature in Celcius: '))\n",
    "fahr = (celcius * 9) / 5 + 32\n",
    "print(fahr)"
   ]
  },
  {
   "cell_type": "code",
   "execution_count": null,
   "id": "8e8afabc",
   "metadata": {},
   "outputs": [],
   "source": []
  },
  {
   "cell_type": "code",
   "execution_count": null,
   "id": "c8f88719",
   "metadata": {},
   "outputs": [],
   "source": []
  }
 ],
 "metadata": {
  "kernelspec": {
   "display_name": "Python 3 (ipykernel)",
   "language": "python",
   "name": "python3"
  },
  "language_info": {
   "codemirror_mode": {
    "name": "ipython",
    "version": 3
   },
   "file_extension": ".py",
   "mimetype": "text/x-python",
   "name": "python",
   "nbconvert_exporter": "python",
   "pygments_lexer": "ipython3",
   "version": "3.8.10"
  }
 },
 "nbformat": 4,
 "nbformat_minor": 5
}
