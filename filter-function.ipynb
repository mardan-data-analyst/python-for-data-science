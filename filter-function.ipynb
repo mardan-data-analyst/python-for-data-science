{
 "cells": [
  {
   "cell_type": "code",
   "execution_count": 1,
   "id": "d6b8e4f6",
   "metadata": {},
   "outputs": [
    {
     "data": {
      "text/plain": [
       "[1, 4, 9, 16, 25, 36, 49, 64, 81, 100]"
      ]
     },
     "execution_count": 1,
     "metadata": {},
     "output_type": "execute_result"
    }
   ],
   "source": [
    "square = lambda number: number**2\n",
    "square(5)\n",
    "\n",
    "# This program squares all the elements in a list\n",
    "\n",
    "List = list(range(1,11))\n",
    "\n",
    "# using the lambda expression 'square'\n",
    "new_list1 = list(map(square, List))\n",
    "new_list1"
   ]
  },
  {
   "cell_type": "code",
   "execution_count": null,
   "id": "8d8a8e65",
   "metadata": {},
   "outputs": [],
   "source": [
    "# Extracting even numbers"
   ]
  },
  {
   "cell_type": "code",
   "execution_count": 3,
   "id": "e4a59576",
   "metadata": {},
   "outputs": [
    {
     "data": {
      "text/plain": [
       "[4, 16, 36, 64, 100]"
      ]
     },
     "execution_count": 3,
     "metadata": {},
     "output_type": "execute_result"
    }
   ],
   "source": [
    "criteria = lambda value: value%2 == 0 # even number identifier\n",
    "# using new list from example map-function.ipynb which has also been transfered here above cell.\n",
    "even_list = list(filter(criteria, new_list1))\n",
    "even_list"
   ]
  }
 ],
 "metadata": {
  "kernelspec": {
   "display_name": "Python 3 (ipykernel)",
   "language": "python",
   "name": "python3"
  },
  "language_info": {
   "codemirror_mode": {
    "name": "ipython",
    "version": 3
   },
   "file_extension": ".py",
   "mimetype": "text/x-python",
   "name": "python",
   "nbconvert_exporter": "python",
   "pygments_lexer": "ipython3",
   "version": "3.8.10"
  }
 },
 "nbformat": 4,
 "nbformat_minor": 5
}
