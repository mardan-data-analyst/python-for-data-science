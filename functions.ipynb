{
 "cells": [
  {
   "cell_type": "code",
   "execution_count": 1,
   "id": "bcc00c53",
   "metadata": {},
   "outputs": [],
   "source": [
    "def greet(name):\n",
    "    print('Hello', name)"
   ]
  },
  {
   "cell_type": "code",
   "execution_count": 2,
   "id": "6631b438",
   "metadata": {},
   "outputs": [
    {
     "name": "stdout",
     "output_type": "stream",
     "text": [
      "Hello David\n"
     ]
    }
   ],
   "source": [
    "greet('David')"
   ]
  },
  {
   "cell_type": "code",
   "execution_count": 3,
   "id": "e676ab4e",
   "metadata": {},
   "outputs": [
    {
     "name": "stdout",
     "output_type": "stream",
     "text": [
      "Hello Python User guy\n"
     ]
    }
   ],
   "source": [
    "greet('Python User guy')"
   ]
  },
  {
   "cell_type": "code",
   "execution_count": 4,
   "id": "a53aee80",
   "metadata": {},
   "outputs": [],
   "source": [
    "# function that creates a user-defined list\n",
    "\n",
    "def custom_list(n_items):\n",
    "    \"\"\"This function accepts a numeric value and creates a list. \n",
    "    The list contains squares of odd numbers within the range of 1 and user input,\n",
    "    as well as, half values for the even numbers in that range.\n",
    "    syntax: custom_list(numeric_value)\n",
    "    \"\"\"\n",
    "    if n_items > 0: #This insures user compliance\n",
    "        new_List = [x**2 if x % 2 != 0 else x / 2 for x in range (1, n_items+1)]\n",
    "    else: print('Enter a valid number!')\n",
    "    \n",
    "    print('\\n Here is your custom list\\n\\n', new_List)      "
   ]
  },
  {
   "cell_type": "code",
   "execution_count": 5,
   "id": "326d636d",
   "metadata": {},
   "outputs": [
    {
     "name": "stdout",
     "output_type": "stream",
     "text": [
      "\n",
      " Here is your custom list\n",
      "\n",
      " [1, 1.0, 9, 2.0, 25]\n"
     ]
    }
   ],
   "source": [
    "# calling the function\n",
    "custom_list(5)"
   ]
  },
  {
   "cell_type": "code",
   "execution_count": 11,
   "id": "30ca2283",
   "metadata": {},
   "outputs": [
    {
     "data": {
      "text/plain": [
       "[1, 2, 3, 4, 5]"
      ]
     },
     "execution_count": 11,
     "metadata": {},
     "output_type": "execute_result"
    }
   ],
   "source": [
    "List1 = list(range(1,6))\n",
    "List1"
   ]
  },
  {
   "cell_type": "code",
   "execution_count": 12,
   "id": "2aba0a50",
   "metadata": {},
   "outputs": [],
   "source": [
    "# function that creates a user-defined list and returns a value.\n",
    "\n",
    "def custom_list(n_items):\n",
    "    \"\"\"\n",
    "    This function accepts a numeric value and \n",
    "    returns a list.\n",
    "    The list contains squares of odd numbers within the range\n",
    "    of 1 and user input, as well as, half values \n",
    "    for the even numbers in that range.\n",
    "    syntax: List_name = custom_list(numeric value)\n",
    "    \"\"\"\n",
    "    if n_items > 0: # This insures user compliance\n",
    "        new_List = [x**2 if x % 2 != 0 else x / 2 for x in range(1, n_items + 1)]\n",
    "    else: print('Enter a valid number!')\n",
    "    \n",
    "    return new_List\n",
    "    "
   ]
  },
  {
   "cell_type": "code",
   "execution_count": 13,
   "id": "7908f89a",
   "metadata": {},
   "outputs": [
    {
     "data": {
      "text/plain": [
       "[1, 1.0, 9, 2.0, 25, 3.0, 49, 4.0, 81, 5.0]"
      ]
     },
     "execution_count": 13,
     "metadata": {},
     "output_type": "execute_result"
    }
   ],
   "source": [
    "List2 = custom_list(10)\n",
    "List2"
   ]
  },
  {
   "cell_type": "code",
   "execution_count": 14,
   "id": "baff524a",
   "metadata": {},
   "outputs": [
    {
     "data": {
      "text/plain": [
       "[1, 2, 3, 4, 5, 6, 7, 8, 9, 10]"
      ]
     },
     "execution_count": 14,
     "metadata": {},
     "output_type": "execute_result"
    }
   ],
   "source": [
    "List3 = list(range(1, 11))\n",
    "List3"
   ]
  },
  {
   "cell_type": "code",
   "execution_count": 16,
   "id": "bebf8b01",
   "metadata": {},
   "outputs": [
    {
     "data": {
      "text/plain": [
       "['1', '2', '3', '4', '5', '6']"
      ]
     },
     "execution_count": 16,
     "metadata": {},
     "output_type": "execute_result"
    }
   ],
   "source": [
    "string = '123456ABC'\n",
    "A = [x for x in string if x.isdigit()]\n",
    "A"
   ]
  },
  {
   "cell_type": "code",
   "execution_count": 24,
   "id": "c195253c",
   "metadata": {},
   "outputs": [],
   "source": [
    "def extract_numbers(items):\n",
    "    items = [item for item in items if type(item) == int]\n",
    "    return items"
   ]
  },
  {
   "cell_type": "code",
   "execution_count": 26,
   "id": "d4ad3436",
   "metadata": {},
   "outputs": [
    {
     "data": {
      "text/plain": [
       "[1, 35, 45]"
      ]
     },
     "execution_count": 26,
     "metadata": {},
     "output_type": "execute_result"
    }
   ],
   "source": [
    "extract_numbers([1, 'a', 'B', 'C', 35, 45])"
   ]
  },
  {
   "cell_type": "code",
   "execution_count": 39,
   "id": "efc07340",
   "metadata": {},
   "outputs": [],
   "source": [
    "def extract_nums(nums):\n",
    "    nums = [num for num in nums if num.isdigit()]\n",
    "    return nums"
   ]
  },
  {
   "cell_type": "code",
   "execution_count": 43,
   "id": "6aa87717",
   "metadata": {},
   "outputs": [
    {
     "data": {
      "text/plain": [
       "['1', '5454']"
      ]
     },
     "execution_count": 43,
     "metadata": {},
     "output_type": "execute_result"
    }
   ],
   "source": [
    "extract_nums([']a','d','1', '5454'])"
   ]
  }
 ],
 "metadata": {
  "kernelspec": {
   "display_name": "Python 3 (ipykernel)",
   "language": "python",
   "name": "python3"
  },
  "language_info": {
   "codemirror_mode": {
    "name": "ipython",
    "version": 3
   },
   "file_extension": ".py",
   "mimetype": "text/x-python",
   "name": "python",
   "nbconvert_exporter": "python",
   "pygments_lexer": "ipython3",
   "version": "3.8.10"
  }
 },
 "nbformat": 4,
 "nbformat_minor": 5
}
